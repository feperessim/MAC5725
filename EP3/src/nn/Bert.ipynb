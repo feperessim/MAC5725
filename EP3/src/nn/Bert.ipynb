{
 "cells": [
  {
   "cell_type": "code",
   "execution_count": null,
   "metadata": {
    "colab": {
     "base_uri": "https://localhost:8080/"
    },
    "id": "36rX26b2-TMo",
    "outputId": "d8fd87f5-c5e2-444f-f778-77e07e007151"
   },
   "outputs": [
    {
     "name": "stdout",
     "output_type": "stream",
     "text": [
      "Mon Dec 14 20:02:55 2020       \n",
      "+-----------------------------------------------------------------------------+\n",
      "| NVIDIA-SMI 455.45.01    Driver Version: 418.67       CUDA Version: 10.1     |\n",
      "|-------------------------------+----------------------+----------------------+\n",
      "| GPU  Name        Persistence-M| Bus-Id        Disp.A | Volatile Uncorr. ECC |\n",
      "| Fan  Temp  Perf  Pwr:Usage/Cap|         Memory-Usage | GPU-Util  Compute M. |\n",
      "|                               |                      |               MIG M. |\n",
      "|===============================+======================+======================|\n",
      "|   0  Tesla T4            Off  | 00000000:00:04.0 Off |                    0 |\n",
      "| N/A   43C    P8     9W /  70W |      0MiB / 15079MiB |      0%      Default |\n",
      "|                               |                      |                 ERR! |\n",
      "+-------------------------------+----------------------+----------------------+\n",
      "                                                                               \n",
      "+-----------------------------------------------------------------------------+\n",
      "| Processes:                                                                  |\n",
      "|  GPU   GI   CI        PID   Type   Process name                  GPU Memory |\n",
      "|        ID   ID                                                   Usage      |\n",
      "|=============================================================================|\n",
      "|  No running processes found                                                 |\n",
      "+-----------------------------------------------------------------------------+\n"
     ]
    }
   ],
   "source": [
    "!nvidia-smi"
   ]
  },
  {
   "cell_type": "code",
   "execution_count": null,
   "metadata": {
    "colab": {
     "base_uri": "https://localhost:8080/"
    },
    "id": "9faeH4LvN7no",
    "outputId": "fd1e86d3-7938-4273-be08-4ea0406cb7d4"
   },
   "outputs": [
    {
     "name": "stdout",
     "output_type": "stream",
     "text": [
      "Collecting transformers\n",
      "\u001b[?25l  Downloading https://files.pythonhosted.org/packages/ed/db/98c3ea1a78190dac41c0127a063abf92bd01b4b0b6970a6db1c2f5b66fa0/transformers-4.0.1-py3-none-any.whl (1.4MB)\n",
      "\u001b[K     |████████████████████████████████| 1.4MB 8.0MB/s \n",
      "\u001b[?25hCollecting sacremoses\n",
      "\u001b[?25l  Downloading https://files.pythonhosted.org/packages/7d/34/09d19aff26edcc8eb2a01bed8e98f13a1537005d31e95233fd48216eed10/sacremoses-0.0.43.tar.gz (883kB)\n",
      "\u001b[K     |████████████████████████████████| 890kB 29.1MB/s \n",
      "\u001b[?25hRequirement already satisfied: tqdm>=4.27 in /usr/local/lib/python3.6/dist-packages (from transformers) (4.41.1)\n",
      "Requirement already satisfied: filelock in /usr/local/lib/python3.6/dist-packages (from transformers) (3.0.12)\n",
      "Requirement already satisfied: regex!=2019.12.17 in /usr/local/lib/python3.6/dist-packages (from transformers) (2019.12.20)\n",
      "Requirement already satisfied: dataclasses; python_version < \"3.7\" in /usr/local/lib/python3.6/dist-packages (from transformers) (0.8)\n",
      "Requirement already satisfied: numpy in /usr/local/lib/python3.6/dist-packages (from transformers) (1.18.5)\n",
      "Requirement already satisfied: requests in /usr/local/lib/python3.6/dist-packages (from transformers) (2.23.0)\n",
      "Requirement already satisfied: packaging in /usr/local/lib/python3.6/dist-packages (from transformers) (20.7)\n",
      "Collecting tokenizers==0.9.4\n",
      "\u001b[?25l  Downloading https://files.pythonhosted.org/packages/0f/1c/e789a8b12e28be5bc1ce2156cf87cb522b379be9cadc7ad8091a4cc107c4/tokenizers-0.9.4-cp36-cp36m-manylinux2010_x86_64.whl (2.9MB)\n",
      "\u001b[K     |████████████████████████████████| 2.9MB 19.4MB/s \n",
      "\u001b[?25hRequirement already satisfied: six in /usr/local/lib/python3.6/dist-packages (from sacremoses->transformers) (1.15.0)\n",
      "Requirement already satisfied: click in /usr/local/lib/python3.6/dist-packages (from sacremoses->transformers) (7.1.2)\n",
      "Requirement already satisfied: joblib in /usr/local/lib/python3.6/dist-packages (from sacremoses->transformers) (0.17.0)\n",
      "Requirement already satisfied: chardet<4,>=3.0.2 in /usr/local/lib/python3.6/dist-packages (from requests->transformers) (3.0.4)\n",
      "Requirement already satisfied: certifi>=2017.4.17 in /usr/local/lib/python3.6/dist-packages (from requests->transformers) (2020.12.5)\n",
      "Requirement already satisfied: idna<3,>=2.5 in /usr/local/lib/python3.6/dist-packages (from requests->transformers) (2.10)\n",
      "Requirement already satisfied: urllib3!=1.25.0,!=1.25.1,<1.26,>=1.21.1 in /usr/local/lib/python3.6/dist-packages (from requests->transformers) (1.24.3)\n",
      "Requirement already satisfied: pyparsing>=2.0.2 in /usr/local/lib/python3.6/dist-packages (from packaging->transformers) (2.4.7)\n",
      "Building wheels for collected packages: sacremoses\n",
      "  Building wheel for sacremoses (setup.py) ... \u001b[?25l\u001b[?25hdone\n",
      "  Created wheel for sacremoses: filename=sacremoses-0.0.43-cp36-none-any.whl size=893261 sha256=6390978690ba86c453857d37f66ee6c09469fec508ebf737226b1a7037d3c023\n",
      "  Stored in directory: /root/.cache/pip/wheels/29/3c/fd/7ce5c3f0666dab31a50123635e6fb5e19ceb42ce38d4e58f45\n",
      "Successfully built sacremoses\n",
      "Installing collected packages: sacremoses, tokenizers, transformers\n",
      "Successfully installed sacremoses-0.0.43 tokenizers-0.9.4 transformers-4.0.1\n"
     ]
    }
   ],
   "source": [
    "!pip install transformers # necessário para usar o Bert"
   ]
  },
  {
   "cell_type": "code",
   "execution_count": null,
   "metadata": {
    "colab": {
     "base_uri": "https://localhost:8080/"
    },
    "id": "j5cF5pc9Mzc-",
    "outputId": "bb56d161-5634-43ac-f7b7-167ddf951e62"
   },
   "outputs": [
    {
     "name": "stdout",
     "output_type": "stream",
     "text": [
      "Collecting nltk==3.5\n",
      "\u001b[?25l  Downloading https://files.pythonhosted.org/packages/92/75/ce35194d8e3022203cca0d2f896dbb88689f9b3fce8e9f9cff942913519d/nltk-3.5.zip (1.4MB)\n",
      "\u001b[K     |████████████████████████████████| 1.4MB 7.6MB/s \n",
      "\u001b[?25hRequirement already satisfied: click in /usr/local/lib/python3.6/dist-packages (from nltk==3.5) (7.1.2)\n",
      "Requirement already satisfied: joblib in /usr/local/lib/python3.6/dist-packages (from nltk==3.5) (0.17.0)\n",
      "Requirement already satisfied: regex in /usr/local/lib/python3.6/dist-packages (from nltk==3.5) (2019.12.20)\n",
      "Requirement already satisfied: tqdm in /usr/local/lib/python3.6/dist-packages (from nltk==3.5) (4.41.1)\n",
      "Building wheels for collected packages: nltk\n",
      "  Building wheel for nltk (setup.py) ... \u001b[?25l\u001b[?25hdone\n",
      "  Created wheel for nltk: filename=nltk-3.5-cp36-none-any.whl size=1434676 sha256=bd1ea6a6122e1a8ed7be5c95299bc1788849f1b4015c739ea2b5d613b5fe57df\n",
      "  Stored in directory: /root/.cache/pip/wheels/ae/8c/3f/b1fe0ba04555b08b57ab52ab7f86023639a526d8bc8d384306\n",
      "Successfully built nltk\n",
      "Installing collected packages: nltk\n",
      "  Found existing installation: nltk 3.2.5\n",
      "    Uninstalling nltk-3.2.5:\n",
      "      Successfully uninstalled nltk-3.2.5\n",
      "Successfully installed nltk-3.5\n"
     ]
    }
   ],
   "source": [
    "!pip install \"nltk==3.5\" # necessário para usar o meteor"
   ]
  },
  {
   "cell_type": "code",
   "execution_count": null,
   "metadata": {
    "id": "q6bRWLZlNsOU"
   },
   "outputs": [],
   "source": [
    "import pandas as pd\n",
    "import numpy as np\n",
    "import re\n",
    "import string\n",
    "import matplotlib.pyplot as plt\n",
    "import seaborn as sns\n",
    "import tensorflow as tf\n",
    "import nltk\n",
    "import random\n",
    "\n",
    "# BERT\n",
    "from transformers import (\n",
    "    BertTokenizer,\n",
    "    TFBertForSequenceClassification,\n",
    "    TFBertForMaskedLM,\n",
    "    TFTrainer,\n",
    "    TFTrainingArguments,\n",
    "    pipeline,\n",
    ")\n",
    "\n",
    "# Train test split\n",
    "from sklearn.model_selection import train_test_split\n",
    "\n",
    "from tqdm.notebook import tqdm # necessário para mostrar a barra de progresso\n",
    "\n",
    "from nltk.translate.bleu_score import sentence_bleu, corpus_bleu\n",
    "from nltk.translate.meteor_score import meteor_score"
   ]
  },
  {
   "cell_type": "code",
   "execution_count": null,
   "metadata": {
    "colab": {
     "base_uri": "https://localhost:8080/"
    },
    "id": "b5J4aTHOMknK",
    "outputId": "a8fd9d74-d5c3-499a-a4b4-1e180fbc3d17"
   },
   "outputs": [
    {
     "name": "stderr",
     "output_type": "stream",
     "text": [
      "[nltk_data] Downloading package wordnet to /root/nltk_data...\n",
      "[nltk_data]   Package wordnet is already up-to-date!\n"
     ]
    },
    {
     "data": {
      "text/plain": [
       "True"
      ]
     },
     "execution_count": 14,
     "metadata": {
      "tags": []
     },
     "output_type": "execute_result"
    }
   ],
   "source": [
    "nltk.download('wordnet') # necessário para usar o meteor"
   ]
  },
  {
   "cell_type": "code",
   "execution_count": null,
   "metadata": {
    "id": "FMjQLfeEgRjj"
   },
   "outputs": [],
   "source": [
    "seed = 0\n",
    "np.random.seed(seed)\n",
    "random.seed(seed)"
   ]
  },
  {
   "cell_type": "code",
   "execution_count": null,
   "metadata": {
    "id": "nipfHL_UNsOU"
   },
   "outputs": [],
   "source": [
    "CLS = '[CLS]'\n",
    "SEP = '[SEP]'\n",
    "MASK = '[MASK]'\n",
    "# EOS = '[EOS]'\n",
    "EOS = '[unused99]'\n",
    "SPC = ' '\n",
    "\n",
    "# path = '../data/b2w-10k.csv'\n",
    "# sep = ','\n",
    "# percent = 1\n",
    "\n",
    "# path = \"https://raw.githubusercontent.com/feperessim/NLPortugues/master/Semana%2006/data/b2w-10k.csv\"\n",
    "# sep = ','\n",
    "# percent = 1\n",
    "\n",
    "# path = '../data/B2W-Reviews01.csv\n",
    "# sep = ';'\n",
    "# percent = 0.2\n",
    "\n",
    "path = 'https://raw.githubusercontent.com/b2wdigital/b2w-reviews01/master/B2W-Reviews01.csv'\n",
    "sep = ';'\n",
    "percent = 0.25\n",
    "\n",
    "sns.set_theme()"
   ]
  },
  {
   "cell_type": "code",
   "execution_count": null,
   "metadata": {
    "id": "Nxb8I9a8NsOU"
   },
   "outputs": [],
   "source": [
    "contraction_mapping = {'ñ' : 'não', 'n' : 'não', 'naum' : 'não', 's':'sim', 'vc' : \n",
    "                       'você', 'tbm' : 'também', 'tbn':'também', 'tb' : 'também', \n",
    "                       'kd' : 'cade', 'kade' : 'cade', 'kual' : 'qual', 'mt' : 'muito',\n",
    "                       'msm' : 'mesmo', 'axo' : 'acho', 'q' : 'que', 'hj' : 'hoje', \n",
    "                       'blz' : 'beleza', 'ctz' : 'certeza', 'fikdik' : 'fica a dica',\n",
    "                       'glr' : 'galera', 'msg' : 'mensagem', 'pfv' : 'por favor', \n",
    "                       'plmdds' : 'pelo amor de deus', 'pq' : 'porque', 'vdd' : 'verdade', \n",
    "                       'bosta' : 'ruim', 'merda' : 'ruim', 'abç' : 'abraço', 'bj' : 'beijo',\n",
    "                       'bjs' : 'beijos', 't+' : 'até mais', 'eh' : 'é', 'aki' : 'aqui', 'ruin':'ruim'}"
   ]
  },
  {
   "cell_type": "code",
   "execution_count": null,
   "metadata": {
    "id": "S7jqZHuUNsOU"
   },
   "outputs": [],
   "source": [
    "def preprocess_sentence(sentence):\n",
    "    '''\n",
    "    Normalize preprocess a sequence of words\n",
    "    in a sentence. \n",
    "    This function does the following:\n",
    "    \n",
    "    1 - Convert everything to lowercase;\n",
    "        removes trailing and leading spaces\n",
    "    \n",
    "    2 - remove digits\n",
    "    \n",
    "    3 - Creates a space between a word and the\n",
    "        punctuation following it;\n",
    "        also, it replaces repetitions of\n",
    "        punctuations by a single instance;\n",
    "    \n",
    "    4 - replaces informal contractions by \n",
    "        its equivalent formal word.\n",
    "        \n",
    "    5 - # replaces special symbols\n",
    "        \n",
    "    Add a start and end token to each sentence.\n",
    "    \n",
    "    Args:\n",
    "        sentence - a human readable string\n",
    "    returns:\n",
    "        a string of preprocessed text\n",
    "    '''\n",
    "    # Convert to lower case; remove digits; \n",
    "    # and replace many dots by a single one\n",
    "    # keep only words with length at most WORD_MAX_LEN\n",
    "    sentence = sentence.lower().strip()\n",
    "    sentence = sentence.translate(str.maketrans('', '', string.digits))\n",
    "\n",
    "    # replace multiple punctuation by a single one\n",
    "    # Reference: https://stackoverflow.com/questions/35041672/regex-replace-multiple-punctuation-in-python\n",
    "    sentence = re.sub(r'[\\?\\.\\!]+(?=[\\?\\.\\!])', \"\", sentence)\n",
    "    \n",
    "    # creating a space between a word and the punctuation following it\n",
    "    # eg: \"ele é um menino.\" => \"ele é um menino .\"\n",
    "    # Reference: https://stackoverflow.com/questions/3645931/python-padding-punctuation-with-white-spaces-keeping-punctuation\n",
    "    sentence = re.sub(r\"([?.!,¿])\", r\" \\1 \", sentence)\n",
    "    sentence = re.sub(r'[\" \"]+', \" \", sentence)\n",
    "    \n",
    "    # replace contractions by the real word e.g vc - você\n",
    "    sentence = ' '.join([contraction_mapping[word]\n",
    "                         if word in contraction_mapping\n",
    "                         else word for word in sentence.split(' ')])\n",
    "    \n",
    "    # replace special symbols\n",
    "    sentence = re.sub('[!*)@#%(&$_^~]', '', sentence)\n",
    "    \n",
    "    sentence = sentence.strip()\n",
    "    \n",
    "    return sentence"
   ]
  },
  {
   "cell_type": "code",
   "execution_count": null,
   "metadata": {
    "id": "SPmDLct5NsOU"
   },
   "outputs": [],
   "source": [
    "def tokenize(sentences, tokenizer=None, ref_model = None, maxlen=50, add_special_tokens=True):\n",
    "    '''\n",
    "    Encodes a string to an array of integers\n",
    "\n",
    "    Args:\n",
    "        sentences (list): list of human-readable strings to encode  \n",
    "        tokenizer () : Bert tokenizer instance\n",
    "        ref_model (str) : bert reference model\n",
    "        maxlen (int) : max length of a sequence to pad and truncate\n",
    "    Returns:\n",
    "        (dict : numpy array) input_ids, token_type_ids, attention_mask\n",
    "        Tokenizer: Bert tokenizer instance\n",
    "    '''\n",
    "    # Bert Tokenizer\n",
    "    if tokenizer is None:\n",
    "      tokenizer = BertTokenizer.from_pretrained(ref_model)\n",
    "      tokenizer.eos_token = EOS\n",
    "      # tokenizer = BertTokenizer.from_pretrained(ref_model, eos_token=EOS) # Não funciona a loss da nan\n",
    "    \n",
    "    # tokenizer.add_tokens([EOS]) # Não funciona a loss da nan\n",
    "    \n",
    "    encoded = tokenizer(\n",
    "        [[line] for line in sentences],\n",
    "        text_pair=None,\n",
    "        is_split_into_words=True,\n",
    "        padding=\"max_length\",\n",
    "        truncation=True,\n",
    "        max_length=maxlen,\n",
    "        pad_to_max_length=True,\n",
    "        return_tensors='np',\n",
    "        add_special_tokens=add_special_tokens)\n",
    "    \n",
    "    return encoded, tokenizer"
   ]
  },
  {
   "cell_type": "code",
   "execution_count": null,
   "metadata": {
    "id": "mA-56_wONsOU"
   },
   "outputs": [],
   "source": [
    "def create_dataset(x, y):\n",
    "    '''\n",
    "    Apply the transformations in\n",
    "    the function preprocess_sentence\n",
    "    to every line of text in x and y\n",
    "    Args:\n",
    "        x, y - list of human readable strings\n",
    "    returns:\n",
    "        list of human readable strings preprocessed\n",
    "    '''\n",
    "    return ([preprocess_sentence(sentence) for sentence in x],\n",
    "            [preprocess_sentence(sentence) for sentence in y])"
   ]
  },
  {
   "cell_type": "code",
   "execution_count": null,
   "metadata": {
    "id": "5IE3pErqNsOU"
   },
   "outputs": [],
   "source": [
    "def load_dataset_and_preprocess(path='../data/b2w-10k.csv', sep=',', percent=1):\n",
    "    '''\n",
    "    creating cleaned input, output pairs of\n",
    "    length at most SEQUENCE_MAXLEN\n",
    "    Args:\n",
    "        path (string) : full path to the dataset\n",
    "    returns:\n",
    "        (list of strings, list of strings): text and title \n",
    "        lists of strings\n",
    "    '''\n",
    "    usecols = [\"review_text\", \"review_title\"]\n",
    "    \n",
    "    dataset = pd.read_csv(path, usecols=usecols, sep=sep, error_bad_lines=False)\n",
    "    if percent != 1:\n",
    "      dataset = dataset.sample(frac=percent)\n",
    "    # dropping duplicates and dropping na\n",
    "    dataset.drop_duplicates(subset=['review_text'], inplace=True)\n",
    "    dataset.dropna(axis=0,inplace=True)\n",
    "    \n",
    "    # dropping sentences with length <= 2\n",
    "    dataset = dataset[dataset['review_text'].apply(len) > 2]\n",
    "    dataset = dataset[dataset['review_title'].apply(len) > 2]\n",
    "\n",
    "    text, title = create_dataset(dataset[\"review_text\"].values, dataset[\"review_title\"].values)\n",
    "    \n",
    "    return text, title"
   ]
  },
  {
   "cell_type": "code",
   "execution_count": null,
   "metadata": {
    "id": "ftgYP6LgNsOU"
   },
   "outputs": [],
   "source": [
    "def generate_pairs(text, title, text_max_nb_words=None, title_max_nb_words=None):\n",
    "    '''\n",
    "    Generate pairs for summary task\n",
    "    with bert\n",
    "    Args:\n",
    "        text (numpy:list) : numpy array with lists of text reviews\n",
    "        title (numpy:list) : numpy array with lists of title reviews\n",
    "        text_max_nb_words (int) : max number of words to truncate text review\n",
    "        title_max_nb_words (int) : max number of words to truncate title review\n",
    "    returns:\n",
    "        pairs (list of strings, list of strings) : pairs with lists of strings of \n",
    "        text and title \n",
    "    '''\n",
    "    pairs = []\n",
    "    text_truncated = ' '.join(text.split()[:text_max_nb_words])\n",
    "    title_truncated = ' '.join(title.split()[:title_max_nb_words]) + SPC + EOS + SPC\n",
    "    spl = title_truncated.split()\n",
    "\n",
    "    for w in range(len(spl)):\n",
    "        # new_text = CLS + SPC + text_truncated + SPC + SEP + SPC + ' '.join(spl[:w]) + SPC + MASK + SPC + SEP\n",
    "        new_text = text_truncated + SPC + SEP + SPC + ' '.join(spl[:w]) + SPC + MASK\n",
    "        # pairs.append([new_text, spl[w]])\n",
    "        new_output = text_truncated + SPC + SEP + SPC + ' '.join(spl[:w]) + SPC + spl[w]\n",
    "        pairs.append([new_text, new_output])\n",
    "        \n",
    "    return pairs"
   ]
  },
  {
   "cell_type": "code",
   "execution_count": null,
   "metadata": {
    "id": "OL5Ja4d2NsOU"
   },
   "outputs": [],
   "source": [
    "def generate_samples(text, title, text_max_nb_words=None, title_max_nb_words=None):\n",
    "    '''\n",
    "    Generate samples for summary task - helper function\n",
    "    with bert\n",
    "    Args:\n",
    "        text (numpy:list) : numpy array with lists of text reviews\n",
    "        title (numpy:list) : numpy array with lists of title reviews\n",
    "        text_max_nb_words (int) : max number of words to truncate text review\n",
    "        title_max_nb_words (int) : max number of words to truncate title review\n",
    "    returns:\n",
    "        (text, title) (list of strings, list of strings) :  samples\n",
    "    '''\n",
    "    new_text = []\n",
    "    new_title = []\n",
    "    \n",
    "    for i in range(len(text)):\n",
    "        pairs = generate_pairs(text[i], title[i], text_max_nb_words, title_max_nb_words)\n",
    "        new_text.extend([sample[0] for sample in pairs])\n",
    "        new_title.extend([sample[1] for sample in pairs])\n",
    "    \n",
    "    return new_text, new_title"
   ]
  },
  {
   "cell_type": "code",
   "execution_count": null,
   "metadata": {
    "id": "oL1SaGsOYxJJ"
   },
   "outputs": [],
   "source": [
    "def predict_and_decode_sequences(data, model, sent_max_len, sent_max_nb_words, seq_max_len, tokenizer):\n",
    "  '''\n",
    "  Predicts the title review given\n",
    "  a text review sentence.\n",
    "  args:\n",
    "    data (list:str) or (numpy array:str) - list/array \n",
    "    of human readable strings\n",
    "\n",
    "    model (keras model) : keras model used to predict\n",
    "    the sentence title review\n",
    "    \n",
    "    sent_max_len (int) : max number of characters of the\n",
    "    predicted sentence\n",
    "\n",
    "    sent_max_nb_words (int) : max number of words of the\n",
    "    predicted sentence\n",
    "\n",
    "    seq_max_len (int) : sequence max length\n",
    "\n",
    "    tokenizer (Bert pretreined tokenizer) - Bert tokenizer\n",
    "\n",
    "  returns:\n",
    "    sentences (list:str) : list of predicted titles\n",
    "  '''\n",
    "\n",
    "  sentences = []\n",
    "  with tqdm(total=len(data)) as pbar:\n",
    "    for sentence in data:\n",
    "      next_sent = ' '.join(sentence.split()[:sent_max_nb_words]) + SPC + SEP + MASK\n",
    "      result = ''\n",
    "      predicted_word = ''\n",
    "\n",
    "      while len(result) <= sent_max_len and predicted_word != EOS:\n",
    "        # Tokenize sentence and get the index of [MAK]\n",
    "        # tokenized_sent = tok(next_sent)\n",
    "        tokenized_sent, _ = tokenize([next_sent], tokenizer, maxlen=seq_max_len)\n",
    "        mask_idx = np.where(tokenized_sent['input_ids'][0] == tokenizer.mask_token_id)[0]\n",
    "        if len(mask_idx) == 0:\n",
    "          break\n",
    "        mask_idx = mask_idx[0]\n",
    "        # Make prediction and get the word indexes\n",
    "        pred = model.predict([tokenized_sent['input_ids'], tokenized_sent[\"attention_mask\"]])\n",
    "        prediction = np.argmax(pred.logits, axis=-1)\n",
    "        # decode predicted sequence to human readable string\n",
    "        new_sent = tokenizer.convert_tokens_to_string(tokenizer.convert_ids_to_tokens(prediction[0][0:mask_idx]))\n",
    "        predicted_word = tokenizer.ids_to_tokens[int(prediction[0][mask_idx-1])]\n",
    "\n",
    "        if predicted_word != EOS:\n",
    "          result = result + predicted_word + ' '\n",
    "        # make the new sentence ready for a new prediction\n",
    "        next_sent = new_sent + SPC + MASK\n",
    "      sentences.append(result.strip())\n",
    "      pbar.update(1)\n",
    "  return sentences"
   ]
  },
  {
   "cell_type": "code",
   "execution_count": null,
   "metadata": {
    "id": "J_hkUZ02Ly4Y"
   },
   "outputs": [],
   "source": [
    "def compute_bleu(titles_real, titles_pred):\n",
    "    '''\n",
    "    Args:\n",
    "        titles_real (tensor:str) : array of real titles review\n",
    "        titles_pred (tensor:str) : array of predicted titles review\n",
    "    returns:\n",
    "        scores (tensor) : bleu scores for each sentence of text tensor\n",
    "    '''\n",
    "    scores = []\n",
    "    with tqdm(total=len(titles_real)) as pbar:\n",
    "      for index in range(len(titles_real)):\n",
    "          reference = titles_real[index]\n",
    "          candidate = titles_pred[index]\n",
    "          score = sentence_bleu([reference], candidate)\n",
    "          scores.append(score)\n",
    "          pbar.update(1)\n",
    "    return scores"
   ]
  },
  {
   "cell_type": "code",
   "execution_count": null,
   "metadata": {
    "id": "udouv2SKLzOf"
   },
   "outputs": [],
   "source": [
    "def compute_meteor(titles_real, titles_pred):\n",
    "    '''\n",
    "     Args:\n",
    "        titles_real (tensor:str) : array of real titles review\n",
    "        titles_pred (tensor:str) : array of predicted titles review\n",
    "    returns:\n",
    "        scores (tensor) : meteor scores for each sentence of text tensor\n",
    "    '''\n",
    "    scores = []\n",
    "    with tqdm(total=len(titles_real)) as pbar:\n",
    "      for index in range(len(titles_real)):\n",
    "          reference = titles_real[index]\n",
    "          candidate = titles_pred[index]\n",
    "          if reference != '' and candidate != '':\n",
    "              score = meteor_score([reference], candidate)\n",
    "              scores.append(score)\n",
    "          pbar.update(1)\n",
    "    return scores"
   ]
  },
  {
   "cell_type": "code",
   "execution_count": null,
   "metadata": {
    "id": "w_WzkiTTNsOU"
   },
   "outputs": [],
   "source": [
    "def plot_dist_sentences(text, title):\n",
    "    '''\n",
    "    Plots the sentences distributions\n",
    "    Args:\n",
    "        text, title - list preprocessed strings\n",
    "    returns:\n",
    "        list of human readable strings preprocessed\n",
    "    '''\n",
    "    text_word_count = []\n",
    "    title_word_count = []\n",
    "\n",
    "    # populate the lists with sentence lengths\n",
    "    for i in text:\n",
    "          text_word_count.append(len(i.split()))\n",
    "\n",
    "    for i in title:\n",
    "          title_word_count.append(len(i.split()))\n",
    "\n",
    "    fig = plt.figure(figsize = (15,5))\n",
    "\n",
    "    ax = fig.gca()\n",
    "\n",
    "    length_df = pd.DataFrame({'Text review':text_word_count, 'Title review':title_word_count})\n",
    "    length_df.hist(bins = [i for i in range(0, 105, 5)], ax=ax)\n",
    "\n",
    "    # set title and axis labels\n",
    "    plt.suptitle('Distribuição da quantidade de palavras por sentença', x=0.5, y=1.05, ha='center', fontsize='xx-large')\n",
    "    fig.text(0.5, 0.04, 'Quantidade de palavras por sentença', ha='center')\n",
    "    fig.text(0.04, 0.5, 'Frequência', va='center', rotation='vertical')\n",
    "\n",
    "    plt.show()"
   ]
  },
  {
   "cell_type": "code",
   "execution_count": null,
   "metadata": {
    "id": "Cgm6gwvGs8H5"
   },
   "outputs": [],
   "source": [
    "def plot_loss(history, filename='', save=False):\n",
    "    '''\n",
    "    Input:\n",
    "        history (dict) : keras history instance\n",
    "        filename (string) : filename to save\n",
    "        save (boolean) : to choose save the plot\n",
    "    Output:\n",
    "       None\n",
    "    '''\n",
    "    loss = history.history['loss']\n",
    "    val_loss = history.history['val_loss']\n",
    "    epochs = range(1, len(loss) + 1)\n",
    "    nb_epochs = len(loss)\n",
    "  \n",
    "    font = {'family' : 'normal',\n",
    "            'weight' : 'normal',\n",
    "            'size'   : 14}\n",
    "    title_font = {'fontname':'Arial', 'size':'16', 'color':'black', 'weight':'normal',\n",
    "                  'verticalalignment':'bottom'} \n",
    "\n",
    "    plt.figure(figsize=(20,10))\n",
    "    plt.xlabel(str(nb_epochs) + ' Epochs', **font)\n",
    "    plt.ylabel('Loss', **font)\n",
    "    plt.plot(epochs, loss, 'r', label='Training loss')\n",
    "    plt.plot(epochs, val_loss, 'b', label='Validation loss')\n",
    "    plt.title('Training and validation loss', **title_font)\n",
    "    plt.legend()\n",
    "    if save:\n",
    "        plt.savefig('../rel/figuras/' + filename + 'loss.png')\n",
    "    plt.show()"
   ]
  },
  {
   "cell_type": "code",
   "execution_count": null,
   "metadata": {
    "id": "zkW3uxXGs8w0"
   },
   "outputs": [],
   "source": [
    "def plot_acc(history, filename='', save=False):\n",
    "    '''\n",
    "    Input:\n",
    "        history (dict) : keras history instance\n",
    "        filename (string) : filename to save\n",
    "        save (boolean) : to choose save the plot\n",
    "    Output:\n",
    "       None\n",
    "    '''\n",
    "    accuracy = history.history['accuracy']\n",
    "    val_acc = history.history['val_accuracy']\n",
    "    epochs = range(1, len(accuracy) + 1)\n",
    "    nb_epochs = len(accuracy)\n",
    "  \n",
    "    font = {'family' : 'normal',\n",
    "            'weight' : 'normal',\n",
    "            'size'   : 14}\n",
    "    title_font = {'fontname':'Arial', 'size':'16', 'color':'black', 'weight':'normal',\n",
    "                  'verticalalignment':'bottom'} \n",
    "\n",
    "    plt.figure(figsize=(20,10))\n",
    "    plt.xlabel(str(nb_epochs) + ' Epochs', **font)\n",
    "    plt.ylabel('Accuracy', **font)\n",
    "    plt.plot(epochs, accuracy, 'r', label='Training acc')\n",
    "    plt.plot(epochs, val_acc, 'b', label='Validation acc')\n",
    "    plt.title('Training and validation acc', **title_font)\n",
    "    plt.legend()\n",
    "    if save:\n",
    "        plt.savefig('../rel/figuras/' + filename + 'acc.png')\n",
    "    plt.show()"
   ]
  },
  {
   "cell_type": "markdown",
   "metadata": {
    "id": "VqqTGecZNsOU"
   },
   "source": [
    "# Carregar e preprocessar o dataset\n",
    "\n",
    "Aqui o dataset é carregado e preprocessado."
   ]
  },
  {
   "cell_type": "code",
   "execution_count": null,
   "metadata": {
    "id": "TOgENvoRNsOU"
   },
   "outputs": [],
   "source": [
    "text_train, title_train = load_dataset_and_preprocess(path, sep, percent)"
   ]
  },
  {
   "cell_type": "markdown",
   "metadata": {
    "id": "plU1-CosNsOU"
   },
   "source": [
    "# Distribuição do texto\n",
    "A distribuição é analisada para se determinar o tamanho máximo das sentenças.\n",
    "\n",
    "Obs: Espaços não são contabilizados"
   ]
  },
  {
   "cell_type": "code",
   "execution_count": null,
   "metadata": {
    "colab": {
     "base_uri": "https://localhost:8080/",
     "height": 414
    },
    "id": "eCEt2iwnNsOU",
    "outputId": "dd9af5bb-1d6c-45ef-db3e-320bd17260c0"
   },
   "outputs": [
    {
     "name": "stderr",
     "output_type": "stream",
     "text": [
      "/usr/local/lib/python3.6/dist-packages/ipykernel_launcher.py:24: UserWarning: To output multiple subplots, the figure containing the passed axes is being cleared\n"
     ]
    },
    {
     "data": {
      "image/png": "[encoded data removed]",
      "text/plain": [
       "<Figure size 1080x360 with 2 Axes>"
      ]
     },
     "metadata": {
      "tags": []
     },
     "output_type": "display_data"
    }
   ],
   "source": [
    "plot_dist_sentences(text_train, title_train)"
   ]
  },
  {
   "cell_type": "code",
   "execution_count": null,
   "metadata": {
    "id": "njGbfVDkNsOW"
   },
   "outputs": [],
   "source": [
    "TEXT_MAXLEN = 64\n",
    "TITLE_MAXLEN = 15\n",
    "\n",
    "TEXT_MAX_NB_WORDS = 15\n",
    "TITLE_MAX_NB_WORDS = 5"
   ]
  },
  {
   "cell_type": "markdown",
   "metadata": {
    "id": "Ozp7r-b0NsOW"
   },
   "source": [
    "# Separando os dados em conjuntos de treino, validação e teste\n",
    "\n",
    "Separamos os conjuntos em conjuntos de treino, validação e de testes com proporções 80%, 10%, 10%. "
   ]
  },
  {
   "cell_type": "code",
   "execution_count": null,
   "metadata": {
    "id": "8zi_tKVnNsOW"
   },
   "outputs": [],
   "source": [
    "text_train, text_val, title_train, title_val = train_test_split(text_train, title_train, test_size=0.2,random_state=seed, shuffle=True)\n",
    "text_val, text_test, title_val, title_test = train_test_split(text_val, title_val, test_size=0.5,random_state=seed,shuffle=True)"
   ]
  },
  {
   "cell_type": "markdown",
   "metadata": {
    "id": "ie7gz9VbgPN6"
   },
   "source": [
    "# Criando cópia do conjunto de testes para inferência do decoder"
   ]
  },
  {
   "cell_type": "code",
   "execution_count": null,
   "metadata": {
    "id": "2xWGPUlsgOD7"
   },
   "outputs": [],
   "source": [
    "text_test_inf = text_test.copy()\n",
    "title_test_inf  = title_test.copy()"
   ]
  },
  {
   "cell_type": "markdown",
   "metadata": {
    "id": "ju24SH7gNsOW"
   },
   "source": [
    "# Preparando o dataset para o Bert\n",
    "\n",
    "Aqui a função <i>generate_samples</i> prepara as amostras para treinar o bert."
   ]
  },
  {
   "cell_type": "code",
   "execution_count": null,
   "metadata": {
    "id": "EyDh8OldNsOW"
   },
   "outputs": [],
   "source": [
    "text_train, title_train = generate_samples(text_train, title_train, TEXT_MAX_NB_WORDS, TITLE_MAX_NB_WORDS)\n",
    "text_val, title_val = generate_samples(text_val, title_val, TEXT_MAX_NB_WORDS, TITLE_MAX_NB_WORDS)\n",
    "text_test, title_test = generate_samples(text_test, title_test, TEXT_MAX_NB_WORDS, TITLE_MAX_NB_WORDS)"
   ]
  },
  {
   "cell_type": "markdown",
   "metadata": {
    "id": "1fh81LPwNsOW"
   },
   "source": [
    "# Tokenização"
   ]
  },
  {
   "cell_type": "code",
   "execution_count": null,
   "metadata": {
    "colab": {
     "base_uri": "https://localhost:8080/",
     "height": 215,
     "referenced_widgets": [
      "632ccd7ecda54927bb8f00bba3672a2f",
      "801c5ce5c798414a8b0b228a76d1ee33",
      "472264df6ae444889fb7ddc883e450bb",
      "a2507ad0bb3a41668dfe79536ef2a36b",
      "1908ba5e559148478a623660c1bf6f05",
      "044351e499784bb9ba3e4e0721887b26",
      "e3788e4b74a6457bae94cab620b8f8dd",
      "50f12662bdff45b0b784e6c0838d0c8b",
      "b0301ccad1fd4bf78d0a69ee6cefb74c",
      "2f068de3af7e458ab13f66c1f0d4dd8f",
      "51d91e8fdd334b73b1e8f8632525229a",
      "463a6ed2bbda47dc92495146172d15ba",
      "c3b0f0c084cb44efa2759a832a962dbc",
      "eaf6399d7c1d48b1aaaad93b237fdc26",
      "30814fd0313e4a74a83c683d03f9c2e9",
      "f6485739f78e41ae96c0e14b7207dd15",
      "faf4e2d5adeb4070a5f4aba56af041b7",
      "8e363fdedea944eb9a205159c8150d79",
      "7d5ee1ea41f1447f837b396adabe4b76",
      "cd067dbb487744e581b4fa8db1fddee0",
      "049cd2b2c12a418e9bf6462d7a27eb27",
      "65b9a296197d43e18890e7fc1eaf3995",
      "be7736ac47e948588c2f7f8188c6bf47",
      "d87051477e7c47ae981929c119439164",
      "947212bdbe164ccf990727bb2f0f3cac",
      "0414f28d1a524737bb2c4a9272625ecc",
      "e432e0d4982e4d838bd87d8b05c3028f",
      "661fef5563b84469bf2dd9caee432ff8",
      "21389eb8c5174cb99125b68f445ad76c",
      "4d4e35c6baaa4161b3ef4591b4564e96",
      "c1d23cf46c7c495780d9a733c295367e",
      "07c0e6171f0445e1a52c9e1cffb2d5cd"
     ]
    },
    "id": "gEfovwQ-YXDi",
    "outputId": "38cc32bd-471f-4bb1-efac-01b6747b865b"
   },
   "outputs": [
    {
     "data": {
      "application/vnd.jupyter.widget-view+json": {
       "model_id": "632ccd7ecda54927bb8f00bba3672a2f",
       "version_major": 2,
       "version_minor": 0
      },
      "text/plain": [
       "HBox(children=(FloatProgress(value=0.0, description='Downloading', max=209528.0, style=ProgressStyle(descripti…"
      ]
     },
     "metadata": {
      "tags": []
     },
     "output_type": "display_data"
    },
    {
     "name": "stdout",
     "output_type": "stream",
     "text": [
      "\n"
     ]
    },
    {
     "data": {
      "application/vnd.jupyter.widget-view+json": {
       "model_id": "b0301ccad1fd4bf78d0a69ee6cefb74c",
       "version_major": 2,
       "version_minor": 0
      },
      "text/plain": [
       "HBox(children=(FloatProgress(value=0.0, description='Downloading', max=2.0, style=ProgressStyle(description_wi…"
      ]
     },
     "metadata": {
      "tags": []
     },
     "output_type": "display_data"
    },
    {
     "name": "stdout",
     "output_type": "stream",
     "text": [
      "\n"
     ]
    },
    {
     "data": {
      "application/vnd.jupyter.widget-view+json": {
       "model_id": "faf4e2d5adeb4070a5f4aba56af041b7",
       "version_major": 2,
       "version_minor": 0
      },
      "text/plain": [
       "HBox(children=(FloatProgress(value=0.0, description='Downloading', max=112.0, style=ProgressStyle(description_…"
      ]
     },
     "metadata": {
      "tags": []
     },
     "output_type": "display_data"
    },
    {
     "name": "stdout",
     "output_type": "stream",
     "text": [
      "\n"
     ]
    },
    {
     "data": {
      "application/vnd.jupyter.widget-view+json": {
       "model_id": "947212bdbe164ccf990727bb2f0f3cac",
       "version_major": 2,
       "version_minor": 0
      },
      "text/plain": [
       "HBox(children=(FloatProgress(value=0.0, description='Downloading', max=43.0, style=ProgressStyle(description_w…"
      ]
     },
     "metadata": {
      "tags": []
     },
     "output_type": "display_data"
    },
    {
     "name": "stdout",
     "output_type": "stream",
     "text": [
      "\n"
     ]
    }
   ],
   "source": [
    "SEQUENCE_MAXLEN = TEXT_MAXLEN + TITLE_MAXLEN + 2\n",
    "REF_MODEL = 'neuralmind/bert-base-portuguese-cased'\n",
    "\n",
    "text_train, text_train_tokenizer = tokenize(text_train, None, REF_MODEL, SEQUENCE_MAXLEN)\n",
    "text_val, _ = tokenize(text_val, text_train_tokenizer, REF_MODEL, SEQUENCE_MAXLEN)\n",
    "text_test, _ = tokenize(text_test, text_train_tokenizer, REF_MODEL, SEQUENCE_MAXLEN)\n",
    "\n",
    "title_train, title_train_tokenizer = tokenize(title_train, None, REF_MODEL, SEQUENCE_MAXLEN, False)\n",
    "title_val, _ = tokenize(title_val, title_train_tokenizer, REF_MODEL, SEQUENCE_MAXLEN, False)\n",
    "title_test, _ = tokenize(title_test, title_train_tokenizer, REF_MODEL, SEQUENCE_MAXLEN, False)"
   ]
  },
  {
   "cell_type": "code",
   "execution_count": null,
   "metadata": {
    "colab": {
     "base_uri": "https://localhost:8080/"
    },
    "id": "7geXhh_hNsOW",
    "outputId": "425c570e-a3dd-4a5c-ccc1-eff563ecad39"
   },
   "outputs": [
    {
     "name": "stdout",
     "output_type": "stream",
     "text": [
      "Shapes dos conjuntos após realizar todas as etapas necessárias\n",
      "\n",
      "TEXT\n",
      "=======================\n",
      "Train: (98155, 81)\n",
      "Val:   (12204, 81)\n",
      "Test:  (12326, 81)\n",
      "=======================\n",
      "\n",
      "TITLE:\n",
      "=======================\n",
      "Train:  (98155, 81)\n",
      "Val:    (12204, 81)\n",
      "Test    (12326, 81)\n",
      "=======================\n"
     ]
    }
   ],
   "source": [
    "print('Shapes dos conjuntos após realizar todas as etapas necessárias')\n",
    "print()\n",
    "print('TEXT')\n",
    "print('=======================')\n",
    "print('Train:', text_train['input_ids'].shape)\n",
    "print('Val:  ', text_val['input_ids'].shape)\n",
    "print('Test: ', text_test['input_ids'].shape)\n",
    "print('=======================')\n",
    "print()\n",
    "print('TITLE:')\n",
    "print('=======================')\n",
    "print('Train: ', title_train['input_ids'].shape)\n",
    "print('Val:   ', title_val['input_ids'].shape)\n",
    "print('Test   ', title_test['input_ids'].shape)\n",
    "print('=======================')"
   ]
  },
  {
   "cell_type": "markdown",
   "metadata": {
    "id": "nwPV9NoWNsOW"
   },
   "source": [
    "# Tamanho do vocabulário\n",
    "\n",
    "Aqui definimos os tamanhos dos vocabulários do text review e title review"
   ]
  },
  {
   "cell_type": "code",
   "execution_count": null,
   "metadata": {
    "id": "n-940OoQNsOW"
   },
   "outputs": [],
   "source": [
    "TEXT_VOC_SIZE = len(text_train_tokenizer.get_vocab())\n",
    "TITLE_VOC_SIZE = len(title_train_tokenizer.get_vocab())"
   ]
  },
  {
   "cell_type": "code",
   "execution_count": null,
   "metadata": {
    "colab": {
     "base_uri": "https://localhost:8080/"
    },
    "id": "5Vzd1s1WNsOW",
    "outputId": "db00cea3-70ae-4f9a-d511-44d8f65f4deb"
   },
   "outputs": [
    {
     "name": "stdout",
     "output_type": "stream",
     "text": [
      "Tamanho dos vocabulários - Vocabulários restritos ao conjunto de treino apenas\n",
      "\n",
      "=======================\n",
      "Text: 29794 palavras\n",
      "=======================\n",
      "\n",
      "=======================\n",
      "Title: 29794 palavras\n",
      "=======================\n"
     ]
    }
   ],
   "source": [
    "print('Tamanho dos vocabulários - Vocabulários restritos ao conjunto de treino apenas')\n",
    "print()\n",
    "print('=======================')\n",
    "print('Text:', TEXT_VOC_SIZE, 'palavras')\n",
    "print('=======================')\n",
    "print()\n",
    "print('=======================')\n",
    "print('Title:', TITLE_VOC_SIZE, 'palavras')\n",
    "print('=======================')"
   ]
  },
  {
   "cell_type": "markdown",
   "metadata": {
    "id": "yZkSe4DtNsOW"
   },
   "source": [
    "# Construção do modelo BERT"
   ]
  },
  {
   "cell_type": "code",
   "execution_count": null,
   "metadata": {
    "colab": {
     "base_uri": "https://localhost:8080/",
     "height": 224,
     "referenced_widgets": [
      "0fcb8059728f47b1a416f58128c3e5f9",
      "4467e92d4c624cf8b6d8206103f7d999",
      "e43e796f53c1406abe356ddc3e99ff4e",
      "30e67b48040e41fa8e133a15f4ae20ea",
      "72abb3cda0434acdb93e700166006a28",
      "9a7fdb1725984c18a6f06ef29ae2a853",
      "451f48b215a54654bcf10253c69ea4ed",
      "20a941acf28a41e8a13f8c36aacb0df7",
      "5d186662f7aa451ba82c681bbff772bd",
      "321b8eb2b4c04d06ba6ddadc63d1608a",
      "87654333ad374e9d938424bf96adaa45",
      "2bdb435ab47c467dbfe00e613e462886",
      "8494f871dc0f49b8bfd31993742c90cc",
      "4fec858b88734caf85888a8e30ed0262",
      "e03fc78f26de42909318e33ca9fee816",
      "4109665776a84ea9ab1f0d91ff18d0b5"
     ]
    },
    "id": "Mbo8B7wjNsOW",
    "outputId": "6d771fef-f6fb-48b9-d283-4c6c263f16b5"
   },
   "outputs": [
    {
     "data": {
      "application/vnd.jupyter.widget-view+json": {
       "model_id": "0fcb8059728f47b1a416f58128c3e5f9",
       "version_major": 2,
       "version_minor": 0
      },
      "text/plain": [
       "HBox(children=(FloatProgress(value=0.0, description='Downloading', max=647.0, style=ProgressStyle(description_…"
      ]
     },
     "metadata": {
      "tags": []
     },
     "output_type": "display_data"
    },
    {
     "name": "stdout",
     "output_type": "stream",
     "text": [
      "\n"
     ]
    },
    {
     "data": {
      "application/vnd.jupyter.widget-view+json": {
       "model_id": "5d186662f7aa451ba82c681bbff772bd",
       "version_major": 2,
       "version_minor": 0
      },
      "text/plain": [
       "HBox(children=(FloatProgress(value=0.0, description='Downloading', max=438235074.0, style=ProgressStyle(descri…"
      ]
     },
     "metadata": {
      "tags": []
     },
     "output_type": "display_data"
    },
    {
     "name": "stdout",
     "output_type": "stream",
     "text": [
      "\n"
     ]
    },
    {
     "name": "stderr",
     "output_type": "stream",
     "text": [
      "Some weights of the PyTorch model were not used when initializing the TF 2.0 model TFBertForMaskedLM: ['cls.seq_relationship.bias', 'cls.predictions.decoder.weight', 'cls.seq_relationship.weight']\n",
      "- This IS expected if you are initializing TFBertForMaskedLM from a PyTorch model trained on another task or with another architecture (e.g. initializing a TFBertForSequenceClassification model from a BertForPreTraining model).\n",
      "- This IS NOT expected if you are initializing TFBertForMaskedLM from a PyTorch model that you expect to be exactly identical (e.g. initializing a TFBertForSequenceClassification model from a BertForSequenceClassification model).\n",
      "All the weights of TFBertForMaskedLM were initialized from the PyTorch model.\n",
      "If your task is similar to the task the model of the checkpoint was trained on, you can already use TFBertForMaskedLM for predictions without further training.\n"
     ]
    }
   ],
   "source": [
    "bert_model = TFBertForMaskedLM.from_pretrained(REF_MODEL, from_pt=True)\n",
    "input_ids = tf.keras.layers.Input(shape=(SEQUENCE_MAXLEN,), name='input_token', dtype='int32')\n",
    "input_masks_ids = tf.keras.layers.Input(shape=(SEQUENCE_MAXLEN,), name='masked_token', dtype='int32')\n",
    "\n",
    "X = bert_model(input_ids, input_masks_ids)"
   ]
  },
  {
   "cell_type": "code",
   "execution_count": null,
   "metadata": {
    "id": "nuQKEchPNsOW"
   },
   "outputs": [],
   "source": [
    "model = tf.keras.Model(inputs=[input_ids, input_masks_ids], outputs = X)"
   ]
  },
  {
   "cell_type": "markdown",
   "metadata": {
    "id": "ykwQrpyCNsOW"
   },
   "source": [
    "# Treinamento do Modelo"
   ]
  },
  {
   "cell_type": "code",
   "execution_count": null,
   "metadata": {
    "id": "ikMXygj_NsOW"
   },
   "outputs": [],
   "source": [
    "loss = tf.keras.losses.SparseCategoricalCrossentropy(from_logits=True)\n",
    "metric = tf.keras.metrics.SparseCategoricalAccuracy('accuracy')\n",
    "opt = tf.keras.optimizers.Adam(learning_rate=1e-5, epsilon=1e-07)\n",
    "my_callbacks = [tf.keras.callbacks.EarlyStopping(monitor='val_loss', mode='min', verbose=1, patience=2)]\n",
    "model.compile(opt, loss, metrics=[metric])"
   ]
  },
  {
   "cell_type": "code",
   "execution_count": null,
   "metadata": {
    "colab": {
     "base_uri": "https://localhost:8080/"
    },
    "id": "wDUVZsydEtiy",
    "outputId": "3156dc16-a181-43d5-c57b-aeb4dcfa4b62"
   },
   "outputs": [
    {
     "name": "stdout",
     "output_type": "stream",
     "text": [
      "Model: \"tf_bert_for_masked_lm\"\n",
      "_________________________________________________________________\n",
      "Layer (type)                 Output Shape              Param #   \n",
      "=================================================================\n",
      "bert (TFBertMainLayer)       TFBaseModelOutputWithPool 108923136 \n",
      "_________________________________________________________________\n",
      "mlm___cls (TFBertMLMHead)    (None, 81, 29794)         23900002  \n",
      "=================================================================\n",
      "Total params: 109,545,058\n",
      "Trainable params: 109,545,058\n",
      "Non-trainable params: 0\n",
      "_________________________________________________________________\n"
     ]
    }
   ],
   "source": [
    "bert_model.summary()"
   ]
  },
  {
   "cell_type": "code",
   "execution_count": null,
   "metadata": {
    "colab": {
     "base_uri": "https://localhost:8080/"
    },
    "id": "3Etwt7-CAkIT",
    "outputId": "d2ae9414-2d45-4b8e-90e8-53ec590446a8"
   },
   "outputs": [
    {
     "name": "stdout",
     "output_type": "stream",
     "text": [
      "Model: \"functional_1\"\n",
      "__________________________________________________________________________________________________\n",
      "Layer (type)                    Output Shape         Param #     Connected to                     \n",
      "==================================================================================================\n",
      "input_token (InputLayer)        [(None, 81)]         0                                            \n",
      "__________________________________________________________________________________________________\n",
      "masked_token (InputLayer)       [(None, 81)]         0                                            \n",
      "__________________________________________________________________________________________________\n",
      "tf_bert_for_masked_lm (TFBertFo TFMaskedLMOutput(los 109545058   input_token[0][0]                \n",
      "                                                                 masked_token[0][0]               \n",
      "==================================================================================================\n",
      "Total params: 109,545,058\n",
      "Trainable params: 109,545,058\n",
      "Non-trainable params: 0\n",
      "__________________________________________________________________________________________________\n"
     ]
    }
   ],
   "source": [
    "model.summary()"
   ]
  },
  {
   "cell_type": "code",
   "execution_count": null,
   "metadata": {
    "id": "lk5X4ATXNsOW"
   },
   "outputs": [],
   "source": [
    "EPOCHS = 4\n",
    "BATCH_SIZE = 64"
   ]
  },
  {
   "cell_type": "code",
   "execution_count": null,
   "metadata": {
    "colab": {
     "base_uri": "https://localhost:8080/"
    },
    "id": "F4dPjDqZNsOW",
    "outputId": "57bd6a15-3f95-47bc-a8f3-acaf10030361"
   },
   "outputs": [
    {
     "name": "stdout",
     "output_type": "stream",
     "text": [
      "Epoch 1/4\n",
      "1534/1534 [==============================] - 2308s 2s/step - loss: 0.4596 - accuracy: 0.9274 - val_loss: 0.0606 - val_accuracy: 0.9895\n",
      "Epoch 2/4\n",
      "1534/1534 [==============================] - 2306s 2s/step - loss: 0.0641 - accuracy: 0.9888 - val_loss: 0.0536 - val_accuracy: 0.9903\n",
      "Epoch 3/4\n",
      "1534/1534 [==============================] - 2311s 2s/step - loss: 0.0562 - accuracy: 0.9898 - val_loss: 0.0505 - val_accuracy: 0.9905\n",
      "Epoch 4/4\n",
      "1534/1534 [==============================] - 2306s 2s/step - loss: 0.0525 - accuracy: 0.9901 - val_loss: 0.0492 - val_accuracy: 0.9906\n"
     ]
    }
   ],
   "source": [
    "history = model.fit(\n",
    "    [text_train[\"input_ids\"],\n",
    "     text_train[\"attention_mask\"]],\n",
    "    title_train[\"input_ids\"],\n",
    "    batch_size=BATCH_SIZE,\n",
    "    epochs=EPOCHS,\n",
    "    callbacks=my_callbacks,\n",
    "    validation_data = ([text_val[\"input_ids\"],\n",
    "                       text_val[\"attention_mask\"]],\n",
    "                       title_val[\"input_ids\"])\n",
    ")    "
   ]
  },
  {
   "cell_type": "markdown",
   "metadata": {
    "id": "iB6OtkDAtOl6"
   },
   "source": [
    "# Avaliação conjunto de testes"
   ]
  },
  {
   "cell_type": "code",
   "execution_count": null,
   "metadata": {
    "colab": {
     "base_uri": "https://localhost:8080/"
    },
    "id": "vHdpdQ_CRTcO",
    "outputId": "1bff7c4a-8a6f-42de-d920-f2553cbd3e32"
   },
   "outputs": [
    {
     "name": "stdout",
     "output_type": "stream",
     "text": [
      "386/386 [==============================] - 106s 276ms/step - loss: 0.0500 - accuracy: 0.9906\n"
     ]
    },
    {
     "data": {
      "text/plain": [
       "[0.05003812164068222, 0.9905619621276855]"
      ]
     },
     "execution_count": 37,
     "metadata": {
      "tags": []
     },
     "output_type": "execute_result"
    }
   ],
   "source": [
    "model.evaluate([text_test[\"input_ids\"],\n",
    "                text_test[\"attention_mask\"]], \n",
    "               title_test[\"input_ids\"])"
   ]
  },
  {
   "cell_type": "code",
   "execution_count": null,
   "metadata": {
    "colab": {
     "base_uri": "https://localhost:8080/",
     "height": 668
    },
    "id": "Xb2U613qtUaH",
    "outputId": "f5e03343-1e32-4b6e-e025-f41261e47c94"
   },
   "outputs": [
    {
     "name": "stderr",
     "output_type": "stream",
     "text": [
      "findfont: Font family ['normal'] not found. Falling back to DejaVu Sans.\n",
      "findfont: Font family ['Arial'] not found. Falling back to DejaVu Sans.\n"
     ]
    },
    {
     "data": {
      "image/png": "[encoded data removed]",
      "text/plain": [
       "<Figure size 1440x720 with 1 Axes>"
      ]
     },
     "metadata": {
      "tags": []
     },
     "output_type": "display_data"
    }
   ],
   "source": [
    "plot_loss(history, filename='', save=False)"
   ]
  },
  {
   "cell_type": "code",
   "execution_count": null,
   "metadata": {
    "colab": {
     "base_uri": "https://localhost:8080/",
     "height": 633
    },
    "id": "1IrGoWMKtUyy",
    "outputId": "43c749b3-5c55-4c50-bfc7-9a979603d12c"
   },
   "outputs": [
    {
     "data": {
      "image/png": "[encoded data removed]",
      "text/plain": [
       "<Figure size 1440x720 with 1 Axes>"
      ]
     },
     "metadata": {
      "tags": []
     },
     "output_type": "display_data"
    }
   ],
   "source": [
    "plot_acc(history, filename='', save=False)"
   ]
  },
  {
   "cell_type": "markdown",
   "metadata": {
    "id": "2ShaEdGHHQC1"
   },
   "source": [
    "# Previsão de títulos para inferência das métricas\n",
    "\n",
    "Aqui usamos as sentenças do text review do conjunto de testes para prever os títulos que serão usados posteriormente na computação das métricas BLEU e METEOR."
   ]
  },
  {
   "cell_type": "code",
   "execution_count": null,
   "metadata": {
    "colab": {
     "base_uri": "https://localhost:8080/",
     "height": 66,
     "referenced_widgets": [
      "3ac20d0afcea4788aa68a8a9d688d495",
      "86ca3eeef4194078bf03a374bce60d3d",
      "3901bdf6ac3e4d6eaaa585529aa8fb4b",
      "a0c24f83ed0c4a7fa4cc35a0d24b577c",
      "db2079f19c574469874d4b2dbc0195df",
      "c1cc564545d946849b9ac8d785ebfd90",
      "94d788d3acd241dd909870d98afba847",
      "8ead0d7aeb9243128f45c1dc036e0b35"
     ]
    },
    "id": "qPUyseYeHF5T",
    "outputId": "a8dc9b2a-da42-4a64-f31c-22ac076801ae"
   },
   "outputs": [
    {
     "data": {
      "application/vnd.jupyter.widget-view+json": {
       "model_id": "3ac20d0afcea4788aa68a8a9d688d495",
       "version_major": 2,
       "version_minor": 0
      },
      "text/plain": [
       "HBox(children=(FloatProgress(value=0.0, max=3268.0), HTML(value='')))"
      ]
     },
     "metadata": {
      "tags": []
     },
     "output_type": "display_data"
    },
    {
     "name": "stdout",
     "output_type": "stream",
     "text": [
      "\n"
     ]
    }
   ],
   "source": [
    "titles_pred = predict_and_decode_sequences(text_test_inf, model, TITLE_MAXLEN, TEXT_MAX_NB_WORDS, SEQUENCE_MAXLEN, text_train_tokenizer)"
   ]
  },
  {
   "cell_type": "markdown",
   "metadata": {
    "id": "6gVoTiGxLhsM"
   },
   "source": [
    "# Computação das métricas"
   ]
  },
  {
   "cell_type": "markdown",
   "metadata": {
    "id": "9XZxTe4OLmE8"
   },
   "source": [
    "# Bleu"
   ]
  },
  {
   "cell_type": "code",
   "execution_count": null,
   "metadata": {
    "colab": {
     "base_uri": "https://localhost:8080/",
     "height": 647,
     "referenced_widgets": [
      "70e1d63914704d719a62fa7e51a05a30",
      "4127b42bac1e42e597ce9ad9ca725d6a",
      "875928e7de344a499fcb9fade312ef1b",
      "664266f334074b3d8a729b8777b2464f",
      "76f6fa2a77e34188b68a92a011105563",
      "cd950315d40146b193fc273c5777406a",
      "3f351a9af89f487683a82b71bc27dae0",
      "841eb7388a9948faae4727a48de04e80"
     ]
    },
    "id": "tELsk_9ILlh0",
    "outputId": "3a6f0fbd-732a-4d6a-9a1a-556f2eb5ce1a"
   },
   "outputs": [
    {
     "name": "stdout",
     "output_type": "stream",
     "text": [
      "Computando o Bleu para  3268 sentenças\n",
      "\n"
     ]
    },
    {
     "data": {
      "application/vnd.jupyter.widget-view+json": {
       "model_id": "70e1d63914704d719a62fa7e51a05a30",
       "version_major": 2,
       "version_minor": 0
      },
      "text/plain": [
       "HBox(children=(FloatProgress(value=0.0, max=3268.0), HTML(value='')))"
      ]
     },
     "metadata": {
      "tags": []
     },
     "output_type": "display_data"
    },
    {
     "name": "stderr",
     "output_type": "stream",
     "text": [
      "/usr/local/lib/python3.6/dist-packages/nltk/translate/bleu_score.py:516: UserWarning: \n",
      "The hypothesis contains 0 counts of 3-gram overlaps.\n",
      "Therefore the BLEU score evaluates to 0, independently of\n",
      "how many N-gram overlaps of lower order it contains.\n",
      "Consider using lower n-gram order or use SmoothingFunction()\n",
      "  warnings.warn(_msg)\n",
      "/usr/local/lib/python3.6/dist-packages/nltk/translate/bleu_score.py:516: UserWarning: \n",
      "The hypothesis contains 0 counts of 4-gram overlaps.\n",
      "Therefore the BLEU score evaluates to 0, independently of\n",
      "how many N-gram overlaps of lower order it contains.\n",
      "Consider using lower n-gram order or use SmoothingFunction()\n",
      "  warnings.warn(_msg)\n",
      "/usr/local/lib/python3.6/dist-packages/nltk/translate/bleu_score.py:516: UserWarning: \n",
      "The hypothesis contains 0 counts of 2-gram overlaps.\n",
      "Therefore the BLEU score evaluates to 0, independently of\n",
      "how many N-gram overlaps of lower order it contains.\n",
      "Consider using lower n-gram order or use SmoothingFunction()\n",
      "  warnings.warn(_msg)\n"
     ]
    },
    {
     "name": "stdout",
     "output_type": "stream",
     "text": [
      "\n",
      "Min: 0.0 \n",
      "\n",
      "Média: 0.0966 \n",
      "\n",
      "Max: 1.0 \n",
      "\n",
      "Desvio Padrão: 0.2065 \n",
      "\n",
      "Variância: 0.0426 \n",
      "\n",
      "Coeficiente de Variação: 213.8198 \n",
      "\n",
      "\n"
     ]
    }
   ],
   "source": [
    "print(\"Computando o Bleu para \", len(text_test_inf), \"sentenças\")\n",
    "print()\n",
    "scores_bleu = compute_bleu(title_test_inf, titles_pred)\n",
    "print(\"Min:\", round(np.min(scores_bleu), 4), '\\n')\n",
    "print(\"Média:\", round(np.mean(scores_bleu), 4), '\\n')\n",
    "print(\"Max:\", round(np.max(scores_bleu), 4), '\\n')\n",
    "print(\"Desvio Padrão:\", round(np.std(scores_bleu), 4), '\\n')\n",
    "print(\"Variância:\", round(np.var(scores_bleu), 4), '\\n')\n",
    "print(\"Coeficiente de Variação:\", round(np.std(scores_bleu)/np.mean(scores_bleu) * 100, 4), '\\n')\n",
    "print()"
   ]
  },
  {
   "cell_type": "code",
   "execution_count": null,
   "metadata": {
    "colab": {
     "base_uri": "https://localhost:8080/",
     "height": 397
    },
    "id": "D0q5yzHBLa7h",
    "outputId": "b747bc1d-4d8a-4b5f-dee3-1410fc976e17"
   },
   "outputs": [
    {
     "data": {
      "image/png": "[encoded data removed]",
      "text/plain": [
       "<Figure size 1080x360 with 1 Axes>"
      ]
     },
     "metadata": {
      "tags": []
     },
     "output_type": "display_data"
    }
   ],
   "source": [
    "fig = plt.figure(figsize = (15,5))\n",
    "ax = fig.gca()\n",
    "\n",
    "length_df = pd.DataFrame({'Bleu score':scores_bleu})\n",
    "length_df.hist(bins = 20, ax=ax)\n",
    "\n",
    "# set title and axis labels\n",
    "plt.suptitle('Distribuição dos Scores - Bleu', x=0.5, y=1.05, ha='center', fontsize='xx-large')\n",
    "fig.text(0.5, 0.04, 'Score', ha='center')\n",
    "fig.text(0.04, 0.5, 'Frequência', va='center', rotation='vertical')\n",
    "plt.show()"
   ]
  },
  {
   "cell_type": "markdown",
   "metadata": {
    "id": "uCMa27IiOaYF"
   },
   "source": [
    "# Meteor"
   ]
  },
  {
   "cell_type": "code",
   "execution_count": null,
   "metadata": {
    "colab": {
     "base_uri": "https://localhost:8080/",
     "height": 330,
     "referenced_widgets": [
      "d5073bcf24034af88efebc00539d3955",
      "e09492270956446d997c3d0506b6e3bf",
      "b2b8d3e577114b4c87e5552b15944137",
      "c18fe8afd21c4d08b8c4c1e522043727",
      "08d6a93c4c6b4724a1530f47aa42cdde",
      "c1c28bc2d4004eb0b488229d5f18aa92",
      "eadc39ab1ad64332b6950cfe9b442344",
      "ae00e22da6e14787b65d47fcaa5a6aff"
     ]
    },
    "id": "E6_s_4JaG0ZE",
    "outputId": "2c70a4f7-10a5-4153-b05d-d5139f10307f"
   },
   "outputs": [
    {
     "name": "stdout",
     "output_type": "stream",
     "text": [
      "Computando o Meteor para  3268 sentenças\n",
      "\n"
     ]
    },
    {
     "data": {
      "application/vnd.jupyter.widget-view+json": {
       "model_id": "d5073bcf24034af88efebc00539d3955",
       "version_major": 2,
       "version_minor": 0
      },
      "text/plain": [
       "HBox(children=(FloatProgress(value=0.0, max=3268.0), HTML(value='')))"
      ]
     },
     "metadata": {
      "tags": []
     },
     "output_type": "display_data"
    },
    {
     "name": "stdout",
     "output_type": "stream",
     "text": [
      "\n",
      "Min: 0.0 \n",
      "\n",
      "Média: 0.0698 \n",
      "\n",
      "Max: 0.9922 \n",
      "\n",
      "Desvio Padrão: 0.1583 \n",
      "\n",
      "Variância: 0.0251 \n",
      "\n",
      "Coeficiente de Variação: 226.8218 \n",
      "\n",
      "\n"
     ]
    }
   ],
   "source": [
    "print(\"Computando o Meteor para \", len(text_test_inf), \"sentenças\")\n",
    "print()\n",
    "scores_meteor = compute_meteor(title_test_inf, titles_pred)\n",
    "print(\"Min:\", round(np.min(scores_meteor), 4), '\\n')\n",
    "print(\"Média:\", round(np.mean(scores_meteor),4), '\\n')\n",
    "print(\"Max:\", round(np.max(scores_meteor), 4), '\\n')\n",
    "print(\"Desvio Padrão:\", round(np.std(scores_meteor), 4), '\\n')\n",
    "print(\"Variância:\", round(np.var(scores_meteor), 4), '\\n')\n",
    "print(\"Coeficiente de Variação:\", round(np.std(scores_meteor)/np.mean(scores_meteor) * 100, 4), '\\n')\n",
    "print()"
   ]
  },
  {
   "cell_type": "code",
   "execution_count": null,
   "metadata": {
    "colab": {
     "base_uri": "https://localhost:8080/",
     "height": 397
    },
    "id": "dRamlXHhOmqK",
    "outputId": "21cffe4f-e584-4548-f3a9-31430496bb3e"
   },
   "outputs": [
    {
     "data": {
      "image/png": "[encoded data removed]",
      "text/plain": [
       "<Figure size 1080x360 with 1 Axes>"
      ]
     },
     "metadata": {
      "tags": []
     },
     "output_type": "display_data"
    }
   ],
   "source": [
    "fig = plt.figure(figsize = (15,5))\n",
    "ax = fig.gca()\n",
    "\n",
    "length_df = pd.DataFrame({'Meteor score':scores_meteor})\n",
    "length_df.hist(bins = 20, ax=ax)\n",
    "\n",
    "# set title and axis labels\n",
    "plt.suptitle('Distribuição dos Scores - Meteor', x=0.5, y=1.05, ha='center', fontsize='xx-large')\n",
    "fig.text(0.5, 0.04, 'Score', ha='center')\n",
    "fig.text(0.04, 0.5, 'Frequência', va='center', rotation='vertical')\n",
    "plt.show()"
   ]
  },
  {
   "cell_type": "markdown",
   "metadata": {
    "id": "O3IfMuQaO79E"
   },
   "source": [
    "# Exemplo de geração de texto com o modelo treinado usando o conjunto de testes"
   ]
  },
  {
   "cell_type": "code",
   "execution_count": null,
   "metadata": {
    "colab": {
     "base_uri": "https://localhost:8080/"
    },
    "id": "pH9e0oouO6zQ",
    "outputId": "b89089bc-efcf-4b05-a8a7-e29d6746e865"
   },
   "outputs": [
    {
     "name": "stdout",
     "output_type": "stream",
     "text": [
      "Text Review: o produto nunca foi entregue no endereço informado\n",
      "Original Title Review: o produto nao chegou\n",
      "Predicted Title Review: não receb ##i o\n",
      "\n",
      "\n",
      "Text Review: ótimo produto . só achei muito barulhento . poderiam melhorar esse quesito . mas de resto é excelente , boa potencia . recomendo .\n",
      "Original Title Review: gostei muito do produto . como eu esperava\n",
      "Predicted Title Review: ótimo produto\n",
      "\n",
      "\n",
      "Text Review: ótimo produto e a entrega muito antes do prazo estipulado .\n",
      "Original Title Review: ótimo produto .\n",
      "Predicted Title Review: ótimo produto\n",
      "\n",
      "\n",
      "Text Review: não utilizei ele ainda , porém a entrega foi no prazo determinado e o produto é lindo  adorei\n",
      "Original Title Review: amei\n",
      "Predicted Title Review: não gos gos muito\n",
      "\n",
      "\n",
      "Text Review: o produto acima destacado chegou com vários pontos destacados e se espedaçando ao ser manuseado . fica claramente perceptível a má qualidade do material . sugiro que as lojas americanas não trabalhem com produtos com esse nível de qualidade , para que o consumidor não associe a possibilidade de receber outros itens nas mesmas condições .\n",
      "Original Title Review: produto de péssima qualidade\n",
      "Predicted Title Review: produto de qualidade\n",
      "\n",
      "\n",
      "Text Review: comprei este ferro achando que era o melhor do mercado . infelizmente só fui utilizá-lo após o período de garantia e para minha imensa decepção o ferro não esquenta o suficiente . fica tão morno mesmo na temperatura máxima que não passa nem seda . estou me sentindo ludibriada e imensamente decepcionada . não recomendo este produto nem para o meu inimigo .\n",
      "Original Title Review: decepcionante\n",
      "Predicted Title Review: produto bom\n",
      "\n",
      "\n",
      "Text Review: não recomendo este produto , pois apesar de não estar expressamente no anúncio , o cabo usb que liga o computador à impressora não está incluído . fiz reclamação e me foi informado que o cabo não acompanha o produto . ou seja , você vai comprar a impressora e não poderá utilizá-la se não adquirir um cabo à parte . compre o mesmo modelo com wi-fi que o cabo vem incluído .\n",
      "Original Title Review: não acompanha cabo usb\n",
      "Predicted Title Review: não gos gos ##te\n",
      "\n",
      "\n",
      "Text Review: excelente produto , chegando antes do prazo previsto . superindico\n",
      "Original Title Review: entrga antes do prazo previsto .\n",
      "Predicted Title Review: excelente\n",
      "\n",
      "\n",
      "Text Review: não posso avaliar um produto que comprei a mais de trinta dias e ainda não foi entregue\n",
      "Original Title Review: onde está o produto ?\n",
      "Predicted Title Review: não posso avaliar\n",
      "\n",
      "\n",
      "Text Review: o produto e regular por que algumas funções especifica não funciona por exemplo a formação de vídeo mp e outras etc .\n",
      "Original Title Review: regular\n",
      "Predicted Title Review: regular\n",
      "\n",
      "\n",
      "Text Review: .\n",
      "Original Title Review: muito bom\n",
      "Predicted Title Review: ótimo\n",
      "\n",
      "\n",
      "Text Review: otima qualidade correspondeu , minha expectativa . entrega antes do prazo agradeço as americanas .\n",
      "Original Title Review: produto muito bom\n",
      "Predicted Title Review: gos gos muito\n",
      "\n",
      "\n",
      "Text Review: ainda não tive tempo de uma avaliação completa mas estou adorando .\n",
      "Original Title Review: excelente\n",
      "Predicted Title Review: gos gos muito\n",
      "\n",
      "\n",
      "Text Review: super recomendo , entrega rápida e excelente produto .\n",
      "Original Title Review: produto de excelente qualidade\n",
      "Predicted Title Review: excelente\n",
      "\n",
      "\n",
      "Text Review: não gostei , o produto veio com defeito . , mas efetuei a devolução para americanas e ocorreu tudo certo , parabéns a americanas pela devolução de forma correta .\n",
      "Original Title Review: não gostei\n",
      "Predicted Title Review: produto veio com\n",
      "\n",
      "\n",
      "Text Review: excelente a qualidade do produto e a confiança e segurança das lojas americanas ,\n",
      "Original Title Review: qualidade e segurança lojas americanas\n",
      "Predicted Title Review: excelente\n",
      "\n",
      "\n",
      "Text Review: muito bonito , ficou show no quarto da minha filha , porém dá trabalho para colocar , precisa de muita atenção .\n",
      "Original Title Review: bonito\n",
      "Predicted Title Review: gos gos gos gos\n",
      "\n",
      "\n",
      "Text Review: o produto pode ser bom , mais o site não entrega . comprei já faz um mês e até hoje não recebi .\n",
      "Original Title Review: não comprem\n",
      "Predicted Title Review: não gos gos gos\n",
      "\n",
      "\n",
      "Text Review: a entrega foi bem antes do prazo;otimo atendimento;super recomendo .\n",
      "Original Title Review: excelente produto\n",
      "Predicted Title Review: gos ##te muito\n",
      "\n",
      "\n",
      "Text Review: apesar do pouco tempo que estou com o produto , ele tem atendido minha expectativa , é uma produto de qualidade , gostei da minha compra .\n",
      "Original Title Review: muito bom o produto , não é exatamente como na foto ilustrada mas é sim um bom produto .\n",
      "Predicted Title Review: gos gos muito\n",
      "\n",
      "\n",
      "Text Review: bla bla bla bla bla bla bla bla bla bla bla bla bla bla bla bla bla bla bla bla bla bla bla bla bla\n",
      "Original Title Review: como posso avaliar algo que não recebi ?\n",
      "Predicted Title Review: bl bl bl bl bl bl\n",
      "\n",
      "\n",
      "Text Review: algumas peças vieram riscadas , e vieram faltando porcas . fora o atraso .\n",
      "Original Title Review: peças vieram riscadas e faltando peças\n",
      "Predicted Title Review: produto com defe\n",
      "\n",
      "\n",
      "Text Review: não recebi ainda não recebi ainda não recebi ainda\n",
      "Original Title Review: não recebi ainda\n",
      "Predicted Title Review: não receb ##i ainda\n",
      "\n",
      "\n",
      "Text Review: acabou as chamadas indesejaveis , com pertubação de a ligações por dia .\n",
      "Original Title Review: gostei do produto\n",
      "Predicted Title Review: péss\n",
      "\n",
      "\n",
      "Text Review: prezado , então , não consegui recarregar o relógio , defeito no cabo ou nele . desejo código de postagem para troca-lo . grata . maria do carmo o . d . pena\n",
      "Original Title Review: com defeito\n",
      "Predicted Title Review: não funciona\n",
      "\n",
      "\n",
      "Text Review: gostei da lavadora . a pressão é excelente , máquina leve , de fácil manuseio e relativamente silenciosa perto de outras marcas . aguardo para ver a durabilidade .\n",
      "Original Title Review: muito boa\n",
      "Predicted Title Review: produto de qualidade\n",
      "\n",
      "\n",
      "Text Review: o produto é de boa qualidade . fui muito bem atendido .\n",
      "Original Title Review: gostei do produto\n",
      "Predicted Title Review: gos gos muito bom\n",
      "\n",
      "\n",
      "Text Review: me foi enviado produto de ml e a compra foi de ml . pediram pra devolver e não foi enviado o que havia pagado . agora estou esperando pra ver se o estorno vem . lamentável esse parceiro . e dificilmente comprarei novamente perfume na americanas . com\n",
      "Original Title Review: não recebi\n",
      "Predicted Title Review: não receb ##i o\n",
      "\n",
      "\n",
      "Text Review: recebi o produto errado e faltando unidade pois pedi redmi note a de . e me mandaram o redmi a de . polegadas ja mandei de volta e ja chegou ai no dia - e hoje ja e - e nao me mandaram nenhum email com rastreio , e nem dizendo se meus produtos foram enviados desta vez corretamente ja enviei varios emails e ja estou de saco cheio com o pecimo atendimento que me encontro , pois ao inves de entrarem em contato rapido para resolver um cara me atendeu dizendo que sabia o que eu tinha devolvido o pedido que veio errado e simplismente me disse que retornaria o contato a dias depois , ta de brincadeira ne , pra devolver e chegar ai foram apenas dias e para enviarem os certos pra mim ja faz dias que espero e nada . como disse em meus emails vou resolver de outra forma pois conversando com vcs nao da e ainda mais ditando prazo pra falar com o consumidor que sao seu maior bem , que isso , melhorem este atendimento .\n",
      "Original Title Review: recebi produto errado e faltando\n",
      "Predicted Title Review: produto errado\n",
      "\n",
      "\n",
      "Text Review: não deveria sequer avaliar esse produto , afinal , só recebi os itens de montagem de um dos pufes . como as americanas . com não é a fornecedora do produto , mas apenas uma intermediária , qualquer solução de eventuais problemas fica prejudicada . a fornecedora é a abra cadabra , cujo telefone não atende de modo algum fiquei uns dez minutos ouvindo musiquinha em duas ligações interurbanas . o status do pedido não foi atualizado no site , de modo que , quando entrei em contato , ouvi uma mensagem eletrônica dizendo que meu pedido chegaria daqui a duas semanas quando , na verdade , já havia chegado ontem . enfim , avalio mal os produtos porque não pude nem mesmo montar os dois pufes .\n",
      "Original Title Review: peças de montagem faltantes\n",
      "Predicted Title Review: não gos gos ##te\n",
      "\n",
      "\n"
     ]
    }
   ],
   "source": [
    "for i in range(200, 230):\n",
    "    print(\"Text Review:\", text_test_inf[i])\n",
    "    print(\"Original Title Review:\", title_test_inf[i])\n",
    "    print(\"Predicted Title Review:\", titles_pred[i])\n",
    "    print(\"\\n\")"
   ]
  },
  {
   "cell_type": "markdown",
   "metadata": {
    "id": "04ORDe7hTkF-"
   },
   "source": [
    "# Para gerar um Title review use a função <i>predict_and_decode_sequences</i>"
   ]
  },
  {
   "cell_type": "code",
   "execution_count": null,
   "metadata": {
    "colab": {
     "base_uri": "https://localhost:8080/",
     "height": 207,
     "referenced_widgets": [
      "16220b5f035344e69d00e66a9c3ad757",
      "485927b18b5740fb91b4373571c3c9be",
      "25ce850d727f4a709879a9547dc5868b",
      "40288bc6a8f641d99b19912e6fca7248",
      "8e813c9403614affa1aaad036a89a0b0",
      "a89981d553194b5f820f0c68c722ec8b",
      "e4c15d7dcab24a7b872806cc24508649",
      "d8157a6049f64d95b8c9dc78a16c56c0"
     ]
    },
    "id": "5jJ32CqcOmn5",
    "outputId": "1b4eca12-001c-49c0-bdf0-86a455eeeb6f"
   },
   "outputs": [
    {
     "data": {
      "application/vnd.jupyter.widget-view+json": {
       "model_id": "16220b5f035344e69d00e66a9c3ad757",
       "version_major": 2,
       "version_minor": 0
      },
      "text/plain": [
       "HBox(children=(FloatProgress(value=0.0, max=4.0), HTML(value='')))"
      ]
     },
     "metadata": {
      "tags": []
     },
     "output_type": "display_data"
    },
    {
     "name": "stdout",
     "output_type": "stream",
     "text": [
      "\n",
      "ótimo\n",
      "\n",
      "ruim\n",
      "\n",
      "não chegou\n",
      "\n",
      "excelente\n",
      "\n"
     ]
    }
   ],
   "source": [
    "sentences = ['Coloque suas frases aqui', 'é ruim', 'não chegou', 'Produto']\n",
    "result = predict_and_decode_sequences(sentences, model, TITLE_MAXLEN, TEXT_MAX_NB_WORDS, SEQUENCE_MAXLEN, title_train_tokenizer)\n",
    "\n",
    "for title_review in result:\n",
    "    print(title_review + '\\n')"
   ]
  },
  {
   "cell_type": "markdown",
   "metadata": {
    "id": "YElzSWJDVy7I"
   },
   "source": [
    "# Vamos salvar 200 previsões de sentenças aleatórias para avaliação"
   ]
  },
  {
   "cell_type": "code",
   "execution_count": null,
   "metadata": {
    "id": "rpOG62-gOmll"
   },
   "outputs": [],
   "source": [
    "N = 200\n",
    "\n",
    "indexes = [i for i in range(len(title_test_inf))]\n",
    "random_indexes = random.sample(indexes, N)\n",
    "\n",
    "text_review = np.array(text_test_inf)[random_indexes]\n",
    "pred_title_review = np.array(titles_pred)[random_indexes]\n",
    "\n",
    "human_score = [0] * N\n",
    "\n",
    "df = pd.DataFrame({'Text Review' : text_review, \n",
    "                   'Predicted Title Review' : pred_title_review,\n",
    "                   'Human Score': [0] * N})\n",
    "                  \n",
    "df.to_csv('bert_human_review.csv', index=False)"
   ]
  },
  {
   "cell_type": "code",
   "execution_count": null,
   "metadata": {},
   "outputs": [],
   "source": []
  }
 ],
 "metadata": {
  "accelerator": "GPU",
  "colab": {
   "collapsed_sections": [],
   "name": "Bert.ipynb",
   "provenance": []
  },
  "kernelspec": {
   "display_name": "Python 3",
   "language": "python",
   "name": "python3"
  },
  "language_info": {
   "codemirror_mode": {
    "name": "ipython",
    "version": 3
   },
   "file_extension": ".py",
   "mimetype": "text/x-python",
   "name": "python",
   "nbconvert_exporter": "python",
   "pygments_lexer": "ipython3",
   "version": "3.6.9"
  },
  "widgets": {
   "application/vnd.jupyter.widget-state+json": {
    "0414f28d1a524737bb2c4a9272625ecc": {
     "model_module": "@jupyter-widgets/base",
     "model_name": "LayoutModel",
     "state": {
      "_model_module": "@jupyter-widgets/base",
      "_model_module_version": "1.2.0",
      "_model_name": "LayoutModel",
      "_view_count": null,
      "_view_module": "@jupyter-widgets/base",
      "_view_module_version": "1.2.0",
      "_view_name": "LayoutView",
      "align_content": null,
      "align_items": null,
      "align_self": null,
      "border": null,
      "bottom": null,
      "display": null,
      "flex": null,
      "flex_flow": null,
      "grid_area": null,
      "grid_auto_columns": null,
      "grid_auto_flow": null,
      "grid_auto_rows": null,
      "grid_column": null,
      "grid_gap": null,
      "grid_row": null,
      "grid_template_areas": null,
      "grid_template_columns": null,
      "grid_template_rows": null,
      "height": null,
      "justify_content": null,
      "justify_items": null,
      "left": null,
      "margin": null,
      "max_height": null,
      "max_width": null,
      "min_height": null,
      "min_width": null,
      "object_fit": null,
      "object_position": null,
      "order": null,
      "overflow": null,
      "overflow_x": null,
      "overflow_y": null,
      "padding": null,
      "right": null,
      "top": null,
      "visibility": null,
      "width": null
     }
    },
    "044351e499784bb9ba3e4e0721887b26": {
     "model_module": "@jupyter-widgets/base",
     "model_name": "LayoutModel",
     "state": {
      "_model_module": "@jupyter-widgets/base",
      "_model_module_version": "1.2.0",
      "_model_name": "LayoutModel",
      "_view_count": null,
      "_view_module": "@jupyter-widgets/base",
      "_view_module_version": "1.2.0",
      "_view_name": "LayoutView",
      "align_content": null,
      "align_items": null,
      "align_self": null,
      "border": null,
      "bottom": null,
      "display": null,
      "flex": null,
      "flex_flow": null,
      "grid_area": null,
      "grid_auto_columns": null,
      "grid_auto_flow": null,
      "grid_auto_rows": null,
      "grid_column": null,
      "grid_gap": null,
      "grid_row": null,
      "grid_template_areas": null,
      "grid_template_columns": null,
      "grid_template_rows": null,
      "height": null,
      "justify_content": null,
      "justify_items": null,
      "left": null,
      "margin": null,
      "max_height": null,
      "max_width": null,
      "min_height": null,
      "min_width": null,
      "object_fit": null,
      "object_position": null,
      "order": null,
      "overflow": null,
      "overflow_x": null,
      "overflow_y": null,
      "padding": null,
      "right": null,
      "top": null,
      "visibility": null,
      "width": null
     }
    },
    "049cd2b2c12a418e9bf6462d7a27eb27": {
     "model_module": "@jupyter-widgets/controls",
     "model_name": "ProgressStyleModel",
     "state": {
      "_model_module": "@jupyter-widgets/controls",
      "_model_module_version": "1.5.0",
      "_model_name": "ProgressStyleModel",
      "_view_count": null,
      "_view_module": "@jupyter-widgets/base",
      "_view_module_version": "1.2.0",
      "_view_name": "StyleView",
      "bar_color": null,
      "description_width": "initial"
     }
    },
    "07c0e6171f0445e1a52c9e1cffb2d5cd": {
     "model_module": "@jupyter-widgets/base",
     "model_name": "LayoutModel",
     "state": {
      "_model_module": "@jupyter-widgets/base",
      "_model_module_version": "1.2.0",
      "_model_name": "LayoutModel",
      "_view_count": null,
      "_view_module": "@jupyter-widgets/base",
      "_view_module_version": "1.2.0",
      "_view_name": "LayoutView",
      "align_content": null,
      "align_items": null,
      "align_self": null,
      "border": null,
      "bottom": null,
      "display": null,
      "flex": null,
      "flex_flow": null,
      "grid_area": null,
      "grid_auto_columns": null,
      "grid_auto_flow": null,
      "grid_auto_rows": null,
      "grid_column": null,
      "grid_gap": null,
      "grid_row": null,
      "grid_template_areas": null,
      "grid_template_columns": null,
      "grid_template_rows": null,
      "height": null,
      "justify_content": null,
      "justify_items": null,
      "left": null,
      "margin": null,
      "max_height": null,
      "max_width": null,
      "min_height": null,
      "min_width": null,
      "object_fit": null,
      "object_position": null,
      "order": null,
      "overflow": null,
      "overflow_x": null,
      "overflow_y": null,
      "padding": null,
      "right": null,
      "top": null,
      "visibility": null,
      "width": null
     }
    },
    "08d6a93c4c6b4724a1530f47aa42cdde": {
     "model_module": "@jupyter-widgets/controls",
     "model_name": "ProgressStyleModel",
     "state": {
      "_model_module": "@jupyter-widgets/controls",
      "_model_module_version": "1.5.0",
      "_model_name": "ProgressStyleModel",
      "_view_count": null,
      "_view_module": "@jupyter-widgets/base",
      "_view_module_version": "1.2.0",
      "_view_name": "StyleView",
      "bar_color": null,
      "description_width": "initial"
     }
    },
    "0fcb8059728f47b1a416f58128c3e5f9": {
     "model_module": "@jupyter-widgets/controls",
     "model_name": "HBoxModel",
     "state": {
      "_dom_classes": [],
      "_model_module": "@jupyter-widgets/controls",
      "_model_module_version": "1.5.0",
      "_model_name": "HBoxModel",
      "_view_count": null,
      "_view_module": "@jupyter-widgets/controls",
      "_view_module_version": "1.5.0",
      "_view_name": "HBoxView",
      "box_style": "",
      "children": [
       "IPY_MODEL_e43e796f53c1406abe356ddc3e99ff4e",
       "IPY_MODEL_30e67b48040e41fa8e133a15f4ae20ea"
      ],
      "layout": "IPY_MODEL_4467e92d4c624cf8b6d8206103f7d999"
     }
    },
    "16220b5f035344e69d00e66a9c3ad757": {
     "model_module": "@jupyter-widgets/controls",
     "model_name": "HBoxModel",
     "state": {
      "_dom_classes": [],
      "_model_module": "@jupyter-widgets/controls",
      "_model_module_version": "1.5.0",
      "_model_name": "HBoxModel",
      "_view_count": null,
      "_view_module": "@jupyter-widgets/controls",
      "_view_module_version": "1.5.0",
      "_view_name": "HBoxView",
      "box_style": "",
      "children": [
       "IPY_MODEL_25ce850d727f4a709879a9547dc5868b",
       "IPY_MODEL_40288bc6a8f641d99b19912e6fca7248"
      ],
      "layout": "IPY_MODEL_485927b18b5740fb91b4373571c3c9be"
     }
    },
    "1908ba5e559148478a623660c1bf6f05": {
     "model_module": "@jupyter-widgets/controls",
     "model_name": "ProgressStyleModel",
     "state": {
      "_model_module": "@jupyter-widgets/controls",
      "_model_module_version": "1.5.0",
      "_model_name": "ProgressStyleModel",
      "_view_count": null,
      "_view_module": "@jupyter-widgets/base",
      "_view_module_version": "1.2.0",
      "_view_name": "StyleView",
      "bar_color": null,
      "description_width": "initial"
     }
    },
    "20a941acf28a41e8a13f8c36aacb0df7": {
     "model_module": "@jupyter-widgets/base",
     "model_name": "LayoutModel",
     "state": {
      "_model_module": "@jupyter-widgets/base",
      "_model_module_version": "1.2.0",
      "_model_name": "LayoutModel",
      "_view_count": null,
      "_view_module": "@jupyter-widgets/base",
      "_view_module_version": "1.2.0",
      "_view_name": "LayoutView",
      "align_content": null,
      "align_items": null,
      "align_self": null,
      "border": null,
      "bottom": null,
      "display": null,
      "flex": null,
      "flex_flow": null,
      "grid_area": null,
      "grid_auto_columns": null,
      "grid_auto_flow": null,
      "grid_auto_rows": null,
      "grid_column": null,
      "grid_gap": null,
      "grid_row": null,
      "grid_template_areas": null,
      "grid_template_columns": null,
      "grid_template_rows": null,
      "height": null,
      "justify_content": null,
      "justify_items": null,
      "left": null,
      "margin": null,
      "max_height": null,
      "max_width": null,
      "min_height": null,
      "min_width": null,
      "object_fit": null,
      "object_position": null,
      "order": null,
      "overflow": null,
      "overflow_x": null,
      "overflow_y": null,
      "padding": null,
      "right": null,
      "top": null,
      "visibility": null,
      "width": null
     }
    },
    "21389eb8c5174cb99125b68f445ad76c": {
     "model_module": "@jupyter-widgets/controls",
     "model_name": "ProgressStyleModel",
     "state": {
      "_model_module": "@jupyter-widgets/controls",
      "_model_module_version": "1.5.0",
      "_model_name": "ProgressStyleModel",
      "_view_count": null,
      "_view_module": "@jupyter-widgets/base",
      "_view_module_version": "1.2.0",
      "_view_name": "StyleView",
      "bar_color": null,
      "description_width": "initial"
     }
    },
    "25ce850d727f4a709879a9547dc5868b": {
     "model_module": "@jupyter-widgets/controls",
     "model_name": "FloatProgressModel",
     "state": {
      "_dom_classes": [],
      "_model_module": "@jupyter-widgets/controls",
      "_model_module_version": "1.5.0",
      "_model_name": "FloatProgressModel",
      "_view_count": null,
      "_view_module": "@jupyter-widgets/controls",
      "_view_module_version": "1.5.0",
      "_view_name": "ProgressView",
      "bar_style": "success",
      "description": "100%",
      "description_tooltip": null,
      "layout": "IPY_MODEL_a89981d553194b5f820f0c68c722ec8b",
      "max": 4,
      "min": 0,
      "orientation": "horizontal",
      "style": "IPY_MODEL_8e813c9403614affa1aaad036a89a0b0",
      "value": 4
     }
    },
    "2bdb435ab47c467dbfe00e613e462886": {
     "model_module": "@jupyter-widgets/controls",
     "model_name": "HTMLModel",
     "state": {
      "_dom_classes": [],
      "_model_module": "@jupyter-widgets/controls",
      "_model_module_version": "1.5.0",
      "_model_name": "HTMLModel",
      "_view_count": null,
      "_view_module": "@jupyter-widgets/controls",
      "_view_module_version": "1.5.0",
      "_view_name": "HTMLView",
      "description": "",
      "description_tooltip": null,
      "layout": "IPY_MODEL_4109665776a84ea9ab1f0d91ff18d0b5",
      "placeholder": "​",
      "style": "IPY_MODEL_e03fc78f26de42909318e33ca9fee816",
      "value": " 438M/438M [00:16&lt;00:00, 26.3MB/s]"
     }
    },
    "2f068de3af7e458ab13f66c1f0d4dd8f": {
     "model_module": "@jupyter-widgets/base",
     "model_name": "LayoutModel",
     "state": {
      "_model_module": "@jupyter-widgets/base",
      "_model_module_version": "1.2.0",
      "_model_name": "LayoutModel",
      "_view_count": null,
      "_view_module": "@jupyter-widgets/base",
      "_view_module_version": "1.2.0",
      "_view_name": "LayoutView",
      "align_content": null,
      "align_items": null,
      "align_self": null,
      "border": null,
      "bottom": null,
      "display": null,
      "flex": null,
      "flex_flow": null,
      "grid_area": null,
      "grid_auto_columns": null,
      "grid_auto_flow": null,
      "grid_auto_rows": null,
      "grid_column": null,
      "grid_gap": null,
      "grid_row": null,
      "grid_template_areas": null,
      "grid_template_columns": null,
      "grid_template_rows": null,
      "height": null,
      "justify_content": null,
      "justify_items": null,
      "left": null,
      "margin": null,
      "max_height": null,
      "max_width": null,
      "min_height": null,
      "min_width": null,
      "object_fit": null,
      "object_position": null,
      "order": null,
      "overflow": null,
      "overflow_x": null,
      "overflow_y": null,
      "padding": null,
      "right": null,
      "top": null,
      "visibility": null,
      "width": null
     }
    },
    "30814fd0313e4a74a83c683d03f9c2e9": {
     "model_module": "@jupyter-widgets/controls",
     "model_name": "DescriptionStyleModel",
     "state": {
      "_model_module": "@jupyter-widgets/controls",
      "_model_module_version": "1.5.0",
      "_model_name": "DescriptionStyleModel",
      "_view_count": null,
      "_view_module": "@jupyter-widgets/base",
      "_view_module_version": "1.2.0",
      "_view_name": "StyleView",
      "description_width": ""
     }
    },
    "30e67b48040e41fa8e133a15f4ae20ea": {
     "model_module": "@jupyter-widgets/controls",
     "model_name": "HTMLModel",
     "state": {
      "_dom_classes": [],
      "_model_module": "@jupyter-widgets/controls",
      "_model_module_version": "1.5.0",
      "_model_name": "HTMLModel",
      "_view_count": null,
      "_view_module": "@jupyter-widgets/controls",
      "_view_module_version": "1.5.0",
      "_view_name": "HTMLView",
      "description": "",
      "description_tooltip": null,
      "layout": "IPY_MODEL_20a941acf28a41e8a13f8c36aacb0df7",
      "placeholder": "​",
      "style": "IPY_MODEL_451f48b215a54654bcf10253c69ea4ed",
      "value": " 647/647 [00:00&lt;00:00, 2.01kB/s]"
     }
    },
    "321b8eb2b4c04d06ba6ddadc63d1608a": {
     "model_module": "@jupyter-widgets/base",
     "model_name": "LayoutModel",
     "state": {
      "_model_module": "@jupyter-widgets/base",
      "_model_module_version": "1.2.0",
      "_model_name": "LayoutModel",
      "_view_count": null,
      "_view_module": "@jupyter-widgets/base",
      "_view_module_version": "1.2.0",
      "_view_name": "LayoutView",
      "align_content": null,
      "align_items": null,
      "align_self": null,
      "border": null,
      "bottom": null,
      "display": null,
      "flex": null,
      "flex_flow": null,
      "grid_area": null,
      "grid_auto_columns": null,
      "grid_auto_flow": null,
      "grid_auto_rows": null,
      "grid_column": null,
      "grid_gap": null,
      "grid_row": null,
      "grid_template_areas": null,
      "grid_template_columns": null,
      "grid_template_rows": null,
      "height": null,
      "justify_content": null,
      "justify_items": null,
      "left": null,
      "margin": null,
      "max_height": null,
      "max_width": null,
      "min_height": null,
      "min_width": null,
      "object_fit": null,
      "object_position": null,
      "order": null,
      "overflow": null,
      "overflow_x": null,
      "overflow_y": null,
      "padding": null,
      "right": null,
      "top": null,
      "visibility": null,
      "width": null
     }
    },
    "3901bdf6ac3e4d6eaaa585529aa8fb4b": {
     "model_module": "@jupyter-widgets/controls",
     "model_name": "FloatProgressModel",
     "state": {
      "_dom_classes": [],
      "_model_module": "@jupyter-widgets/controls",
      "_model_module_version": "1.5.0",
      "_model_name": "FloatProgressModel",
      "_view_count": null,
      "_view_module": "@jupyter-widgets/controls",
      "_view_module_version": "1.5.0",
      "_view_name": "ProgressView",
      "bar_style": "success",
      "description": "100%",
      "description_tooltip": null,
      "layout": "IPY_MODEL_c1cc564545d946849b9ac8d785ebfd90",
      "max": 3268,
      "min": 0,
      "orientation": "horizontal",
      "style": "IPY_MODEL_db2079f19c574469874d4b2dbc0195df",
      "value": 3268
     }
    },
    "3ac20d0afcea4788aa68a8a9d688d495": {
     "model_module": "@jupyter-widgets/controls",
     "model_name": "HBoxModel",
     "state": {
      "_dom_classes": [],
      "_model_module": "@jupyter-widgets/controls",
      "_model_module_version": "1.5.0",
      "_model_name": "HBoxModel",
      "_view_count": null,
      "_view_module": "@jupyter-widgets/controls",
      "_view_module_version": "1.5.0",
      "_view_name": "HBoxView",
      "box_style": "",
      "children": [
       "IPY_MODEL_3901bdf6ac3e4d6eaaa585529aa8fb4b",
       "IPY_MODEL_a0c24f83ed0c4a7fa4cc35a0d24b577c"
      ],
      "layout": "IPY_MODEL_86ca3eeef4194078bf03a374bce60d3d"
     }
    },
    "3f351a9af89f487683a82b71bc27dae0": {
     "model_module": "@jupyter-widgets/controls",
     "model_name": "DescriptionStyleModel",
     "state": {
      "_model_module": "@jupyter-widgets/controls",
      "_model_module_version": "1.5.0",
      "_model_name": "DescriptionStyleModel",
      "_view_count": null,
      "_view_module": "@jupyter-widgets/base",
      "_view_module_version": "1.2.0",
      "_view_name": "StyleView",
      "description_width": ""
     }
    },
    "40288bc6a8f641d99b19912e6fca7248": {
     "model_module": "@jupyter-widgets/controls",
     "model_name": "HTMLModel",
     "state": {
      "_dom_classes": [],
      "_model_module": "@jupyter-widgets/controls",
      "_model_module_version": "1.5.0",
      "_model_name": "HTMLModel",
      "_view_count": null,
      "_view_module": "@jupyter-widgets/controls",
      "_view_module_version": "1.5.0",
      "_view_name": "HTMLView",
      "description": "",
      "description_tooltip": null,
      "layout": "IPY_MODEL_d8157a6049f64d95b8c9dc78a16c56c0",
      "placeholder": "​",
      "style": "IPY_MODEL_e4c15d7dcab24a7b872806cc24508649",
      "value": " 4/4 [00:00&lt;00:00,  5.38it/s]"
     }
    },
    "4109665776a84ea9ab1f0d91ff18d0b5": {
     "model_module": "@jupyter-widgets/base",
     "model_name": "LayoutModel",
     "state": {
      "_model_module": "@jupyter-widgets/base",
      "_model_module_version": "1.2.0",
      "_model_name": "LayoutModel",
      "_view_count": null,
      "_view_module": "@jupyter-widgets/base",
      "_view_module_version": "1.2.0",
      "_view_name": "LayoutView",
      "align_content": null,
      "align_items": null,
      "align_self": null,
      "border": null,
      "bottom": null,
      "display": null,
      "flex": null,
      "flex_flow": null,
      "grid_area": null,
      "grid_auto_columns": null,
      "grid_auto_flow": null,
      "grid_auto_rows": null,
      "grid_column": null,
      "grid_gap": null,
      "grid_row": null,
      "grid_template_areas": null,
      "grid_template_columns": null,
      "grid_template_rows": null,
      "height": null,
      "justify_content": null,
      "justify_items": null,
      "left": null,
      "margin": null,
      "max_height": null,
      "max_width": null,
      "min_height": null,
      "min_width": null,
      "object_fit": null,
      "object_position": null,
      "order": null,
      "overflow": null,
      "overflow_x": null,
      "overflow_y": null,
      "padding": null,
      "right": null,
      "top": null,
      "visibility": null,
      "width": null
     }
    },
    "4127b42bac1e42e597ce9ad9ca725d6a": {
     "model_module": "@jupyter-widgets/base",
     "model_name": "LayoutModel",
     "state": {
      "_model_module": "@jupyter-widgets/base",
      "_model_module_version": "1.2.0",
      "_model_name": "LayoutModel",
      "_view_count": null,
      "_view_module": "@jupyter-widgets/base",
      "_view_module_version": "1.2.0",
      "_view_name": "LayoutView",
      "align_content": null,
      "align_items": null,
      "align_self": null,
      "border": null,
      "bottom": null,
      "display": null,
      "flex": null,
      "flex_flow": null,
      "grid_area": null,
      "grid_auto_columns": null,
      "grid_auto_flow": null,
      "grid_auto_rows": null,
      "grid_column": null,
      "grid_gap": null,
      "grid_row": null,
      "grid_template_areas": null,
      "grid_template_columns": null,
      "grid_template_rows": null,
      "height": null,
      "justify_content": null,
      "justify_items": null,
      "left": null,
      "margin": null,
      "max_height": null,
      "max_width": null,
      "min_height": null,
      "min_width": null,
      "object_fit": null,
      "object_position": null,
      "order": null,
      "overflow": null,
      "overflow_x": null,
      "overflow_y": null,
      "padding": null,
      "right": null,
      "top": null,
      "visibility": null,
      "width": null
     }
    },
    "4467e92d4c624cf8b6d8206103f7d999": {
     "model_module": "@jupyter-widgets/base",
     "model_name": "LayoutModel",
     "state": {
      "_model_module": "@jupyter-widgets/base",
      "_model_module_version": "1.2.0",
      "_model_name": "LayoutModel",
      "_view_count": null,
      "_view_module": "@jupyter-widgets/base",
      "_view_module_version": "1.2.0",
      "_view_name": "LayoutView",
      "align_content": null,
      "align_items": null,
      "align_self": null,
      "border": null,
      "bottom": null,
      "display": null,
      "flex": null,
      "flex_flow": null,
      "grid_area": null,
      "grid_auto_columns": null,
      "grid_auto_flow": null,
      "grid_auto_rows": null,
      "grid_column": null,
      "grid_gap": null,
      "grid_row": null,
      "grid_template_areas": null,
      "grid_template_columns": null,
      "grid_template_rows": null,
      "height": null,
      "justify_content": null,
      "justify_items": null,
      "left": null,
      "margin": null,
      "max_height": null,
      "max_width": null,
      "min_height": null,
      "min_width": null,
      "object_fit": null,
      "object_position": null,
      "order": null,
      "overflow": null,
      "overflow_x": null,
      "overflow_y": null,
      "padding": null,
      "right": null,
      "top": null,
      "visibility": null,
      "width": null
     }
    },
    "451f48b215a54654bcf10253c69ea4ed": {
     "model_module": "@jupyter-widgets/controls",
     "model_name": "DescriptionStyleModel",
     "state": {
      "_model_module": "@jupyter-widgets/controls",
      "_model_module_version": "1.5.0",
      "_model_name": "DescriptionStyleModel",
      "_view_count": null,
      "_view_module": "@jupyter-widgets/base",
      "_view_module_version": "1.2.0",
      "_view_name": "StyleView",
      "description_width": ""
     }
    },
    "463a6ed2bbda47dc92495146172d15ba": {
     "model_module": "@jupyter-widgets/controls",
     "model_name": "HTMLModel",
     "state": {
      "_dom_classes": [],
      "_model_module": "@jupyter-widgets/controls",
      "_model_module_version": "1.5.0",
      "_model_name": "HTMLModel",
      "_view_count": null,
      "_view_module": "@jupyter-widgets/controls",
      "_view_module_version": "1.5.0",
      "_view_name": "HTMLView",
      "description": "",
      "description_tooltip": null,
      "layout": "IPY_MODEL_f6485739f78e41ae96c0e14b7207dd15",
      "placeholder": "​",
      "style": "IPY_MODEL_30814fd0313e4a74a83c683d03f9c2e9",
      "value": " 2.00/2.00 [00:01&lt;00:00, 1.69B/s]"
     }
    },
    "472264df6ae444889fb7ddc883e450bb": {
     "model_module": "@jupyter-widgets/controls",
     "model_name": "FloatProgressModel",
     "state": {
      "_dom_classes": [],
      "_model_module": "@jupyter-widgets/controls",
      "_model_module_version": "1.5.0",
      "_model_name": "FloatProgressModel",
      "_view_count": null,
      "_view_module": "@jupyter-widgets/controls",
      "_view_module_version": "1.5.0",
      "_view_name": "ProgressView",
      "bar_style": "success",
      "description": "Downloading: 100%",
      "description_tooltip": null,
      "layout": "IPY_MODEL_044351e499784bb9ba3e4e0721887b26",
      "max": 209528,
      "min": 0,
      "orientation": "horizontal",
      "style": "IPY_MODEL_1908ba5e559148478a623660c1bf6f05",
      "value": 209528
     }
    },
    "485927b18b5740fb91b4373571c3c9be": {
     "model_module": "@jupyter-widgets/base",
     "model_name": "LayoutModel",
     "state": {
      "_model_module": "@jupyter-widgets/base",
      "_model_module_version": "1.2.0",
      "_model_name": "LayoutModel",
      "_view_count": null,
      "_view_module": "@jupyter-widgets/base",
      "_view_module_version": "1.2.0",
      "_view_name": "LayoutView",
      "align_content": null,
      "align_items": null,
      "align_self": null,
      "border": null,
      "bottom": null,
      "display": null,
      "flex": null,
      "flex_flow": null,
      "grid_area": null,
      "grid_auto_columns": null,
      "grid_auto_flow": null,
      "grid_auto_rows": null,
      "grid_column": null,
      "grid_gap": null,
      "grid_row": null,
      "grid_template_areas": null,
      "grid_template_columns": null,
      "grid_template_rows": null,
      "height": null,
      "justify_content": null,
      "justify_items": null,
      "left": null,
      "margin": null,
      "max_height": null,
      "max_width": null,
      "min_height": null,
      "min_width": null,
      "object_fit": null,
      "object_position": null,
      "order": null,
      "overflow": null,
      "overflow_x": null,
      "overflow_y": null,
      "padding": null,
      "right": null,
      "top": null,
      "visibility": null,
      "width": null
     }
    },
    "4d4e35c6baaa4161b3ef4591b4564e96": {
     "model_module": "@jupyter-widgets/base",
     "model_name": "LayoutModel",
     "state": {
      "_model_module": "@jupyter-widgets/base",
      "_model_module_version": "1.2.0",
      "_model_name": "LayoutModel",
      "_view_count": null,
      "_view_module": "@jupyter-widgets/base",
      "_view_module_version": "1.2.0",
      "_view_name": "LayoutView",
      "align_content": null,
      "align_items": null,
      "align_self": null,
      "border": null,
      "bottom": null,
      "display": null,
      "flex": null,
      "flex_flow": null,
      "grid_area": null,
      "grid_auto_columns": null,
      "grid_auto_flow": null,
      "grid_auto_rows": null,
      "grid_column": null,
      "grid_gap": null,
      "grid_row": null,
      "grid_template_areas": null,
      "grid_template_columns": null,
      "grid_template_rows": null,
      "height": null,
      "justify_content": null,
      "justify_items": null,
      "left": null,
      "margin": null,
      "max_height": null,
      "max_width": null,
      "min_height": null,
      "min_width": null,
      "object_fit": null,
      "object_position": null,
      "order": null,
      "overflow": null,
      "overflow_x": null,
      "overflow_y": null,
      "padding": null,
      "right": null,
      "top": null,
      "visibility": null,
      "width": null
     }
    },
    "4fec858b88734caf85888a8e30ed0262": {
     "model_module": "@jupyter-widgets/base",
     "model_name": "LayoutModel",
     "state": {
      "_model_module": "@jupyter-widgets/base",
      "_model_module_version": "1.2.0",
      "_model_name": "LayoutModel",
      "_view_count": null,
      "_view_module": "@jupyter-widgets/base",
      "_view_module_version": "1.2.0",
      "_view_name": "LayoutView",
      "align_content": null,
      "align_items": null,
      "align_self": null,
      "border": null,
      "bottom": null,
      "display": null,
      "flex": null,
      "flex_flow": null,
      "grid_area": null,
      "grid_auto_columns": null,
      "grid_auto_flow": null,
      "grid_auto_rows": null,
      "grid_column": null,
      "grid_gap": null,
      "grid_row": null,
      "grid_template_areas": null,
      "grid_template_columns": null,
      "grid_template_rows": null,
      "height": null,
      "justify_content": null,
      "justify_items": null,
      "left": null,
      "margin": null,
      "max_height": null,
      "max_width": null,
      "min_height": null,
      "min_width": null,
      "object_fit": null,
      "object_position": null,
      "order": null,
      "overflow": null,
      "overflow_x": null,
      "overflow_y": null,
      "padding": null,
      "right": null,
      "top": null,
      "visibility": null,
      "width": null
     }
    },
    "50f12662bdff45b0b784e6c0838d0c8b": {
     "model_module": "@jupyter-widgets/base",
     "model_name": "LayoutModel",
     "state": {
      "_model_module": "@jupyter-widgets/base",
      "_model_module_version": "1.2.0",
      "_model_name": "LayoutModel",
      "_view_count": null,
      "_view_module": "@jupyter-widgets/base",
      "_view_module_version": "1.2.0",
      "_view_name": "LayoutView",
      "align_content": null,
      "align_items": null,
      "align_self": null,
      "border": null,
      "bottom": null,
      "display": null,
      "flex": null,
      "flex_flow": null,
      "grid_area": null,
      "grid_auto_columns": null,
      "grid_auto_flow": null,
      "grid_auto_rows": null,
      "grid_column": null,
      "grid_gap": null,
      "grid_row": null,
      "grid_template_areas": null,
      "grid_template_columns": null,
      "grid_template_rows": null,
      "height": null,
      "justify_content": null,
      "justify_items": null,
      "left": null,
      "margin": null,
      "max_height": null,
      "max_width": null,
      "min_height": null,
      "min_width": null,
      "object_fit": null,
      "object_position": null,
      "order": null,
      "overflow": null,
      "overflow_x": null,
      "overflow_y": null,
      "padding": null,
      "right": null,
      "top": null,
      "visibility": null,
      "width": null
     }
    },
    "51d91e8fdd334b73b1e8f8632525229a": {
     "model_module": "@jupyter-widgets/controls",
     "model_name": "FloatProgressModel",
     "state": {
      "_dom_classes": [],
      "_model_module": "@jupyter-widgets/controls",
      "_model_module_version": "1.5.0",
      "_model_name": "FloatProgressModel",
      "_view_count": null,
      "_view_module": "@jupyter-widgets/controls",
      "_view_module_version": "1.5.0",
      "_view_name": "ProgressView",
      "bar_style": "success",
      "description": "Downloading: 100%",
      "description_tooltip": null,
      "layout": "IPY_MODEL_eaf6399d7c1d48b1aaaad93b237fdc26",
      "max": 2,
      "min": 0,
      "orientation": "horizontal",
      "style": "IPY_MODEL_c3b0f0c084cb44efa2759a832a962dbc",
      "value": 2
     }
    },
    "5d186662f7aa451ba82c681bbff772bd": {
     "model_module": "@jupyter-widgets/controls",
     "model_name": "HBoxModel",
     "state": {
      "_dom_classes": [],
      "_model_module": "@jupyter-widgets/controls",
      "_model_module_version": "1.5.0",
      "_model_name": "HBoxModel",
      "_view_count": null,
      "_view_module": "@jupyter-widgets/controls",
      "_view_module_version": "1.5.0",
      "_view_name": "HBoxView",
      "box_style": "",
      "children": [
       "IPY_MODEL_87654333ad374e9d938424bf96adaa45",
       "IPY_MODEL_2bdb435ab47c467dbfe00e613e462886"
      ],
      "layout": "IPY_MODEL_321b8eb2b4c04d06ba6ddadc63d1608a"
     }
    },
    "632ccd7ecda54927bb8f00bba3672a2f": {
     "model_module": "@jupyter-widgets/controls",
     "model_name": "HBoxModel",
     "state": {
      "_dom_classes": [],
      "_model_module": "@jupyter-widgets/controls",
      "_model_module_version": "1.5.0",
      "_model_name": "HBoxModel",
      "_view_count": null,
      "_view_module": "@jupyter-widgets/controls",
      "_view_module_version": "1.5.0",
      "_view_name": "HBoxView",
      "box_style": "",
      "children": [
       "IPY_MODEL_472264df6ae444889fb7ddc883e450bb",
       "IPY_MODEL_a2507ad0bb3a41668dfe79536ef2a36b"
      ],
      "layout": "IPY_MODEL_801c5ce5c798414a8b0b228a76d1ee33"
     }
    },
    "65b9a296197d43e18890e7fc1eaf3995": {
     "model_module": "@jupyter-widgets/base",
     "model_name": "LayoutModel",
     "state": {
      "_model_module": "@jupyter-widgets/base",
      "_model_module_version": "1.2.0",
      "_model_name": "LayoutModel",
      "_view_count": null,
      "_view_module": "@jupyter-widgets/base",
      "_view_module_version": "1.2.0",
      "_view_name": "LayoutView",
      "align_content": null,
      "align_items": null,
      "align_self": null,
      "border": null,
      "bottom": null,
      "display": null,
      "flex": null,
      "flex_flow": null,
      "grid_area": null,
      "grid_auto_columns": null,
      "grid_auto_flow": null,
      "grid_auto_rows": null,
      "grid_column": null,
      "grid_gap": null,
      "grid_row": null,
      "grid_template_areas": null,
      "grid_template_columns": null,
      "grid_template_rows": null,
      "height": null,
      "justify_content": null,
      "justify_items": null,
      "left": null,
      "margin": null,
      "max_height": null,
      "max_width": null,
      "min_height": null,
      "min_width": null,
      "object_fit": null,
      "object_position": null,
      "order": null,
      "overflow": null,
      "overflow_x": null,
      "overflow_y": null,
      "padding": null,
      "right": null,
      "top": null,
      "visibility": null,
      "width": null
     }
    },
    "661fef5563b84469bf2dd9caee432ff8": {
     "model_module": "@jupyter-widgets/controls",
     "model_name": "HTMLModel",
     "state": {
      "_dom_classes": [],
      "_model_module": "@jupyter-widgets/controls",
      "_model_module_version": "1.5.0",
      "_model_name": "HTMLModel",
      "_view_count": null,
      "_view_module": "@jupyter-widgets/controls",
      "_view_module_version": "1.5.0",
      "_view_name": "HTMLView",
      "description": "",
      "description_tooltip": null,
      "layout": "IPY_MODEL_07c0e6171f0445e1a52c9e1cffb2d5cd",
      "placeholder": "​",
      "style": "IPY_MODEL_c1d23cf46c7c495780d9a733c295367e",
      "value": " 43.0/43.0 [00:00&lt;00:00, 161B/s]"
     }
    },
    "664266f334074b3d8a729b8777b2464f": {
     "model_module": "@jupyter-widgets/controls",
     "model_name": "HTMLModel",
     "state": {
      "_dom_classes": [],
      "_model_module": "@jupyter-widgets/controls",
      "_model_module_version": "1.5.0",
      "_model_name": "HTMLModel",
      "_view_count": null,
      "_view_module": "@jupyter-widgets/controls",
      "_view_module_version": "1.5.0",
      "_view_name": "HTMLView",
      "description": "",
      "description_tooltip": null,
      "layout": "IPY_MODEL_841eb7388a9948faae4727a48de04e80",
      "placeholder": "​",
      "style": "IPY_MODEL_3f351a9af89f487683a82b71bc27dae0",
      "value": " 3268/3268 [00:07&lt;00:00, 413.71it/s]"
     }
    },
    "70e1d63914704d719a62fa7e51a05a30": {
     "model_module": "@jupyter-widgets/controls",
     "model_name": "HBoxModel",
     "state": {
      "_dom_classes": [],
      "_model_module": "@jupyter-widgets/controls",
      "_model_module_version": "1.5.0",
      "_model_name": "HBoxModel",
      "_view_count": null,
      "_view_module": "@jupyter-widgets/controls",
      "_view_module_version": "1.5.0",
      "_view_name": "HBoxView",
      "box_style": "",
      "children": [
       "IPY_MODEL_875928e7de344a499fcb9fade312ef1b",
       "IPY_MODEL_664266f334074b3d8a729b8777b2464f"
      ],
      "layout": "IPY_MODEL_4127b42bac1e42e597ce9ad9ca725d6a"
     }
    },
    "72abb3cda0434acdb93e700166006a28": {
     "model_module": "@jupyter-widgets/controls",
     "model_name": "ProgressStyleModel",
     "state": {
      "_model_module": "@jupyter-widgets/controls",
      "_model_module_version": "1.5.0",
      "_model_name": "ProgressStyleModel",
      "_view_count": null,
      "_view_module": "@jupyter-widgets/base",
      "_view_module_version": "1.2.0",
      "_view_name": "StyleView",
      "bar_color": null,
      "description_width": "initial"
     }
    },
    "76f6fa2a77e34188b68a92a011105563": {
     "model_module": "@jupyter-widgets/controls",
     "model_name": "ProgressStyleModel",
     "state": {
      "_model_module": "@jupyter-widgets/controls",
      "_model_module_version": "1.5.0",
      "_model_name": "ProgressStyleModel",
      "_view_count": null,
      "_view_module": "@jupyter-widgets/base",
      "_view_module_version": "1.2.0",
      "_view_name": "StyleView",
      "bar_color": null,
      "description_width": "initial"
     }
    },
    "7d5ee1ea41f1447f837b396adabe4b76": {
     "model_module": "@jupyter-widgets/controls",
     "model_name": "FloatProgressModel",
     "state": {
      "_dom_classes": [],
      "_model_module": "@jupyter-widgets/controls",
      "_model_module_version": "1.5.0",
      "_model_name": "FloatProgressModel",
      "_view_count": null,
      "_view_module": "@jupyter-widgets/controls",
      "_view_module_version": "1.5.0",
      "_view_name": "ProgressView",
      "bar_style": "success",
      "description": "Downloading: 100%",
      "description_tooltip": null,
      "layout": "IPY_MODEL_65b9a296197d43e18890e7fc1eaf3995",
      "max": 112,
      "min": 0,
      "orientation": "horizontal",
      "style": "IPY_MODEL_049cd2b2c12a418e9bf6462d7a27eb27",
      "value": 112
     }
    },
    "801c5ce5c798414a8b0b228a76d1ee33": {
     "model_module": "@jupyter-widgets/base",
     "model_name": "LayoutModel",
     "state": {
      "_model_module": "@jupyter-widgets/base",
      "_model_module_version": "1.2.0",
      "_model_name": "LayoutModel",
      "_view_count": null,
      "_view_module": "@jupyter-widgets/base",
      "_view_module_version": "1.2.0",
      "_view_name": "LayoutView",
      "align_content": null,
      "align_items": null,
      "align_self": null,
      "border": null,
      "bottom": null,
      "display": null,
      "flex": null,
      "flex_flow": null,
      "grid_area": null,
      "grid_auto_columns": null,
      "grid_auto_flow": null,
      "grid_auto_rows": null,
      "grid_column": null,
      "grid_gap": null,
      "grid_row": null,
      "grid_template_areas": null,
      "grid_template_columns": null,
      "grid_template_rows": null,
      "height": null,
      "justify_content": null,
      "justify_items": null,
      "left": null,
      "margin": null,
      "max_height": null,
      "max_width": null,
      "min_height": null,
      "min_width": null,
      "object_fit": null,
      "object_position": null,
      "order": null,
      "overflow": null,
      "overflow_x": null,
      "overflow_y": null,
      "padding": null,
      "right": null,
      "top": null,
      "visibility": null,
      "width": null
     }
    },
    "841eb7388a9948faae4727a48de04e80": {
     "model_module": "@jupyter-widgets/base",
     "model_name": "LayoutModel",
     "state": {
      "_model_module": "@jupyter-widgets/base",
      "_model_module_version": "1.2.0",
      "_model_name": "LayoutModel",
      "_view_count": null,
      "_view_module": "@jupyter-widgets/base",
      "_view_module_version": "1.2.0",
      "_view_name": "LayoutView",
      "align_content": null,
      "align_items": null,
      "align_self": null,
      "border": null,
      "bottom": null,
      "display": null,
      "flex": null,
      "flex_flow": null,
      "grid_area": null,
      "grid_auto_columns": null,
      "grid_auto_flow": null,
      "grid_auto_rows": null,
      "grid_column": null,
      "grid_gap": null,
      "grid_row": null,
      "grid_template_areas": null,
      "grid_template_columns": null,
      "grid_template_rows": null,
      "height": null,
      "justify_content": null,
      "justify_items": null,
      "left": null,
      "margin": null,
      "max_height": null,
      "max_width": null,
      "min_height": null,
      "min_width": null,
      "object_fit": null,
      "object_position": null,
      "order": null,
      "overflow": null,
      "overflow_x": null,
      "overflow_y": null,
      "padding": null,
      "right": null,
      "top": null,
      "visibility": null,
      "width": null
     }
    },
    "8494f871dc0f49b8bfd31993742c90cc": {
     "model_module": "@jupyter-widgets/controls",
     "model_name": "ProgressStyleModel",
     "state": {
      "_model_module": "@jupyter-widgets/controls",
      "_model_module_version": "1.5.0",
      "_model_name": "ProgressStyleModel",
      "_view_count": null,
      "_view_module": "@jupyter-widgets/base",
      "_view_module_version": "1.2.0",
      "_view_name": "StyleView",
      "bar_color": null,
      "description_width": "initial"
     }
    },
    "86ca3eeef4194078bf03a374bce60d3d": {
     "model_module": "@jupyter-widgets/base",
     "model_name": "LayoutModel",
     "state": {
      "_model_module": "@jupyter-widgets/base",
      "_model_module_version": "1.2.0",
      "_model_name": "LayoutModel",
      "_view_count": null,
      "_view_module": "@jupyter-widgets/base",
      "_view_module_version": "1.2.0",
      "_view_name": "LayoutView",
      "align_content": null,
      "align_items": null,
      "align_self": null,
      "border": null,
      "bottom": null,
      "display": null,
      "flex": null,
      "flex_flow": null,
      "grid_area": null,
      "grid_auto_columns": null,
      "grid_auto_flow": null,
      "grid_auto_rows": null,
      "grid_column": null,
      "grid_gap": null,
      "grid_row": null,
      "grid_template_areas": null,
      "grid_template_columns": null,
      "grid_template_rows": null,
      "height": null,
      "justify_content": null,
      "justify_items": null,
      "left": null,
      "margin": null,
      "max_height": null,
      "max_width": null,
      "min_height": null,
      "min_width": null,
      "object_fit": null,
      "object_position": null,
      "order": null,
      "overflow": null,
      "overflow_x": null,
      "overflow_y": null,
      "padding": null,
      "right": null,
      "top": null,
      "visibility": null,
      "width": null
     }
    },
    "875928e7de344a499fcb9fade312ef1b": {
     "model_module": "@jupyter-widgets/controls",
     "model_name": "FloatProgressModel",
     "state": {
      "_dom_classes": [],
      "_model_module": "@jupyter-widgets/controls",
      "_model_module_version": "1.5.0",
      "_model_name": "FloatProgressModel",
      "_view_count": null,
      "_view_module": "@jupyter-widgets/controls",
      "_view_module_version": "1.5.0",
      "_view_name": "ProgressView",
      "bar_style": "success",
      "description": "100%",
      "description_tooltip": null,
      "layout": "IPY_MODEL_cd950315d40146b193fc273c5777406a",
      "max": 3268,
      "min": 0,
      "orientation": "horizontal",
      "style": "IPY_MODEL_76f6fa2a77e34188b68a92a011105563",
      "value": 3268
     }
    },
    "87654333ad374e9d938424bf96adaa45": {
     "model_module": "@jupyter-widgets/controls",
     "model_name": "FloatProgressModel",
     "state": {
      "_dom_classes": [],
      "_model_module": "@jupyter-widgets/controls",
      "_model_module_version": "1.5.0",
      "_model_name": "FloatProgressModel",
      "_view_count": null,
      "_view_module": "@jupyter-widgets/controls",
      "_view_module_version": "1.5.0",
      "_view_name": "ProgressView",
      "bar_style": "success",
      "description": "Downloading: 100%",
      "description_tooltip": null,
      "layout": "IPY_MODEL_4fec858b88734caf85888a8e30ed0262",
      "max": 438235074,
      "min": 0,
      "orientation": "horizontal",
      "style": "IPY_MODEL_8494f871dc0f49b8bfd31993742c90cc",
      "value": 438235074
     }
    },
    "8e363fdedea944eb9a205159c8150d79": {
     "model_module": "@jupyter-widgets/base",
     "model_name": "LayoutModel",
     "state": {
      "_model_module": "@jupyter-widgets/base",
      "_model_module_version": "1.2.0",
      "_model_name": "LayoutModel",
      "_view_count": null,
      "_view_module": "@jupyter-widgets/base",
      "_view_module_version": "1.2.0",
      "_view_name": "LayoutView",
      "align_content": null,
      "align_items": null,
      "align_self": null,
      "border": null,
      "bottom": null,
      "display": null,
      "flex": null,
      "flex_flow": null,
      "grid_area": null,
      "grid_auto_columns": null,
      "grid_auto_flow": null,
      "grid_auto_rows": null,
      "grid_column": null,
      "grid_gap": null,
      "grid_row": null,
      "grid_template_areas": null,
      "grid_template_columns": null,
      "grid_template_rows": null,
      "height": null,
      "justify_content": null,
      "justify_items": null,
      "left": null,
      "margin": null,
      "max_height": null,
      "max_width": null,
      "min_height": null,
      "min_width": null,
      "object_fit": null,
      "object_position": null,
      "order": null,
      "overflow": null,
      "overflow_x": null,
      "overflow_y": null,
      "padding": null,
      "right": null,
      "top": null,
      "visibility": null,
      "width": null
     }
    },
    "8e813c9403614affa1aaad036a89a0b0": {
     "model_module": "@jupyter-widgets/controls",
     "model_name": "ProgressStyleModel",
     "state": {
      "_model_module": "@jupyter-widgets/controls",
      "_model_module_version": "1.5.0",
      "_model_name": "ProgressStyleModel",
      "_view_count": null,
      "_view_module": "@jupyter-widgets/base",
      "_view_module_version": "1.2.0",
      "_view_name": "StyleView",
      "bar_color": null,
      "description_width": "initial"
     }
    },
    "8ead0d7aeb9243128f45c1dc036e0b35": {
     "model_module": "@jupyter-widgets/base",
     "model_name": "LayoutModel",
     "state": {
      "_model_module": "@jupyter-widgets/base",
      "_model_module_version": "1.2.0",
      "_model_name": "LayoutModel",
      "_view_count": null,
      "_view_module": "@jupyter-widgets/base",
      "_view_module_version": "1.2.0",
      "_view_name": "LayoutView",
      "align_content": null,
      "align_items": null,
      "align_self": null,
      "border": null,
      "bottom": null,
      "display": null,
      "flex": null,
      "flex_flow": null,
      "grid_area": null,
      "grid_auto_columns": null,
      "grid_auto_flow": null,
      "grid_auto_rows": null,
      "grid_column": null,
      "grid_gap": null,
      "grid_row": null,
      "grid_template_areas": null,
      "grid_template_columns": null,
      "grid_template_rows": null,
      "height": null,
      "justify_content": null,
      "justify_items": null,
      "left": null,
      "margin": null,
      "max_height": null,
      "max_width": null,
      "min_height": null,
      "min_width": null,
      "object_fit": null,
      "object_position": null,
      "order": null,
      "overflow": null,
      "overflow_x": null,
      "overflow_y": null,
      "padding": null,
      "right": null,
      "top": null,
      "visibility": null,
      "width": null
     }
    },
    "947212bdbe164ccf990727bb2f0f3cac": {
     "model_module": "@jupyter-widgets/controls",
     "model_name": "HBoxModel",
     "state": {
      "_dom_classes": [],
      "_model_module": "@jupyter-widgets/controls",
      "_model_module_version": "1.5.0",
      "_model_name": "HBoxModel",
      "_view_count": null,
      "_view_module": "@jupyter-widgets/controls",
      "_view_module_version": "1.5.0",
      "_view_name": "HBoxView",
      "box_style": "",
      "children": [
       "IPY_MODEL_e432e0d4982e4d838bd87d8b05c3028f",
       "IPY_MODEL_661fef5563b84469bf2dd9caee432ff8"
      ],
      "layout": "IPY_MODEL_0414f28d1a524737bb2c4a9272625ecc"
     }
    },
    "94d788d3acd241dd909870d98afba847": {
     "model_module": "@jupyter-widgets/controls",
     "model_name": "DescriptionStyleModel",
     "state": {
      "_model_module": "@jupyter-widgets/controls",
      "_model_module_version": "1.5.0",
      "_model_name": "DescriptionStyleModel",
      "_view_count": null,
      "_view_module": "@jupyter-widgets/base",
      "_view_module_version": "1.2.0",
      "_view_name": "StyleView",
      "description_width": ""
     }
    },
    "9a7fdb1725984c18a6f06ef29ae2a853": {
     "model_module": "@jupyter-widgets/base",
     "model_name": "LayoutModel",
     "state": {
      "_model_module": "@jupyter-widgets/base",
      "_model_module_version": "1.2.0",
      "_model_name": "LayoutModel",
      "_view_count": null,
      "_view_module": "@jupyter-widgets/base",
      "_view_module_version": "1.2.0",
      "_view_name": "LayoutView",
      "align_content": null,
      "align_items": null,
      "align_self": null,
      "border": null,
      "bottom": null,
      "display": null,
      "flex": null,
      "flex_flow": null,
      "grid_area": null,
      "grid_auto_columns": null,
      "grid_auto_flow": null,
      "grid_auto_rows": null,
      "grid_column": null,
      "grid_gap": null,
      "grid_row": null,
      "grid_template_areas": null,
      "grid_template_columns": null,
      "grid_template_rows": null,
      "height": null,
      "justify_content": null,
      "justify_items": null,
      "left": null,
      "margin": null,
      "max_height": null,
      "max_width": null,
      "min_height": null,
      "min_width": null,
      "object_fit": null,
      "object_position": null,
      "order": null,
      "overflow": null,
      "overflow_x": null,
      "overflow_y": null,
      "padding": null,
      "right": null,
      "top": null,
      "visibility": null,
      "width": null
     }
    },
    "a0c24f83ed0c4a7fa4cc35a0d24b577c": {
     "model_module": "@jupyter-widgets/controls",
     "model_name": "HTMLModel",
     "state": {
      "_dom_classes": [],
      "_model_module": "@jupyter-widgets/controls",
      "_model_module_version": "1.5.0",
      "_model_name": "HTMLModel",
      "_view_count": null,
      "_view_module": "@jupyter-widgets/controls",
      "_view_module_version": "1.5.0",
      "_view_name": "HTMLView",
      "description": "",
      "description_tooltip": null,
      "layout": "IPY_MODEL_8ead0d7aeb9243128f45c1dc036e0b35",
      "placeholder": "​",
      "style": "IPY_MODEL_94d788d3acd241dd909870d98afba847",
      "value": " 3268/3268 [18:50&lt;00:00,  2.89it/s]"
     }
    },
    "a2507ad0bb3a41668dfe79536ef2a36b": {
     "model_module": "@jupyter-widgets/controls",
     "model_name": "HTMLModel",
     "state": {
      "_dom_classes": [],
      "_model_module": "@jupyter-widgets/controls",
      "_model_module_version": "1.5.0",
      "_model_name": "HTMLModel",
      "_view_count": null,
      "_view_module": "@jupyter-widgets/controls",
      "_view_module_version": "1.5.0",
      "_view_name": "HTMLView",
      "description": "",
      "description_tooltip": null,
      "layout": "IPY_MODEL_50f12662bdff45b0b784e6c0838d0c8b",
      "placeholder": "​",
      "style": "IPY_MODEL_e3788e4b74a6457bae94cab620b8f8dd",
      "value": " 210k/210k [00:00&lt;00:00, 298kB/s]"
     }
    },
    "a89981d553194b5f820f0c68c722ec8b": {
     "model_module": "@jupyter-widgets/base",
     "model_name": "LayoutModel",
     "state": {
      "_model_module": "@jupyter-widgets/base",
      "_model_module_version": "1.2.0",
      "_model_name": "LayoutModel",
      "_view_count": null,
      "_view_module": "@jupyter-widgets/base",
      "_view_module_version": "1.2.0",
      "_view_name": "LayoutView",
      "align_content": null,
      "align_items": null,
      "align_self": null,
      "border": null,
      "bottom": null,
      "display": null,
      "flex": null,
      "flex_flow": null,
      "grid_area": null,
      "grid_auto_columns": null,
      "grid_auto_flow": null,
      "grid_auto_rows": null,
      "grid_column": null,
      "grid_gap": null,
      "grid_row": null,
      "grid_template_areas": null,
      "grid_template_columns": null,
      "grid_template_rows": null,
      "height": null,
      "justify_content": null,
      "justify_items": null,
      "left": null,
      "margin": null,
      "max_height": null,
      "max_width": null,
      "min_height": null,
      "min_width": null,
      "object_fit": null,
      "object_position": null,
      "order": null,
      "overflow": null,
      "overflow_x": null,
      "overflow_y": null,
      "padding": null,
      "right": null,
      "top": null,
      "visibility": null,
      "width": null
     }
    },
    "ae00e22da6e14787b65d47fcaa5a6aff": {
     "model_module": "@jupyter-widgets/base",
     "model_name": "LayoutModel",
     "state": {
      "_model_module": "@jupyter-widgets/base",
      "_model_module_version": "1.2.0",
      "_model_name": "LayoutModel",
      "_view_count": null,
      "_view_module": "@jupyter-widgets/base",
      "_view_module_version": "1.2.0",
      "_view_name": "LayoutView",
      "align_content": null,
      "align_items": null,
      "align_self": null,
      "border": null,
      "bottom": null,
      "display": null,
      "flex": null,
      "flex_flow": null,
      "grid_area": null,
      "grid_auto_columns": null,
      "grid_auto_flow": null,
      "grid_auto_rows": null,
      "grid_column": null,
      "grid_gap": null,
      "grid_row": null,
      "grid_template_areas": null,
      "grid_template_columns": null,
      "grid_template_rows": null,
      "height": null,
      "justify_content": null,
      "justify_items": null,
      "left": null,
      "margin": null,
      "max_height": null,
      "max_width": null,
      "min_height": null,
      "min_width": null,
      "object_fit": null,
      "object_position": null,
      "order": null,
      "overflow": null,
      "overflow_x": null,
      "overflow_y": null,
      "padding": null,
      "right": null,
      "top": null,
      "visibility": null,
      "width": null
     }
    },
    "b0301ccad1fd4bf78d0a69ee6cefb74c": {
     "model_module": "@jupyter-widgets/controls",
     "model_name": "HBoxModel",
     "state": {
      "_dom_classes": [],
      "_model_module": "@jupyter-widgets/controls",
      "_model_module_version": "1.5.0",
      "_model_name": "HBoxModel",
      "_view_count": null,
      "_view_module": "@jupyter-widgets/controls",
      "_view_module_version": "1.5.0",
      "_view_name": "HBoxView",
      "box_style": "",
      "children": [
       "IPY_MODEL_51d91e8fdd334b73b1e8f8632525229a",
       "IPY_MODEL_463a6ed2bbda47dc92495146172d15ba"
      ],
      "layout": "IPY_MODEL_2f068de3af7e458ab13f66c1f0d4dd8f"
     }
    },
    "b2b8d3e577114b4c87e5552b15944137": {
     "model_module": "@jupyter-widgets/controls",
     "model_name": "FloatProgressModel",
     "state": {
      "_dom_classes": [],
      "_model_module": "@jupyter-widgets/controls",
      "_model_module_version": "1.5.0",
      "_model_name": "FloatProgressModel",
      "_view_count": null,
      "_view_module": "@jupyter-widgets/controls",
      "_view_module_version": "1.5.0",
      "_view_name": "ProgressView",
      "bar_style": "success",
      "description": "100%",
      "description_tooltip": null,
      "layout": "IPY_MODEL_c1c28bc2d4004eb0b488229d5f18aa92",
      "max": 3268,
      "min": 0,
      "orientation": "horizontal",
      "style": "IPY_MODEL_08d6a93c4c6b4724a1530f47aa42cdde",
      "value": 3268
     }
    },
    "be7736ac47e948588c2f7f8188c6bf47": {
     "model_module": "@jupyter-widgets/controls",
     "model_name": "DescriptionStyleModel",
     "state": {
      "_model_module": "@jupyter-widgets/controls",
      "_model_module_version": "1.5.0",
      "_model_name": "DescriptionStyleModel",
      "_view_count": null,
      "_view_module": "@jupyter-widgets/base",
      "_view_module_version": "1.2.0",
      "_view_name": "StyleView",
      "description_width": ""
     }
    },
    "c18fe8afd21c4d08b8c4c1e522043727": {
     "model_module": "@jupyter-widgets/controls",
     "model_name": "HTMLModel",
     "state": {
      "_dom_classes": [],
      "_model_module": "@jupyter-widgets/controls",
      "_model_module_version": "1.5.0",
      "_model_name": "HTMLModel",
      "_view_count": null,
      "_view_module": "@jupyter-widgets/controls",
      "_view_module_version": "1.5.0",
      "_view_name": "HTMLView",
      "description": "",
      "description_tooltip": null,
      "layout": "IPY_MODEL_ae00e22da6e14787b65d47fcaa5a6aff",
      "placeholder": "​",
      "style": "IPY_MODEL_eadc39ab1ad64332b6950cfe9b442344",
      "value": " 3268/3268 [00:02&lt;00:00, 1400.95it/s]"
     }
    },
    "c1c28bc2d4004eb0b488229d5f18aa92": {
     "model_module": "@jupyter-widgets/base",
     "model_name": "LayoutModel",
     "state": {
      "_model_module": "@jupyter-widgets/base",
      "_model_module_version": "1.2.0",
      "_model_name": "LayoutModel",
      "_view_count": null,
      "_view_module": "@jupyter-widgets/base",
      "_view_module_version": "1.2.0",
      "_view_name": "LayoutView",
      "align_content": null,
      "align_items": null,
      "align_self": null,
      "border": null,
      "bottom": null,
      "display": null,
      "flex": null,
      "flex_flow": null,
      "grid_area": null,
      "grid_auto_columns": null,
      "grid_auto_flow": null,
      "grid_auto_rows": null,
      "grid_column": null,
      "grid_gap": null,
      "grid_row": null,
      "grid_template_areas": null,
      "grid_template_columns": null,
      "grid_template_rows": null,
      "height": null,
      "justify_content": null,
      "justify_items": null,
      "left": null,
      "margin": null,
      "max_height": null,
      "max_width": null,
      "min_height": null,
      "min_width": null,
      "object_fit": null,
      "object_position": null,
      "order": null,
      "overflow": null,
      "overflow_x": null,
      "overflow_y": null,
      "padding": null,
      "right": null,
      "top": null,
      "visibility": null,
      "width": null
     }
    },
    "c1cc564545d946849b9ac8d785ebfd90": {
     "model_module": "@jupyter-widgets/base",
     "model_name": "LayoutModel",
     "state": {
      "_model_module": "@jupyter-widgets/base",
      "_model_module_version": "1.2.0",
      "_model_name": "LayoutModel",
      "_view_count": null,
      "_view_module": "@jupyter-widgets/base",
      "_view_module_version": "1.2.0",
      "_view_name": "LayoutView",
      "align_content": null,
      "align_items": null,
      "align_self": null,
      "border": null,
      "bottom": null,
      "display": null,
      "flex": null,
      "flex_flow": null,
      "grid_area": null,
      "grid_auto_columns": null,
      "grid_auto_flow": null,
      "grid_auto_rows": null,
      "grid_column": null,
      "grid_gap": null,
      "grid_row": null,
      "grid_template_areas": null,
      "grid_template_columns": null,
      "grid_template_rows": null,
      "height": null,
      "justify_content": null,
      "justify_items": null,
      "left": null,
      "margin": null,
      "max_height": null,
      "max_width": null,
      "min_height": null,
      "min_width": null,
      "object_fit": null,
      "object_position": null,
      "order": null,
      "overflow": null,
      "overflow_x": null,
      "overflow_y": null,
      "padding": null,
      "right": null,
      "top": null,
      "visibility": null,
      "width": null
     }
    },
    "c1d23cf46c7c495780d9a733c295367e": {
     "model_module": "@jupyter-widgets/controls",
     "model_name": "DescriptionStyleModel",
     "state": {
      "_model_module": "@jupyter-widgets/controls",
      "_model_module_version": "1.5.0",
      "_model_name": "DescriptionStyleModel",
      "_view_count": null,
      "_view_module": "@jupyter-widgets/base",
      "_view_module_version": "1.2.0",
      "_view_name": "StyleView",
      "description_width": ""
     }
    },
    "c3b0f0c084cb44efa2759a832a962dbc": {
     "model_module": "@jupyter-widgets/controls",
     "model_name": "ProgressStyleModel",
     "state": {
      "_model_module": "@jupyter-widgets/controls",
      "_model_module_version": "1.5.0",
      "_model_name": "ProgressStyleModel",
      "_view_count": null,
      "_view_module": "@jupyter-widgets/base",
      "_view_module_version": "1.2.0",
      "_view_name": "StyleView",
      "bar_color": null,
      "description_width": "initial"
     }
    },
    "cd067dbb487744e581b4fa8db1fddee0": {
     "model_module": "@jupyter-widgets/controls",
     "model_name": "HTMLModel",
     "state": {
      "_dom_classes": [],
      "_model_module": "@jupyter-widgets/controls",
      "_model_module_version": "1.5.0",
      "_model_name": "HTMLModel",
      "_view_count": null,
      "_view_module": "@jupyter-widgets/controls",
      "_view_module_version": "1.5.0",
      "_view_name": "HTMLView",
      "description": "",
      "description_tooltip": null,
      "layout": "IPY_MODEL_d87051477e7c47ae981929c119439164",
      "placeholder": "​",
      "style": "IPY_MODEL_be7736ac47e948588c2f7f8188c6bf47",
      "value": " 112/112 [00:00&lt;00:00, 154B/s]"
     }
    },
    "cd950315d40146b193fc273c5777406a": {
     "model_module": "@jupyter-widgets/base",
     "model_name": "LayoutModel",
     "state": {
      "_model_module": "@jupyter-widgets/base",
      "_model_module_version": "1.2.0",
      "_model_name": "LayoutModel",
      "_view_count": null,
      "_view_module": "@jupyter-widgets/base",
      "_view_module_version": "1.2.0",
      "_view_name": "LayoutView",
      "align_content": null,
      "align_items": null,
      "align_self": null,
      "border": null,
      "bottom": null,
      "display": null,
      "flex": null,
      "flex_flow": null,
      "grid_area": null,
      "grid_auto_columns": null,
      "grid_auto_flow": null,
      "grid_auto_rows": null,
      "grid_column": null,
      "grid_gap": null,
      "grid_row": null,
      "grid_template_areas": null,
      "grid_template_columns": null,
      "grid_template_rows": null,
      "height": null,
      "justify_content": null,
      "justify_items": null,
      "left": null,
      "margin": null,
      "max_height": null,
      "max_width": null,
      "min_height": null,
      "min_width": null,
      "object_fit": null,
      "object_position": null,
      "order": null,
      "overflow": null,
      "overflow_x": null,
      "overflow_y": null,
      "padding": null,
      "right": null,
      "top": null,
      "visibility": null,
      "width": null
     }
    },
    "d5073bcf24034af88efebc00539d3955": {
     "model_module": "@jupyter-widgets/controls",
     "model_name": "HBoxModel",
     "state": {
      "_dom_classes": [],
      "_model_module": "@jupyter-widgets/controls",
      "_model_module_version": "1.5.0",
      "_model_name": "HBoxModel",
      "_view_count": null,
      "_view_module": "@jupyter-widgets/controls",
      "_view_module_version": "1.5.0",
      "_view_name": "HBoxView",
      "box_style": "",
      "children": [
       "IPY_MODEL_b2b8d3e577114b4c87e5552b15944137",
       "IPY_MODEL_c18fe8afd21c4d08b8c4c1e522043727"
      ],
      "layout": "IPY_MODEL_e09492270956446d997c3d0506b6e3bf"
     }
    },
    "d8157a6049f64d95b8c9dc78a16c56c0": {
     "model_module": "@jupyter-widgets/base",
     "model_name": "LayoutModel",
     "state": {
      "_model_module": "@jupyter-widgets/base",
      "_model_module_version": "1.2.0",
      "_model_name": "LayoutModel",
      "_view_count": null,
      "_view_module": "@jupyter-widgets/base",
      "_view_module_version": "1.2.0",
      "_view_name": "LayoutView",
      "align_content": null,
      "align_items": null,
      "align_self": null,
      "border": null,
      "bottom": null,
      "display": null,
      "flex": null,
      "flex_flow": null,
      "grid_area": null,
      "grid_auto_columns": null,
      "grid_auto_flow": null,
      "grid_auto_rows": null,
      "grid_column": null,
      "grid_gap": null,
      "grid_row": null,
      "grid_template_areas": null,
      "grid_template_columns": null,
      "grid_template_rows": null,
      "height": null,
      "justify_content": null,
      "justify_items": null,
      "left": null,
      "margin": null,
      "max_height": null,
      "max_width": null,
      "min_height": null,
      "min_width": null,
      "object_fit": null,
      "object_position": null,
      "order": null,
      "overflow": null,
      "overflow_x": null,
      "overflow_y": null,
      "padding": null,
      "right": null,
      "top": null,
      "visibility": null,
      "width": null
     }
    },
    "d87051477e7c47ae981929c119439164": {
     "model_module": "@jupyter-widgets/base",
     "model_name": "LayoutModel",
     "state": {
      "_model_module": "@jupyter-widgets/base",
      "_model_module_version": "1.2.0",
      "_model_name": "LayoutModel",
      "_view_count": null,
      "_view_module": "@jupyter-widgets/base",
      "_view_module_version": "1.2.0",
      "_view_name": "LayoutView",
      "align_content": null,
      "align_items": null,
      "align_self": null,
      "border": null,
      "bottom": null,
      "display": null,
      "flex": null,
      "flex_flow": null,
      "grid_area": null,
      "grid_auto_columns": null,
      "grid_auto_flow": null,
      "grid_auto_rows": null,
      "grid_column": null,
      "grid_gap": null,
      "grid_row": null,
      "grid_template_areas": null,
      "grid_template_columns": null,
      "grid_template_rows": null,
      "height": null,
      "justify_content": null,
      "justify_items": null,
      "left": null,
      "margin": null,
      "max_height": null,
      "max_width": null,
      "min_height": null,
      "min_width": null,
      "object_fit": null,
      "object_position": null,
      "order": null,
      "overflow": null,
      "overflow_x": null,
      "overflow_y": null,
      "padding": null,
      "right": null,
      "top": null,
      "visibility": null,
      "width": null
     }
    },
    "db2079f19c574469874d4b2dbc0195df": {
     "model_module": "@jupyter-widgets/controls",
     "model_name": "ProgressStyleModel",
     "state": {
      "_model_module": "@jupyter-widgets/controls",
      "_model_module_version": "1.5.0",
      "_model_name": "ProgressStyleModel",
      "_view_count": null,
      "_view_module": "@jupyter-widgets/base",
      "_view_module_version": "1.2.0",
      "_view_name": "StyleView",
      "bar_color": null,
      "description_width": "initial"
     }
    },
    "e03fc78f26de42909318e33ca9fee816": {
     "model_module": "@jupyter-widgets/controls",
     "model_name": "DescriptionStyleModel",
     "state": {
      "_model_module": "@jupyter-widgets/controls",
      "_model_module_version": "1.5.0",
      "_model_name": "DescriptionStyleModel",
      "_view_count": null,
      "_view_module": "@jupyter-widgets/base",
      "_view_module_version": "1.2.0",
      "_view_name": "StyleView",
      "description_width": ""
     }
    },
    "e09492270956446d997c3d0506b6e3bf": {
     "model_module": "@jupyter-widgets/base",
     "model_name": "LayoutModel",
     "state": {
      "_model_module": "@jupyter-widgets/base",
      "_model_module_version": "1.2.0",
      "_model_name": "LayoutModel",
      "_view_count": null,
      "_view_module": "@jupyter-widgets/base",
      "_view_module_version": "1.2.0",
      "_view_name": "LayoutView",
      "align_content": null,
      "align_items": null,
      "align_self": null,
      "border": null,
      "bottom": null,
      "display": null,
      "flex": null,
      "flex_flow": null,
      "grid_area": null,
      "grid_auto_columns": null,
      "grid_auto_flow": null,
      "grid_auto_rows": null,
      "grid_column": null,
      "grid_gap": null,
      "grid_row": null,
      "grid_template_areas": null,
      "grid_template_columns": null,
      "grid_template_rows": null,
      "height": null,
      "justify_content": null,
      "justify_items": null,
      "left": null,
      "margin": null,
      "max_height": null,
      "max_width": null,
      "min_height": null,
      "min_width": null,
      "object_fit": null,
      "object_position": null,
      "order": null,
      "overflow": null,
      "overflow_x": null,
      "overflow_y": null,
      "padding": null,
      "right": null,
      "top": null,
      "visibility": null,
      "width": null
     }
    },
    "e3788e4b74a6457bae94cab620b8f8dd": {
     "model_module": "@jupyter-widgets/controls",
     "model_name": "DescriptionStyleModel",
     "state": {
      "_model_module": "@jupyter-widgets/controls",
      "_model_module_version": "1.5.0",
      "_model_name": "DescriptionStyleModel",
      "_view_count": null,
      "_view_module": "@jupyter-widgets/base",
      "_view_module_version": "1.2.0",
      "_view_name": "StyleView",
      "description_width": ""
     }
    },
    "e432e0d4982e4d838bd87d8b05c3028f": {
     "model_module": "@jupyter-widgets/controls",
     "model_name": "FloatProgressModel",
     "state": {
      "_dom_classes": [],
      "_model_module": "@jupyter-widgets/controls",
      "_model_module_version": "1.5.0",
      "_model_name": "FloatProgressModel",
      "_view_count": null,
      "_view_module": "@jupyter-widgets/controls",
      "_view_module_version": "1.5.0",
      "_view_name": "ProgressView",
      "bar_style": "success",
      "description": "Downloading: 100%",
      "description_tooltip": null,
      "layout": "IPY_MODEL_4d4e35c6baaa4161b3ef4591b4564e96",
      "max": 43,
      "min": 0,
      "orientation": "horizontal",
      "style": "IPY_MODEL_21389eb8c5174cb99125b68f445ad76c",
      "value": 43
     }
    },
    "e43e796f53c1406abe356ddc3e99ff4e": {
     "model_module": "@jupyter-widgets/controls",
     "model_name": "FloatProgressModel",
     "state": {
      "_dom_classes": [],
      "_model_module": "@jupyter-widgets/controls",
      "_model_module_version": "1.5.0",
      "_model_name": "FloatProgressModel",
      "_view_count": null,
      "_view_module": "@jupyter-widgets/controls",
      "_view_module_version": "1.5.0",
      "_view_name": "ProgressView",
      "bar_style": "success",
      "description": "Downloading: 100%",
      "description_tooltip": null,
      "layout": "IPY_MODEL_9a7fdb1725984c18a6f06ef29ae2a853",
      "max": 647,
      "min": 0,
      "orientation": "horizontal",
      "style": "IPY_MODEL_72abb3cda0434acdb93e700166006a28",
      "value": 647
     }
    },
    "e4c15d7dcab24a7b872806cc24508649": {
     "model_module": "@jupyter-widgets/controls",
     "model_name": "DescriptionStyleModel",
     "state": {
      "_model_module": "@jupyter-widgets/controls",
      "_model_module_version": "1.5.0",
      "_model_name": "DescriptionStyleModel",
      "_view_count": null,
      "_view_module": "@jupyter-widgets/base",
      "_view_module_version": "1.2.0",
      "_view_name": "StyleView",
      "description_width": ""
     }
    },
    "eadc39ab1ad64332b6950cfe9b442344": {
     "model_module": "@jupyter-widgets/controls",
     "model_name": "DescriptionStyleModel",
     "state": {
      "_model_module": "@jupyter-widgets/controls",
      "_model_module_version": "1.5.0",
      "_model_name": "DescriptionStyleModel",
      "_view_count": null,
      "_view_module": "@jupyter-widgets/base",
      "_view_module_version": "1.2.0",
      "_view_name": "StyleView",
      "description_width": ""
     }
    },
    "eaf6399d7c1d48b1aaaad93b237fdc26": {
     "model_module": "@jupyter-widgets/base",
     "model_name": "LayoutModel",
     "state": {
      "_model_module": "@jupyter-widgets/base",
      "_model_module_version": "1.2.0",
      "_model_name": "LayoutModel",
      "_view_count": null,
      "_view_module": "@jupyter-widgets/base",
      "_view_module_version": "1.2.0",
      "_view_name": "LayoutView",
      "align_content": null,
      "align_items": null,
      "align_self": null,
      "border": null,
      "bottom": null,
      "display": null,
      "flex": null,
      "flex_flow": null,
      "grid_area": null,
      "grid_auto_columns": null,
      "grid_auto_flow": null,
      "grid_auto_rows": null,
      "grid_column": null,
      "grid_gap": null,
      "grid_row": null,
      "grid_template_areas": null,
      "grid_template_columns": null,
      "grid_template_rows": null,
      "height": null,
      "justify_content": null,
      "justify_items": null,
      "left": null,
      "margin": null,
      "max_height": null,
      "max_width": null,
      "min_height": null,
      "min_width": null,
      "object_fit": null,
      "object_position": null,
      "order": null,
      "overflow": null,
      "overflow_x": null,
      "overflow_y": null,
      "padding": null,
      "right": null,
      "top": null,
      "visibility": null,
      "width": null
     }
    },
    "f6485739f78e41ae96c0e14b7207dd15": {
     "model_module": "@jupyter-widgets/base",
     "model_name": "LayoutModel",
     "state": {
      "_model_module": "@jupyter-widgets/base",
      "_model_module_version": "1.2.0",
      "_model_name": "LayoutModel",
      "_view_count": null,
      "_view_module": "@jupyter-widgets/base",
      "_view_module_version": "1.2.0",
      "_view_name": "LayoutView",
      "align_content": null,
      "align_items": null,
      "align_self": null,
      "border": null,
      "bottom": null,
      "display": null,
      "flex": null,
      "flex_flow": null,
      "grid_area": null,
      "grid_auto_columns": null,
      "grid_auto_flow": null,
      "grid_auto_rows": null,
      "grid_column": null,
      "grid_gap": null,
      "grid_row": null,
      "grid_template_areas": null,
      "grid_template_columns": null,
      "grid_template_rows": null,
      "height": null,
      "justify_content": null,
      "justify_items": null,
      "left": null,
      "margin": null,
      "max_height": null,
      "max_width": null,
      "min_height": null,
      "min_width": null,
      "object_fit": null,
      "object_position": null,
      "order": null,
      "overflow": null,
      "overflow_x": null,
      "overflow_y": null,
      "padding": null,
      "right": null,
      "top": null,
      "visibility": null,
      "width": null
     }
    },
    "faf4e2d5adeb4070a5f4aba56af041b7": {
     "model_module": "@jupyter-widgets/controls",
     "model_name": "HBoxModel",
     "state": {
      "_dom_classes": [],
      "_model_module": "@jupyter-widgets/controls",
      "_model_module_version": "1.5.0",
      "_model_name": "HBoxModel",
      "_view_count": null,
      "_view_module": "@jupyter-widgets/controls",
      "_view_module_version": "1.5.0",
      "_view_name": "HBoxView",
      "box_style": "",
      "children": [
       "IPY_MODEL_7d5ee1ea41f1447f837b396adabe4b76",
       "IPY_MODEL_cd067dbb487744e581b4fa8db1fddee0"
      ],
      "layout": "IPY_MODEL_8e363fdedea944eb9a205159c8150d79"
     }
    }
   }
  }
 },
 "nbformat": 4,
 "nbformat_minor": 1
}
