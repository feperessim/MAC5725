{
 "cells": [
  {
   "cell_type": "code",
   "execution_count": 1,
   "metadata": {},
   "outputs": [],
   "source": [
    "import pandas as pd\n",
    "import numpy as np\n",
    "import matplotlib.pyplot as plt\n",
    "import seaborn as sns"
   ]
  },
  {
   "cell_type": "code",
   "execution_count": 2,
   "metadata": {},
   "outputs": [],
   "source": [
    "sns.set_theme()\n",
    "path = '/home/felipe/Dropbox/USP/MAC5725/EP3/src/data/bilstm_human_review - bilstm_human_review_Alexandre.csv'\n",
    "data = pd.read_csv(path)"
   ]
  },
  {
   "cell_type": "code",
   "execution_count": 3,
   "metadata": {},
   "outputs": [
    {
     "data": {
      "text/html": [
       "<div>\n",
       "<style scoped>\n",
       "    .dataframe tbody tr th:only-of-type {\n",
       "        vertical-align: middle;\n",
       "    }\n",
       "\n",
       "    .dataframe tbody tr th {\n",
       "        vertical-align: top;\n",
       "    }\n",
       "\n",
       "    .dataframe thead th {\n",
       "        text-align: right;\n",
       "    }\n",
       "</style>\n",
       "<table border=\"1\" class=\"dataframe\">\n",
       "  <thead>\n",
       "    <tr style=\"text-align: right;\">\n",
       "      <th></th>\n",
       "      <th>Text Review</th>\n",
       "      <th>Predicted Title Review</th>\n",
       "      <th>Human Score</th>\n",
       "    </tr>\n",
       "  </thead>\n",
       "  <tbody>\n",
       "    <tr>\n",
       "      <th>0</th>\n",
       "      <td>parabéns entrega antes do prazo , produto como...</td>\n",
       "      <td>gostei muito do produto</td>\n",
       "      <td>1.0</td>\n",
       "    </tr>\n",
       "    <tr>\n",
       "      <th>1</th>\n",
       "      <td>o produto é maravilhoso , me surpreendeu vale ...</td>\n",
       "      <td>excelente</td>\n",
       "      <td>1.0</td>\n",
       "    </tr>\n",
       "    <tr>\n",
       "      <th>2</th>\n",
       "      <td>comprei o produto no dia // . nâo recebí no pr...</td>\n",
       "      <td>não recomendo</td>\n",
       "      <td>1.0</td>\n",
       "    </tr>\n",
       "    <tr>\n",
       "      <th>3</th>\n",
       "      <td>game que estava faltando na minha coleção . va...</td>\n",
       "      <td>bom</td>\n",
       "      <td>0.5</td>\n",
       "    </tr>\n",
       "    <tr>\n",
       "      <th>4</th>\n",
       "      <td>chegou rápido e é um ótimo produto recomendo e...</td>\n",
       "      <td>gostei muito do produto</td>\n",
       "      <td>0.0</td>\n",
       "    </tr>\n",
       "  </tbody>\n",
       "</table>\n",
       "</div>"
      ],
      "text/plain": [
       "                                         Text Review   Predicted Title Review  \\\n",
       "0  parabéns entrega antes do prazo , produto como...  gostei muito do produto   \n",
       "1  o produto é maravilhoso , me surpreendeu vale ...                excelente   \n",
       "2  comprei o produto no dia // . nâo recebí no pr...            não recomendo   \n",
       "3  game que estava faltando na minha coleção . va...                      bom   \n",
       "4  chegou rápido e é um ótimo produto recomendo e...  gostei muito do produto   \n",
       "\n",
       "   Human Score  \n",
       "0          1.0  \n",
       "1          1.0  \n",
       "2          1.0  \n",
       "3          0.5  \n",
       "4          0.0  "
      ]
     },
     "execution_count": 3,
     "metadata": {},
     "output_type": "execute_result"
    }
   ],
   "source": [
    "data.head()"
   ]
  },
  {
   "cell_type": "code",
   "execution_count": 4,
   "metadata": {},
   "outputs": [],
   "source": [
    "scores = data['Human Score'].values"
   ]
  },
  {
   "cell_type": "markdown",
   "metadata": {},
   "source": [
    "# Tendência central e dispersão"
   ]
  },
  {
   "cell_type": "code",
   "execution_count": 5,
   "metadata": {
    "scrolled": true
   },
   "outputs": [
    {
     "name": "stdout",
     "output_type": "stream",
     "text": [
      "Estatísticas Avaliação Humana Títulos gerados  200 sentenças\n",
      "\n",
      "Min: 0.0 \n",
      "\n",
      "Média: 0.7825 \n",
      "\n",
      "Max: 1.0 \n",
      "\n",
      "Desvio Padrão: 0.3859 \n",
      "\n",
      "Variância: 0.1489 \n",
      "\n",
      "Coeficiente de Variação: 49.3204 \n",
      "\n",
      "\n"
     ]
    }
   ],
   "source": [
    "print(\"Estatísticas Avaliação Humana Títulos gerados \", len(scores), \"sentenças\")\n",
    "print()\n",
    "print(\"Min:\", round(np.min(scores), 4), '\\n')\n",
    "print(\"Média:\", round(np.mean(scores),4), '\\n')\n",
    "print(\"Max:\", round(np.max(scores), 4), '\\n')\n",
    "print(\"Desvio Padrão:\", round(np.std(scores), 4), '\\n')\n",
    "print(\"Variância:\", round(np.var(scores), 4), '\\n')\n",
    "print(\"Coeficiente de Variação:\", round(np.std(scores)/np.mean(scores) * 100, 4), '\\n')\n",
    "print()"
   ]
  },
  {
   "cell_type": "markdown",
   "metadata": {},
   "source": [
    "# Contagem e porcentagem"
   ]
  },
  {
   "cell_type": "code",
   "execution_count": 6,
   "metadata": {},
   "outputs": [
    {
     "data": {
      "text/plain": [
       "Counter({1.0: 148, 0.5: 17, 0.0: 35})"
      ]
     },
     "execution_count": 6,
     "metadata": {},
     "output_type": "execute_result"
    }
   ],
   "source": [
    "from collections import Counter\n",
    "\n",
    "count = Counter(data['Human Score'].values)\n",
    "count"
   ]
  },
  {
   "cell_type": "markdown",
   "metadata": {},
   "source": [
    "# Gráfico da distribuição"
   ]
  },
  {
   "cell_type": "code",
   "execution_count": 7,
   "metadata": {},
   "outputs": [
    {
     "data": {
      "image/png": "[encoded data removed]",
      "text/plain": [
       "<Figure size 1080x360 with 1 Axes>"
      ]
     },
     "metadata": {},
     "output_type": "display_data"
    }
   ],
   "source": [
    "fig = plt.figure(figsize = (15,5))\n",
    "ax = fig.gca()\n",
    "a = sns.countplot(x='Human Score', data=data, ax=ax)\n",
    "\n",
    "a.set(xlabel='', ylabel='')\n",
    "\n",
    "plt.suptitle('Distribuição dos Scores - Avaliação humana', x=0.5, y=1.05, ha='center', fontsize='xx-large')\n",
    "fig.text(0.5, 0.04, 'Score', ha='center')\n",
    "fig.text(0.04, 0.5, 'Frequência', va='center', rotation='vertical')\n",
    "plt.show()"
   ]
  },
  {
   "cell_type": "code",
   "execution_count": 8,
   "metadata": {},
   "outputs": [],
   "source": [
    "texto = ['produto em ordem e dentro do prazo de entrega. recomendo',\n",
    "         'atendeu as minhas expectativas e chegou antes do prazo recomendo',\n",
    "         'recebi hoje. fui usar, que decepção, não funciona.',\n",
    "         'tive problemas com a transportadora, porém o produto chegou ótimo e está sendo muito útil.',\n",
    "         'o produto chegou dentro do prazo esperado, porém chegou cheio de imperfeições na superfície.',\n",
    "         'mochila feita de um tipo de napa , parece que irá rasgar fácil',\n",
    "         'quero devolução do meu dinheiro não recebi me devolvam meu dinheiro passou do prazo',\n",
    "         'produto ruim. não atendeu às expectativas. tive que desmontar e utilizar somente um eixo pois ficava folgado e balançando.']\n",
    "         \n",
    "titulo = ['perfeito',\n",
    "          'gostei',\n",
    "          'decepção',\n",
    "          'adorei',\n",
    "          'produto com defeito ',\n",
    "          'material ruim',\n",
    "          'não foi entregue',\n",
    "          'péssima']\n",
    "                   \n",
    "previsto = ['gostei do produto',\n",
    "            'gostei muito do produto',\n",
    "            'não funciona',\n",
    "            'gostei muito do produto',\n",
    "            'gostei do produto',\n",
    "            'gostei muito do produto',\n",
    "            'não recebi o produto',\n",
    "            'produto ruim']"
   ]
  },
  {
   "cell_type": "code",
   "execution_count": 9,
   "metadata": {},
   "outputs": [
    {
     "name": "stdout",
     "output_type": "stream",
     "text": [
      "[ 1 ] Text Review: produto em ordem e dentro do prazo de entrega. recomendo\n",
      "Title Review: perfeito\n",
      "Previsto: gostei do produto\n",
      "\n",
      "[ 2 ] Text Review: atendeu as minhas expectativas e chegou antes do prazo recomendo\n",
      "Title Review: gostei\n",
      "Previsto: gostei muito do produto\n",
      "\n",
      "[ 3 ] Text Review: recebi hoje. fui usar, que decepção, não funciona.\n",
      "Title Review: decepção\n",
      "Previsto: não funciona\n",
      "\n",
      "[ 4 ] Text Review: tive problemas com a transportadora, porém o produto chegou ótimo e está sendo muito útil.\n",
      "Title Review: adorei\n",
      "Previsto: gostei muito do produto\n",
      "\n",
      "[ 5 ] Text Review: o produto chegou dentro do prazo esperado, porém chegou cheio de imperfeições na superfície.\n",
      "Title Review: produto com defeito \n",
      "Previsto: gostei do produto\n",
      "\n",
      "[ 6 ] Text Review: mochila feita de um tipo de napa , parece que irá rasgar fácil\n",
      "Title Review: material ruim\n",
      "Previsto: gostei muito do produto\n",
      "\n",
      "[ 7 ] Text Review: quero devolução do meu dinheiro não recebi me devolvam meu dinheiro passou do prazo\n",
      "Title Review: não foi entregue\n",
      "Previsto: não recebi o produto\n",
      "\n",
      "[ 8 ] Text Review: produto ruim. não atendeu às expectativas. tive que desmontar e utilizar somente um eixo pois ficava folgado e balançando.\n",
      "Title Review: péssima\n",
      "Previsto: produto ruim\n",
      "\n"
     ]
    }
   ],
   "source": [
    "for i in range(len(texto)):\n",
    "    print('[', i+1,']', 'Text Review:',  texto[i])\n",
    "    print('Title Review:',  titulo[i])\n",
    "    print('Previsto:', previsto[i])\n",
    "    print()"
   ]
  },
  {
   "cell_type": "code",
   "execution_count": null,
   "metadata": {},
   "outputs": [],
   "source": []
  }
 ],
 "metadata": {
  "kernelspec": {
   "display_name": "Python 3",
   "language": "python",
   "name": "python3"
  },
  "language_info": {
   "codemirror_mode": {
    "name": "ipython",
    "version": 3
   },
   "file_extension": ".py",
   "mimetype": "text/x-python",
   "name": "python",
   "nbconvert_exporter": "python",
   "pygments_lexer": "ipython3",
   "version": "3.6.9"
  }
 },
 "nbformat": 4,
 "nbformat_minor": 2
}
