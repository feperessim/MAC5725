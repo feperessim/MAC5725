{
 "cells": [
  {
   "cell_type": "code",
   "execution_count": null,
   "metadata": {
    "colab": {
     "base_uri": "https://localhost:8080/"
    },
    "id": "xeCKZTFm9emv",
    "outputId": "e2bacfa2-5af1-44da-f5b8-3a903dccbc09"
   },
   "outputs": [
    {
     "name": "stdout",
     "output_type": "stream",
     "text": [
      "Wed Dec  9 19:25:33 2020       \n",
      "+-----------------------------------------------------------------------------+\n",
      "| NVIDIA-SMI 455.45.01    Driver Version: 418.67       CUDA Version: 10.1     |\n",
      "|-------------------------------+----------------------+----------------------+\n",
      "| GPU  Name        Persistence-M| Bus-Id        Disp.A | Volatile Uncorr. ECC |\n",
      "| Fan  Temp  Perf  Pwr:Usage/Cap|         Memory-Usage | GPU-Util  Compute M. |\n",
      "|                               |                      |               MIG M. |\n",
      "|===============================+======================+======================|\n",
      "|   0  Tesla T4            Off  | 00000000:00:04.0 Off |                    0 |\n",
      "| N/A   39C    P8     9W /  70W |      0MiB / 15079MiB |      0%      Default |\n",
      "|                               |                      |                 ERR! |\n",
      "+-------------------------------+----------------------+----------------------+\n",
      "                                                                               \n",
      "+-----------------------------------------------------------------------------+\n",
      "| Processes:                                                                  |\n",
      "|  GPU   GI   CI        PID   Type   Process name                  GPU Memory |\n",
      "|        ID   ID                                                   Usage      |\n",
      "|=============================================================================|\n",
      "|  No running processes found                                                 |\n",
      "+-----------------------------------------------------------------------------+\n"
     ]
    }
   ],
   "source": [
    "!nvidia-smi"
   ]
  },
  {
   "cell_type": "code",
   "execution_count": null,
   "metadata": {
    "colab": {
     "base_uri": "https://localhost:8080/"
    },
    "id": "wxy645u85Dyf",
    "outputId": "586fe93f-2cd8-43b4-978b-2fc06c91146b"
   },
   "outputs": [
    {
     "name": "stdout",
     "output_type": "stream",
     "text": [
      "Requirement already satisfied: nltk==3.5 in /usr/local/lib/python3.6/dist-packages (3.5)\n",
      "Requirement already satisfied: joblib in /usr/local/lib/python3.6/dist-packages (from nltk==3.5) (0.17.0)\n",
      "Requirement already satisfied: click in /usr/local/lib/python3.6/dist-packages (from nltk==3.5) (7.1.2)\n",
      "Requirement already satisfied: tqdm in /usr/local/lib/python3.6/dist-packages (from nltk==3.5) (4.41.1)\n",
      "Requirement already satisfied: regex in /usr/local/lib/python3.6/dist-packages (from nltk==3.5) (2019.12.20)\n"
     ]
    }
   ],
   "source": [
    "!pip install \"nltk==3.5\" # necessário para usar o meteor"
   ]
  },
  {
   "cell_type": "code",
   "execution_count": null,
   "metadata": {
    "id": "YBYVyLPZ4oh1"
   },
   "outputs": [],
   "source": [
    "import pandas as pd\n",
    "import numpy as np\n",
    "import re\n",
    "import string\n",
    "import tensorflow as tf\n",
    "import matplotlib.pyplot as plt\n",
    "import seaborn as sns\n",
    "import nltk\n",
    "import random\n",
    "\n",
    "from keras import backend as K \n",
    "\n",
    "# preprocessamnento e tokenização\n",
    "from tensorflow.keras.preprocessing.text import Tokenizer\n",
    "from tensorflow.keras.preprocessing.sequence import pad_sequences\n",
    "\n",
    "# Camadas do modelo\n",
    "from tensorflow.keras.layers import Input, LSTM, Embedding, Dense, Concatenate, TimeDistributed, Bidirectional\n",
    "from tensorflow.python.keras.layers import Layer\n",
    "from tensorflow.python.keras import backend as K\n",
    "\n",
    "# Model, callback e otimizador\n",
    "from tensorflow.keras.models import Model\n",
    "from tensorflow.keras.callbacks import EarlyStopping\n",
    "from tensorflow.keras.optimizers import Adam\n",
    "\n",
    "from sklearn.model_selection import train_test_split\n",
    "\n",
    "from nltk.translate.bleu_score import sentence_bleu, corpus_bleu\n",
    "# from nltk.translate.nist_score import sentence_nist, corpus_nist\n",
    "from nltk.translate.meteor_score import meteor_score"
   ]
  },
  {
   "cell_type": "code",
   "execution_count": null,
   "metadata": {
    "colab": {
     "base_uri": "https://localhost:8080/"
    },
    "id": "1oETdpTN1AMK",
    "outputId": "1ff32c32-b0d3-4dc9-b9d9-7937c8396f22"
   },
   "outputs": [
    {
     "name": "stderr",
     "output_type": "stream",
     "text": [
      "[nltk_data] Downloading package wordnet to /root/nltk_data...\n",
      "[nltk_data]   Package wordnet is already up-to-date!\n"
     ]
    },
    {
     "data": {
      "text/plain": [
       "True"
      ]
     },
     "execution_count": 4,
     "metadata": {
      "tags": []
     },
     "output_type": "execute_result"
    }
   ],
   "source": [
    "nltk.download('wordnet') # necessário para usar o meteor"
   ]
  },
  {
   "cell_type": "code",
   "execution_count": null,
   "metadata": {
    "id": "tylxuFzwd_pu"
   },
   "outputs": [],
   "source": [
    "from tqdm.notebook import tqdm # necessário para mostrar a barra de progresso"
   ]
  },
  {
   "cell_type": "code",
   "execution_count": null,
   "metadata": {
    "id": "HH73uj6dfS01"
   },
   "outputs": [],
   "source": [
    "seed = 0\n",
    "np.random.seed(seed)\n",
    "random.seed(seed)"
   ]
  },
  {
   "cell_type": "code",
   "execution_count": null,
   "metadata": {
    "id": "3UG3egD64oh1"
   },
   "outputs": [],
   "source": [
    "SOS = '<start>'\n",
    "EOS = '<end>'\n",
    "\n",
    "# path = '../data/b2w-10k.csv'\n",
    "# sep = ','\n",
    "\n",
    "# path = \"https://raw.githubusercontent.com/feperessim/NLPortugues/master/Semana%2006/data/b2w-10k.csv\"\n",
    "# sep = ','\n",
    "\n",
    "# path = '../data/B2W-Reviews01.csv\n",
    "# sep = ';'\n",
    "\n",
    "path = 'https://raw.githubusercontent.com/b2wdigital/b2w-reviews01/master/B2W-Reviews01.csv'\n",
    "sep = ';'\n",
    "\n",
    "sns.set_theme()"
   ]
  },
  {
   "cell_type": "code",
   "execution_count": null,
   "metadata": {
    "id": "PcIxuUTJ4oh1"
   },
   "outputs": [],
   "source": [
    "contraction_mapping = {'ñ' : 'não', 'n' : 'não', 'naum' : 'não', 's':'sim', 'vc' : \n",
    "                       'você', 'tbm' : 'também', 'tbn':'também', 'tb' : 'também', \n",
    "                       'kd' : 'cade', 'kade' : 'cade', 'kual' : 'qual', 'mt' : 'muito',\n",
    "                       'msm' : 'mesmo', 'axo' : 'acho', 'q' : 'que', 'hj' : 'hoje', \n",
    "                       'blz' : 'beleza', 'ctz' : 'certeza', 'fikdik' : 'fica a dica',\n",
    "                       'glr' : 'galera', 'msg' : 'mensagem', 'pfv' : 'por favor', \n",
    "                       'plmdds' : 'pelo amor de deus', 'pq' : 'porque', 'vdd' : 'verdade', \n",
    "                       'bosta' : 'ruim', 'merda' : 'ruim', 'abç' : 'abraço', 'bj' : 'beijo',\n",
    "                       'bjs' : 'beijos', 't+' : 'até mais', 'eh' : 'é', 'aki' : 'aqui', 'ruin':'ruim'}"
   ]
  },
  {
   "cell_type": "code",
   "execution_count": null,
   "metadata": {
    "id": "OPfNzG2c4oh1"
   },
   "outputs": [],
   "source": [
    "def preprocess_sentence(sentence):\n",
    "    '''\n",
    "    Normalize preprocess a sequence of words\n",
    "    in a sentence. \n",
    "    This function does the following:\n",
    "    \n",
    "    1 - Convert everything to lowercase;\n",
    "        removes trailing and leading spaces\n",
    "    \n",
    "    2 - remove digits\n",
    "    \n",
    "    3 - Creates a space between a word and the\n",
    "        punctuation following it;\n",
    "        also, it replaces repetitions of\n",
    "        punctuations by a single instance;\n",
    "    \n",
    "    4 - replaces informal contractions by \n",
    "        its equivalent formal word.\n",
    "        \n",
    "    5 - # replaces special symbols\n",
    "        \n",
    "    Add a start and end token to each sentence.\n",
    "    \n",
    "    Args:\n",
    "        sentence - a human readable string\n",
    "    returns:\n",
    "        a string of preprocessed text\n",
    "    '''\n",
    "    # Convert to lower case; remove digits; \n",
    "    # and replace many dots by a single one\n",
    "    # keep only words with length at most WORD_MAX_LEN\n",
    "    sentence = sentence.lower().strip()\n",
    "    sentence = sentence.translate(str.maketrans('', '', string.digits))\n",
    "\n",
    "    # replace multiple punctuation by a single one\n",
    "    # Reference: https://stackoverflow.com/questions/35041672/regex-replace-multiple-punctuation-in-python\n",
    "    sentence = re.sub(r'[\\?\\.\\!]+(?=[\\?\\.\\!])', \"\", sentence)\n",
    "    \n",
    "    # creating a space between a word and the punctuation following it\n",
    "    # eg: \"ele é um menino.\" => \"ele é um menino .\"\n",
    "    # Reference: https://stackoverflow.com/questions/3645931/python-padding-punctuation-with-white-spaces-keeping-punctuation\n",
    "    sentence = re.sub(r\"([?.!,¿])\", r\" \\1 \", sentence)\n",
    "    sentence = re.sub(r'[\" \"]+', \" \", sentence)\n",
    "    \n",
    "    # replace contractions by the real word e.g vc - você\n",
    "    sentence = ' '.join([contraction_mapping[word]\n",
    "                         if word in contraction_mapping\n",
    "                         else word for word in sentence.split(' ')])\n",
    "    \n",
    "    # replace special symbols\n",
    "    sentence = re.sub('[!*)@#%(&$_^~]', '', sentence)\n",
    "    \n",
    "    sentence = sentence.strip()\n",
    "    \n",
    "    return sentence"
   ]
  },
  {
   "cell_type": "code",
   "execution_count": null,
   "metadata": {
    "id": "TREJFS054oh1"
   },
   "outputs": [],
   "source": [
    "def tokenize(sentences, tokenizer=None, maxlen=50):\n",
    "    '''\n",
    "    Encodes a string to an array of integers\n",
    "\n",
    "    Args:\n",
    "        lang (list): list of human-readable strings to encode  \n",
    "    Returns:\n",
    "        numpy.ndarray: tensor with tokenized version of the input string\n",
    "        Tokenizer: Keras tokenizer instance\n",
    "    '''\n",
    "    # Keras Tokenizer\n",
    "    if tokenizer is None:\n",
    "        lang_tokenizer = Tokenizer(filters='')\n",
    "        lang_tokenizer.fit_on_texts(sentences)\n",
    "    else:\n",
    "        lang_tokenizer = tokenizer\n",
    "    \n",
    "    tensor = lang_tokenizer.texts_to_sequences(sentences)\n",
    "    tensor = pad_sequences(tensor, maxlen=maxlen, padding='post')\n",
    "    \n",
    "    return tensor, lang_tokenizer"
   ]
  },
  {
   "cell_type": "code",
   "execution_count": null,
   "metadata": {
    "id": "wadP59Um4oh1"
   },
   "outputs": [],
   "source": [
    "def detokenize(integers, tokenizer):\n",
    "    '''\n",
    "    Decodes an array of integers to a human readable string\n",
    "\n",
    "    Args:\n",
    "        Args:\n",
    "        integers (list): list of strings to decode\n",
    "        tokenizer: Keras tokenizer instance\n",
    "    Returns:\n",
    "        (list): list of human-readable strings  \n",
    "    ''' \n",
    "    return [tokenizer.index_word[integer] for integer in integers if integer != 0]"
   ]
  },
  {
   "cell_type": "code",
   "execution_count": null,
   "metadata": {
    "id": "k6NNU8Es4oh1"
   },
   "outputs": [],
   "source": [
    "def create_dataset(x, y):\n",
    "    '''\n",
    "    Apply the transformations in\n",
    "    the function preprocess_sentence\n",
    "    to every line of text in x and y\n",
    "    Args:\n",
    "        x, y - list of human readable strings\n",
    "    returns:\n",
    "        list of human readable strings preprocessed\n",
    "    '''\n",
    "    return ([preprocess_sentence(sentence) for sentence in x],\n",
    "            [preprocess_sentence(sentence) for sentence in y])"
   ]
  },
  {
   "cell_type": "code",
   "execution_count": null,
   "metadata": {
    "id": "sR2jppDM4oh1"
   },
   "outputs": [],
   "source": [
    "def load_dataset_and_preprocess(path='../data/b2w-10k.csv', sep=','):\n",
    "    '''\n",
    "    creating cleaned input, output pairs of\n",
    "    length at most SEQUENCE_MAXLEN\n",
    "    Args:\n",
    "        path (string) : full path to the dataset\n",
    "    returns:\n",
    "        (list of strings, list of strings): text and title \n",
    "        lists of strings\n",
    "    '''\n",
    "    usecols = [\"review_text\", \"review_title\"]\n",
    "    \n",
    "    dataset = pd.read_csv(path, usecols=usecols, sep=sep, error_bad_lines=False)\n",
    "    \n",
    "    # dropping duplicates and dropping na\n",
    "    dataset.drop_duplicates(subset=['review_text'], inplace=True)\n",
    "    dataset.dropna(axis=0,inplace=True)\n",
    "    \n",
    "    # dropping sentences with length <= 2\n",
    "    dataset = dataset[dataset['review_text'].apply(len) > 2]\n",
    "    dataset = dataset[dataset['review_title'].apply(len) > 2]\n",
    "\n",
    "    text, title = create_dataset(dataset[\"review_text\"].values, dataset[\"review_title\"].values)\n",
    "    \n",
    "    return text, title"
   ]
  },
  {
   "cell_type": "code",
   "execution_count": null,
   "metadata": {
    "id": "GczkE8sA4oh1"
   },
   "outputs": [],
   "source": [
    "def insert_start_end_tokens(sentences):\n",
    "    '''\n",
    "    Insert start and end tokens\n",
    "    to every sentence of sentences\n",
    "    Args:\n",
    "        sentences - list of human readable strings\n",
    "    returns:\n",
    "        list of human readable strings with SOS and EOS\n",
    "        between the text\n",
    "    '''\n",
    "    return [SOS + ' ' + sentence + ' ' + EOS for sentence in sentences]"
   ]
  },
  {
   "cell_type": "code",
   "execution_count": null,
   "metadata": {
    "id": "QWgndAxd4oh1"
   },
   "outputs": [],
   "source": [
    "def compute_bleu(text, title, text_maxlen, seq2title, decode_sequence):\n",
    "    '''\n",
    "    Args:\n",
    "        text (tensor) : array of word indexes\n",
    "        title (tensor) : array of word indexes\n",
    "        text_maxlen (int) : max length of a sentence\n",
    "        seq2title (function) : converts index to word\n",
    "        decode_sequence (function) : predicts the review title\n",
    "    returns:\n",
    "        scores (tensor) : bleu scores for each sentence of text tensor\n",
    "    '''\n",
    "    scores = []\n",
    "    with tqdm(total=len(title)) as pbar:\n",
    "      for index in range(len(title)):\n",
    "          reference = seq2title(title[index]).strip()\n",
    "          candidate = decode_sequence(text[index].reshape(1, text_maxlen)).strip()\n",
    "          score = sentence_bleu([reference], candidate)\n",
    "          scores.append(score)\n",
    "          pbar.update(1)\n",
    "    return scores"
   ]
  },
  {
   "cell_type": "code",
   "execution_count": null,
   "metadata": {
    "id": "vT7NIWQH4oh2"
   },
   "outputs": [],
   "source": [
    "def compute_meteor(text, title, text_maxlen, seq2title, decode_sequence):\n",
    "    '''\n",
    "    Args:\n",
    "        text (tensor) : array of word indexes\n",
    "        title (tensor) : array of word indexes\n",
    "        text_maxlen (int) : max length of a sentence\n",
    "        seq2title (function) : converts index to word\n",
    "        decode_sequence (function) : predicts the review title\n",
    "    returns:\n",
    "        scores (tensor) : meteor scores for each sentence of text tensor\n",
    "    '''\n",
    "    scores = []\n",
    "    with tqdm(total=len(title)) as pbar:\n",
    "      for index in range(len(title)):\n",
    "          reference = seq2title(title[index]).strip()\n",
    "          candidate = decode_sequence(text[index].reshape(1, text_maxlen)).strip()\n",
    "          if reference != '' and candidate != '':\n",
    "              score = meteor_score([reference], candidate)\n",
    "              scores.append(score)\n",
    "          pbar.update(1)\n",
    "    return scores"
   ]
  },
  {
   "cell_type": "code",
   "execution_count": null,
   "metadata": {
    "id": "ynCubKE54oh2"
   },
   "outputs": [],
   "source": [
    "def translate(sentences, decode_sequence, tokenizer, text_maxlen):\n",
    "    '''\n",
    "    Predicts a title review for a given sentence\n",
    "    Args:\n",
    "        sentences (list:str) : list with sentences to translate\n",
    "        decode_sequence (function) : predicts the review title\n",
    "        tokenizer (Tokenizer) : text tokenizer \n",
    "        text_maxlen : max length of a text sentence\n",
    "    returns:\n",
    "        decoded_sentence (list:str) : list of human readable strings \n",
    "    '''\n",
    "    result = [preprocess_sentence(sentence) for sentence in sentences]\n",
    "    result, _ = tokenize(result, tokenizer, text_maxlen)\n",
    "    decoded_sentences = []\n",
    "    \n",
    "    for sequence in result:\n",
    "        s = decode_sequence(sequence.reshape(1, text_maxlen))\n",
    "        decoded_sentences.append(s)\n",
    "    return decoded_sentences"
   ]
  },
  {
   "cell_type": "code",
   "execution_count": null,
   "metadata": {
    "id": "l6g8FOc-4oh2"
   },
   "outputs": [],
   "source": [
    "def plot_dist_sentences(text, title):\n",
    "    '''\n",
    "    Plots the sentences distributions\n",
    "    Args:\n",
    "        text, title - list preprocessed strings\n",
    "    returns:\n",
    "        list of human readable strings preprocessed\n",
    "    '''\n",
    "    text_word_count = []\n",
    "    title_word_count = []\n",
    "\n",
    "    # populate the lists with sentence lengths\n",
    "    for i in text:\n",
    "          text_word_count.append(len(i.split()))\n",
    "\n",
    "    for i in title:\n",
    "          title_word_count.append(len(i.split()))\n",
    "\n",
    "    fig = plt.figure(figsize = (15,5))\n",
    "\n",
    "    ax = fig.gca()\n",
    "\n",
    "    length_df = pd.DataFrame({'Text review':text_word_count, 'Title review':title_word_count})\n",
    "    length_df.hist(bins = [i for i in range(0, 105, 5)], ax=ax)\n",
    "\n",
    "    # set title and axis labels\n",
    "    plt.suptitle('Distribuição da quantidade de palavras por sentença', x=0.5, y=1.05, ha='center', fontsize='xx-large')\n",
    "    fig.text(0.5, 0.04, 'Quantidade de palavras por sentença', ha='center')\n",
    "    fig.text(0.04, 0.5, 'Frequência', va='center', rotation='vertical')\n",
    "\n",
    "    plt.show()"
   ]
  },
  {
   "cell_type": "code",
   "execution_count": null,
   "metadata": {
    "id": "Qh5OTWYa4oh2"
   },
   "outputs": [],
   "source": [
    "def plot_loss(history, filename='', save=False):\n",
    "    '''\n",
    "    Input:\n",
    "        history (dict) : keras history instance\n",
    "        filename (string) : filename to save\n",
    "        save (boolean) : to choose save the plot\n",
    "    Output:\n",
    "       None\n",
    "    '''\n",
    "    loss = history.history['loss']\n",
    "    val_loss = history.history['val_loss']\n",
    "    epochs = range(1, len(loss) + 1)\n",
    "    nb_epochs = len(loss)\n",
    "  \n",
    "    font = {'family' : 'normal',\n",
    "            'weight' : 'normal',\n",
    "            'size'   : 14}\n",
    "    title_font = {'fontname':'Arial', 'size':'16', 'color':'black', 'weight':'normal',\n",
    "                  'verticalalignment':'bottom'} \n",
    "\n",
    "    plt.figure(figsize=(20,10))\n",
    "    plt.xlabel(str(nb_epochs) + ' Epochs', **font)\n",
    "    plt.ylabel('Loss', **font)\n",
    "    plt.plot(epochs, loss, 'r', label='Training loss')\n",
    "    plt.plot(epochs, val_loss, 'b', label='Validation loss')\n",
    "    plt.title('Training and validation loss', **title_font)\n",
    "    plt.legend()\n",
    "    if save:\n",
    "        plt.savefig('../rel/figuras/' + filename + 'loss.png')\n",
    "    plt.show()"
   ]
  },
  {
   "cell_type": "code",
   "execution_count": null,
   "metadata": {
    "id": "QIVITHu_4oh2"
   },
   "outputs": [],
   "source": [
    "def plot_acc(history, filename='', save=False):\n",
    "    '''\n",
    "    Input:\n",
    "        history (dict) : keras history instance\n",
    "        filename (string) : filename to save\n",
    "        save (boolean) : to choose save the plot\n",
    "    Output:\n",
    "       None\n",
    "    '''\n",
    "    accuracy = history.history['accuracy']\n",
    "    val_acc = history.history['val_accuracy']\n",
    "    epochs = range(1, len(accuracy) + 1)\n",
    "    nb_epochs = len(accuracy)\n",
    "  \n",
    "    font = {'family' : 'normal',\n",
    "            'weight' : 'normal',\n",
    "            'size'   : 14}\n",
    "    title_font = {'fontname':'Arial', 'size':'16', 'color':'black', 'weight':'normal',\n",
    "                  'verticalalignment':'bottom'} \n",
    "\n",
    "    plt.figure(figsize=(20,10))\n",
    "    plt.xlabel(str(nb_epochs) + ' Epochs', **font)\n",
    "    plt.ylabel('Accuracy', **font)\n",
    "    plt.plot(epochs, accuracy, 'r', label='Training acc')\n",
    "    plt.plot(epochs, val_acc, 'b', label='Validation acc')\n",
    "    plt.title('Training and validation acc', **title_font)\n",
    "    plt.legend()\n",
    "    if save:\n",
    "        plt.savefig('../rel/figuras/' + filename + 'acc.png')\n",
    "    plt.show()"
   ]
  },
  {
   "cell_type": "code",
   "execution_count": null,
   "metadata": {
    "id": "DCQd5v-o4oh2"
   },
   "outputs": [],
   "source": [
    "# import os\n",
    "# Classe de atenção retirada de: https://github.com/thushv89/attention_keras/blob/master/src/layers/attention.py\n",
    "\n",
    "class AttentionLayer(Layer):\n",
    "    \"\"\"\n",
    "    This class implements Bahdanau attention (https://arxiv.org/pdf/1409.0473.pdf).\n",
    "    There are three sets of weights introduced W_a, U_a, and V_a\n",
    "     \"\"\"\n",
    "\n",
    "    def __init__(self, **kwargs):\n",
    "        super(AttentionLayer, self).__init__(**kwargs)\n",
    "\n",
    "    def build(self, input_shape):\n",
    "        assert isinstance(input_shape, list)\n",
    "        # Create a trainable weight variable for this layer.\n",
    "\n",
    "        self.W_a = self.add_weight(name='W_a',\n",
    "                                   shape=tf.TensorShape((input_shape[0][2], input_shape[0][2])),\n",
    "                                   initializer='uniform',\n",
    "                                   trainable=True)\n",
    "        self.U_a = self.add_weight(name='U_a',\n",
    "                                   shape=tf.TensorShape((input_shape[1][2], input_shape[0][2])),\n",
    "                                   initializer='uniform',\n",
    "                                   trainable=True)\n",
    "        self.V_a = self.add_weight(name='V_a',\n",
    "                                   shape=tf.TensorShape((input_shape[0][2], 1)),\n",
    "                                   initializer='uniform',\n",
    "                                   trainable=True)\n",
    "\n",
    "        super(AttentionLayer, self).build(input_shape)  # Be sure to call this at the end\n",
    "\n",
    "    def call(self, inputs, verbose=False):\n",
    "        \"\"\"\n",
    "        inputs: [encoder_output_sequence, decoder_output_sequence]\n",
    "        \"\"\"\n",
    "        assert type(inputs) == list\n",
    "        encoder_out_seq, decoder_out_seq = inputs\n",
    "        if verbose:\n",
    "            print('encoder_out_seq>', encoder_out_seq.shape)\n",
    "            print('decoder_out_seq>', decoder_out_seq.shape)\n",
    "\n",
    "        def energy_step(inputs, states):\n",
    "            \"\"\" Step function for computing energy for a single decoder state\n",
    "            inputs: (batchsize * 1 * de_in_dim)\n",
    "            states: (batchsize * 1 * de_latent_dim)\n",
    "            \"\"\"\n",
    "\n",
    "            assert_msg = \"States must be an iterable. Got {} of type {}\".format(states, type(states))\n",
    "            assert isinstance(states, list) or isinstance(states, tuple), assert_msg\n",
    "\n",
    "            \"\"\" Some parameters required for shaping tensors\"\"\"\n",
    "            en_seq_len, en_hidden = encoder_out_seq.shape[1], encoder_out_seq.shape[2]\n",
    "            de_hidden = inputs.shape[-1]\n",
    "\n",
    "            \"\"\" Computing S.Wa where S=[s0, s1, ..., si]\"\"\"\n",
    "            # <= batch size * en_seq_len * latent_dim\n",
    "            W_a_dot_s = K.dot(encoder_out_seq, self.W_a)\n",
    "\n",
    "            \"\"\" Computing hj.Ua \"\"\"\n",
    "            U_a_dot_h = K.expand_dims(K.dot(inputs, self.U_a), 1)  # <= batch_size, 1, latent_dim\n",
    "            if verbose:\n",
    "                print('Ua.h>', U_a_dot_h.shape)\n",
    "\n",
    "            \"\"\" tanh(S.Wa + hj.Ua) \"\"\"\n",
    "            # <= batch_size*en_seq_len, latent_dim\n",
    "            Ws_plus_Uh = K.tanh(W_a_dot_s + U_a_dot_h)\n",
    "            if verbose:\n",
    "                print('Ws+Uh>', Ws_plus_Uh.shape)\n",
    "\n",
    "            \"\"\" softmax(va.tanh(S.Wa + hj.Ua)) \"\"\"\n",
    "            # <= batch_size, en_seq_len\n",
    "            e_i = K.squeeze(K.dot(Ws_plus_Uh, self.V_a), axis=-1)\n",
    "            # <= batch_size, en_seq_len\n",
    "            e_i = K.softmax(e_i)\n",
    "\n",
    "            if verbose:\n",
    "                print('ei>', e_i.shape)\n",
    "\n",
    "            return e_i, [e_i]\n",
    "\n",
    "        def context_step(inputs, states):\n",
    "            \"\"\" Step function for computing ci using ei \"\"\"\n",
    "\n",
    "            assert_msg = \"States must be an iterable. Got {} of type {}\".format(states, type(states))\n",
    "            assert isinstance(states, list) or isinstance(states, tuple), assert_msg\n",
    "\n",
    "            # <= batch_size, hidden_size\n",
    "            c_i = K.sum(encoder_out_seq * K.expand_dims(inputs, -1), axis=1)\n",
    "            if verbose:\n",
    "                print('ci>', c_i.shape)\n",
    "            return c_i, [c_i]\n",
    "\n",
    "        fake_state_c = K.sum(encoder_out_seq, axis=1)\n",
    "        fake_state_e = K.sum(encoder_out_seq, axis=2)  # <= (batch_size, enc_seq_len, latent_dim\n",
    "\n",
    "        \"\"\" Computing energy outputs \"\"\"\n",
    "        # e_outputs => (batch_size, de_seq_len, en_seq_len)\n",
    "        last_out, e_outputs, _ = K.rnn(\n",
    "            energy_step, decoder_out_seq, [fake_state_e],\n",
    "        )\n",
    "\n",
    "        \"\"\" Computing context vectors \"\"\"\n",
    "        last_out, c_outputs, _ = K.rnn(\n",
    "            context_step, e_outputs, [fake_state_c],\n",
    "        )\n",
    "\n",
    "        return c_outputs, e_outputs\n",
    "\n",
    "    def compute_output_shape(self, input_shape):\n",
    "        \"\"\" Outputs produced by the layer \"\"\"\n",
    "        return [\n",
    "            tf.TensorShape((input_shape[1][0], input_shape[1][1], input_shape[1][2])),\n",
    "            tf.TensorShape((input_shape[1][0], input_shape[1][1], input_shape[0][1]))\n",
    "        ]"
   ]
  },
  {
   "cell_type": "markdown",
   "metadata": {
    "id": "CYneX4MI4oh2"
   },
   "source": [
    "# Carregar e preprocessar o dataset\n",
    "\n",
    "Aqui o dataset é carregado e preprocessado."
   ]
  },
  {
   "cell_type": "code",
   "execution_count": null,
   "metadata": {
    "id": "h0Zlv0-94oh2"
   },
   "outputs": [],
   "source": [
    "text_train, title_train = load_dataset_and_preprocess(path, sep)"
   ]
  },
  {
   "cell_type": "markdown",
   "metadata": {
    "id": "T4xgDGpe4oh2"
   },
   "source": [
    "# Distribuição do texto\n",
    "\n",
    "A distribuição é analisada para se determinar o tamanho máximo das sentenças.\n",
    "\n",
    "Obs: Espaços não são contabilizados"
   ]
  },
  {
   "cell_type": "code",
   "execution_count": null,
   "metadata": {
    "colab": {
     "base_uri": "https://localhost:8080/",
     "height": 414
    },
    "id": "d_UVOZtx4oh2",
    "outputId": "2ce3f405-cd16-4030-dd50-ac2eef232e77"
   },
   "outputs": [
    {
     "name": "stderr",
     "output_type": "stream",
     "text": [
      "/usr/local/lib/python3.6/dist-packages/ipykernel_launcher.py:24: UserWarning: To output multiple subplots, the figure containing the passed axes is being cleared\n"
     ]
    },
    {
     "data": {
      "image/png": "[encoded data removed]",
      "text/plain": [
       "<Figure size 1080x360 with 2 Axes>"
      ]
     },
     "metadata": {
      "tags": []
     },
     "output_type": "display_data"
    }
   ],
   "source": [
    "plot_dist_sentences(text_train, title_train)"
   ]
  },
  {
   "cell_type": "code",
   "execution_count": null,
   "metadata": {
    "id": "aXclBWta4oh3"
   },
   "outputs": [],
   "source": [
    "TEXT_MAXLEN = 64\n",
    "TITLE_MAXLEN = 15"
   ]
  },
  {
   "cell_type": "markdown",
   "metadata": {
    "id": "tYvM30AC4oh3"
   },
   "source": [
    "# Adicionar SOS e EOS nas strings do title review\n",
    "\n",
    "Agora adicionamos SOS e EOS nas strings do title review. "
   ]
  },
  {
   "cell_type": "code",
   "execution_count": null,
   "metadata": {
    "id": "jXglbGqi4oh3"
   },
   "outputs": [],
   "source": [
    "title_train = insert_start_end_tokens(title_train)"
   ]
  },
  {
   "cell_type": "markdown",
   "metadata": {
    "id": "U2cF_xzx4oh3"
   },
   "source": [
    "# Split e tokenização\n",
    "\n",
    "Separamos os conjuntos em conjuntos de treino, validação e de testes com proporções 80%, 10%, 10%.\n",
    "Por último tokenizamos e fazemos o preenchimento com pad."
   ]
  },
  {
   "cell_type": "code",
   "execution_count": null,
   "metadata": {
    "id": "6zTdTOTe4oh3"
   },
   "outputs": [],
   "source": [
    "text_train, text_val, title_train, title_val = train_test_split(text_train, title_train, test_size=0.2,random_state=seed, shuffle=True)\n",
    "text_val, text_test, title_val, title_test = train_test_split(text_val, title_val, test_size=0.5,random_state=seed,shuffle=True)"
   ]
  },
  {
   "cell_type": "code",
   "execution_count": null,
   "metadata": {
    "id": "fhB1U3Xi4oh3"
   },
   "outputs": [],
   "source": [
    "text_train, text_tokenizer = tokenize(text_train, tokenizer=None, maxlen=TEXT_MAXLEN)\n",
    "text_val, _ = tokenize(text_val, tokenizer=text_tokenizer, maxlen=TEXT_MAXLEN)\n",
    "text_test, _ = tokenize(text_test, tokenizer=text_tokenizer, maxlen=TEXT_MAXLEN)\n",
    "\n",
    "title_train, title_tokenizer = tokenize(title_train, tokenizer=None, maxlen=TITLE_MAXLEN)\n",
    "title_val, _ = tokenize(title_val, tokenizer=title_tokenizer, maxlen=TITLE_MAXLEN)\n",
    "title_test, _ = tokenize(title_test, tokenizer=title_tokenizer, maxlen=TITLE_MAXLEN)"
   ]
  },
  {
   "cell_type": "code",
   "execution_count": null,
   "metadata": {
    "id": "xUGoAIrH4oh3"
   },
   "outputs": [],
   "source": [
    "title_idx2word = title_tokenizer.index_word \n",
    "text_idx2word = text_tokenizer.index_word \n",
    "title_word2idx = title_tokenizer.word_index"
   ]
  },
  {
   "cell_type": "code",
   "execution_count": null,
   "metadata": {
    "colab": {
     "base_uri": "https://localhost:8080/"
    },
    "id": "Jb0vjP9I4oh3",
    "outputId": "4cf6548f-b24c-4a8c-fba6-e99e8ce5a045"
   },
   "outputs": [
    {
     "name": "stdout",
     "output_type": "stream",
     "text": [
      "Shapes dos conjuntos após realizar todas as etapas necessárias\n",
      "\n",
      "TEXT\n",
      "=======================\n",
      "Train: (103340, 64)\n",
      "Val:   (12917, 64)\n",
      "Test:  (12918, 64)\n",
      "=======================\n",
      "\n",
      "TITLE:\n",
      "=======================\n",
      "Train:  (103340, 15)\n",
      "Val:    (12917, 15)\n",
      "Test    (12918, 15)\n",
      "=======================\n"
     ]
    }
   ],
   "source": [
    "print('Shapes dos conjuntos após realizar todas as etapas necessárias')\n",
    "print()\n",
    "print('TEXT')\n",
    "print('=======================')\n",
    "print('Train:', text_train.shape)\n",
    "print('Val:  ', text_val.shape)\n",
    "print('Test: ', text_test.shape)\n",
    "print('=======================')\n",
    "print()\n",
    "print('TITLE:')\n",
    "print('=======================')\n",
    "print('Train: ', title_train.shape)\n",
    "print('Val:   ', title_val.shape)\n",
    "print('Test   ', title_test.shape)\n",
    "print('=======================')"
   ]
  },
  {
   "cell_type": "markdown",
   "metadata": {
    "id": "zzjc_d9T4oh3"
   },
   "source": [
    "# Tamanho do vocabulário\n",
    "\n",
    "Aqui definimos os tamanhos dos vocabulários do <i>text review</i> e <i>title review</i>"
   ]
  },
  {
   "cell_type": "code",
   "execution_count": null,
   "metadata": {
    "id": "Tr_LYtDq4oh3"
   },
   "outputs": [],
   "source": [
    "TEXT_VOC_SIZE = len(text_tokenizer.word_index) + 1 # + 1 para oov\n",
    "TITLE_VOC_SIZE = len(title_tokenizer.word_index) +  1"
   ]
  },
  {
   "cell_type": "code",
   "execution_count": null,
   "metadata": {
    "colab": {
     "base_uri": "https://localhost:8080/"
    },
    "id": "WymC2v6p4oh3",
    "outputId": "02f1407a-2b21-43d1-eb22-cff95f71676a"
   },
   "outputs": [
    {
     "name": "stdout",
     "output_type": "stream",
     "text": [
      "Tamanho dos vocabulários - Vocabulários restritos ao conjunto de treino apenas\n",
      "\n",
      "=======================\n",
      "Text: 49145 palavras\n",
      "=======================\n",
      "\n",
      "=======================\n",
      "Title: 13622 palavras\n",
      "=======================\n"
     ]
    }
   ],
   "source": [
    "print('Tamanho dos vocabulários - Vocabulários restritos ao conjunto de treino apenas')\n",
    "print()\n",
    "print('=======================')\n",
    "print('Text:', TEXT_VOC_SIZE, 'palavras')\n",
    "print('=======================')\n",
    "print()\n",
    "print('=======================')\n",
    "print('Title:', TITLE_VOC_SIZE, 'palavras')\n",
    "print('=======================')\n"
   ]
  },
  {
   "cell_type": "markdown",
   "metadata": {
    "id": "sjSTTPaa4oh3"
   },
   "source": [
    "# Construção do modelo BiLSTM com atenção"
   ]
  },
  {
   "cell_type": "code",
   "execution_count": null,
   "metadata": {
    "colab": {
     "base_uri": "https://localhost:8080/"
    },
    "id": "s5-b9QaB4oh3",
    "outputId": "60457c16-1399-44ff-d8e7-6a9ede22701d"
   },
   "outputs": [
    {
     "name": "stdout",
     "output_type": "stream",
     "text": [
      "Model: \"functional_1\"\n",
      "__________________________________________________________________________________________________\n",
      "Layer (type)                    Output Shape         Param #     Connected to                     \n",
      "==================================================================================================\n",
      "input_1 (InputLayer)            [(None, 64)]         0                                            \n",
      "__________________________________________________________________________________________________\n",
      "embedding (Embedding)           (None, 64, 128)      6290560     input_1[0][0]                    \n",
      "__________________________________________________________________________________________________\n",
      "input_2 (InputLayer)            [(None, None)]       0                                            \n",
      "__________________________________________________________________________________________________\n",
      "bidirectional (Bidirectional)   [(None, 64, 128), (N 98816       embedding[0][0]                  \n",
      "__________________________________________________________________________________________________\n",
      "embedding_1 (Embedding)         (None, None, 128)    1743616     input_2[0][0]                    \n",
      "__________________________________________________________________________________________________\n",
      "concatenate (Concatenate)       (None, 128)          0           bidirectional[0][1]              \n",
      "                                                                 bidirectional[0][3]              \n",
      "__________________________________________________________________________________________________\n",
      "concatenate_1 (Concatenate)     (None, 128)          0           bidirectional[0][2]              \n",
      "                                                                 bidirectional[0][4]              \n",
      "__________________________________________________________________________________________________\n",
      "lstm_2 (LSTM)                   [(None, None, 128),  131584      embedding_1[0][0]                \n",
      "                                                                 concatenate[0][0]                \n",
      "                                                                 concatenate_1[0][0]              \n",
      "__________________________________________________________________________________________________\n",
      "attention_layer (AttentionLayer ((None, None, 128),  32896       bidirectional[0][0]              \n",
      "                                                                 lstm_2[0][0]                     \n",
      "__________________________________________________________________________________________________\n",
      "concat_layer (Concatenate)      (None, None, 256)    0           lstm_2[0][0]                     \n",
      "                                                                 attention_layer[0][0]            \n",
      "__________________________________________________________________________________________________\n",
      "time_distributed (TimeDistribut (None, None, 13622)  3500854     concat_layer[0][0]               \n",
      "==================================================================================================\n",
      "Total params: 11,798,326\n",
      "Trainable params: 11,798,326\n",
      "Non-trainable params: 0\n",
      "__________________________________________________________________________________________________\n"
     ]
    }
   ],
   "source": [
    "K.clear_session() \n",
    "EMBEEDING_DIM = 128\n",
    "\n",
    "# Encoder \n",
    "encoder_inputs = Input(shape=(TEXT_MAXLEN,)) \n",
    "enc_emb = Embedding(TEXT_VOC_SIZE, EMBEEDING_DIM,trainable=True)(encoder_inputs) \n",
    "\n",
    "forward_layer = LSTM(EMBEEDING_DIM//2, return_state=True, return_sequences=True) \n",
    "backward_layer = LSTM(EMBEEDING_DIM//2, return_state=True, return_sequences=True, go_backwards=True)\n",
    "\n",
    "encoder_bilstm3 = Bidirectional(forward_layer, backward_layer=backward_layer)\n",
    "encoder_outputs, forward_h, forward_c, backward_h, backward_c = encoder_bilstm3(enc_emb)\n",
    "state_h = Concatenate()([forward_h, backward_h])\n",
    "state_c = Concatenate()([forward_c, backward_c])\n",
    "\n",
    "# Set up the decoder. \n",
    "decoder_inputs = Input(shape=(None,)) \n",
    "dec_emb_layer = Embedding(TITLE_VOC_SIZE, EMBEEDING_DIM,trainable=True) \n",
    "dec_emb = dec_emb_layer(decoder_inputs) \n",
    "\n",
    "#LSTM using encoder_states as initial state\n",
    "decoder_lstm = LSTM(EMBEEDING_DIM, return_sequences=True, return_state=True) \n",
    "decoder_outputs,decoder_fwd_state, decoder_back_state = decoder_lstm(dec_emb,initial_state=[state_h, state_c]) \n",
    "\n",
    "#Attention Layer\n",
    "attn_layer =  AttentionLayer(name='attention_layer') \n",
    "attn_out, attn_states = attn_layer([encoder_outputs, decoder_outputs]) \n",
    "\n",
    "# Concat attention output and decoder LSTM output \n",
    "decoder_concat_input = Concatenate(axis=-1, name='concat_layer')([decoder_outputs, attn_out])\n",
    "\n",
    "#Dense layer\n",
    "decoder_dense = TimeDistributed(Dense(TITLE_VOC_SIZE, activation='softmax')) \n",
    "decoder_outputs = decoder_dense(decoder_concat_input) \n",
    "\n",
    "# Define the model\n",
    "model = Model([encoder_inputs, decoder_inputs], decoder_outputs) \n",
    "model.summary()"
   ]
  },
  {
   "cell_type": "markdown",
   "metadata": {
    "id": "rOeTqB4r4oh3"
   },
   "source": [
    "# Treinamento do Modelo"
   ]
  },
  {
   "cell_type": "code",
   "execution_count": null,
   "metadata": {
    "id": "8xN0af-24oh3"
   },
   "outputs": [],
   "source": [
    "model.compile(optimizer='adam', loss='sparse_categorical_crossentropy', metrics=['accuracy'])"
   ]
  },
  {
   "cell_type": "code",
   "execution_count": null,
   "metadata": {
    "id": "vAa8vm1O4oh3"
   },
   "outputs": [],
   "source": [
    "es = EarlyStopping(monitor='val_loss', mode='min', verbose=1,patience=2)"
   ]
  },
  {
   "cell_type": "code",
   "execution_count": null,
   "metadata": {
    "id": "_anJchKq4oh3"
   },
   "outputs": [],
   "source": [
    "EPOCHS = 25\n",
    "BATCH_SIZE = 256"
   ]
  },
  {
   "cell_type": "code",
   "execution_count": null,
   "metadata": {
    "colab": {
     "base_uri": "https://localhost:8080/"
    },
    "id": "hkiLjhqr4oh3",
    "outputId": "7b6575aa-9eca-435d-a0a2-26891e5e9577"
   },
   "outputs": [
    {
     "name": "stdout",
     "output_type": "stream",
     "text": [
      "Epoch 1/25\n",
      "404/404 [==============================] - 99s 246ms/step - loss: 1.8312 - accuracy: 0.7613 - val_loss: 1.2280 - val_accuracy: 0.7966\n",
      "Epoch 2/25\n",
      "404/404 [==============================] - 97s 240ms/step - loss: 1.2220 - accuracy: 0.8008 - val_loss: 1.1159 - val_accuracy: 0.8103\n",
      "Epoch 3/25\n",
      "404/404 [==============================] - 98s 243ms/step - loss: 1.1241 - accuracy: 0.8106 - val_loss: 1.0564 - val_accuracy: 0.8151\n",
      "Epoch 4/25\n",
      "404/404 [==============================] - 98s 242ms/step - loss: 1.0617 - accuracy: 0.8157 - val_loss: 1.0110 - val_accuracy: 0.8202\n",
      "Epoch 5/25\n",
      "404/404 [==============================] - 97s 241ms/step - loss: 1.0121 - accuracy: 0.8203 - val_loss: 0.9803 - val_accuracy: 0.8232\n",
      "Epoch 6/25\n",
      "404/404 [==============================] - 98s 241ms/step - loss: 0.9710 - accuracy: 0.8241 - val_loss: 0.9608 - val_accuracy: 0.8252\n",
      "Epoch 7/25\n",
      "404/404 [==============================] - 98s 242ms/step - loss: 0.9350 - accuracy: 0.8271 - val_loss: 0.9452 - val_accuracy: 0.8262\n",
      "Epoch 8/25\n",
      "404/404 [==============================] - 98s 242ms/step - loss: 0.9032 - accuracy: 0.8298 - val_loss: 0.9391 - val_accuracy: 0.8262\n",
      "Epoch 9/25\n",
      "404/404 [==============================] - 97s 241ms/step - loss: 0.8743 - accuracy: 0.8324 - val_loss: 0.9318 - val_accuracy: 0.8272\n",
      "Epoch 10/25\n",
      "404/404 [==============================] - 97s 241ms/step - loss: 0.8467 - accuracy: 0.8348 - val_loss: 0.9305 - val_accuracy: 0.8279\n",
      "Epoch 11/25\n",
      "404/404 [==============================] - 97s 240ms/step - loss: 0.8200 - accuracy: 0.8375 - val_loss: 0.9301 - val_accuracy: 0.8274\n",
      "Epoch 12/25\n",
      "404/404 [==============================] - 97s 241ms/step - loss: 0.7936 - accuracy: 0.8403 - val_loss: 0.9340 - val_accuracy: 0.8280\n",
      "Epoch 13/25\n",
      "404/404 [==============================] - 97s 241ms/step - loss: 0.7675 - accuracy: 0.8430 - val_loss: 0.9407 - val_accuracy: 0.8263\n",
      "Epoch 00013: early stopping\n"
     ]
    }
   ],
   "source": [
    "history=model.fit(\n",
    "    [text_train, title_train[:,:-1]], \n",
    "    title_train.reshape(title_train.shape[0], title_train.shape[1], 1)[:,1:],\n",
    "    epochs=EPOCHS, \n",
    "    callbacks=[es], \n",
    "    batch_size=BATCH_SIZE, \n",
    "    validation_data=([text_val, title_val[:,:-1]], \n",
    "                     title_val.reshape(title_val.shape[0], title_val.shape[1], 1)[:,1:]))"
   ]
  },
  {
   "cell_type": "markdown",
   "metadata": {
    "id": "5uWeFseP4oh3"
   },
   "source": [
    "# Avaliação conjunto de testes"
   ]
  },
  {
   "cell_type": "code",
   "execution_count": null,
   "metadata": {
    "colab": {
     "base_uri": "https://localhost:8080/"
    },
    "id": "CBuAHCBG4oh3",
    "outputId": "b90da7d8-6584-44ef-9a22-c1118bb85093"
   },
   "outputs": [
    {
     "name": "stdout",
     "output_type": "stream",
     "text": [
      "404/404 [==============================] - 6s 15ms/step - loss: 0.9481 - accuracy: 0.8250\n"
     ]
    },
    {
     "data": {
      "text/plain": [
       "[0.9480562806129456, 0.8250281810760498]"
      ]
     },
     "execution_count": 36,
     "metadata": {
      "tags": []
     },
     "output_type": "execute_result"
    }
   ],
   "source": [
    "model.evaluate([text_test, title_test[:,:-1]],\n",
    "               title_test.reshape(title_test.shape[0],\n",
    "                                 title_test.shape[1], 1)[:,1:])"
   ]
  },
  {
   "cell_type": "code",
   "execution_count": null,
   "metadata": {
    "colab": {
     "base_uri": "https://localhost:8080/",
     "height": 636
    },
    "id": "Ts8qbo-s4oh4",
    "outputId": "e350c55e-f462-4d9a-e196-147093ded68c"
   },
   "outputs": [
    {
     "name": "stderr",
     "output_type": "stream",
     "text": [
      "findfont: Font family ['normal'] not found. Falling back to DejaVu Sans.\n",
      "findfont: Font family ['Arial'] not found. Falling back to DejaVu Sans.\n"
     ]
    },
    {
     "data": {
      "image/png": "[encoded data removed]",
      "text/plain": [
       "<Figure size 1440x720 with 1 Axes>"
      ]
     },
     "metadata": {
      "tags": []
     },
     "output_type": "display_data"
    }
   ],
   "source": [
    "plot_loss(history, filename='', save=False)"
   ]
  },
  {
   "cell_type": "code",
   "execution_count": null,
   "metadata": {
    "colab": {
     "base_uri": "https://localhost:8080/",
     "height": 598
    },
    "id": "aqkOz-DJ4oh4",
    "outputId": "b55e766e-38a2-4a41-8193-7f27a13c5487"
   },
   "outputs": [
    {
     "data": {
      "image/png": "[encoded data removed]",
      "text/plain": [
       "<Figure size 1440x720 with 1 Axes>"
      ]
     },
     "metadata": {
      "tags": []
     },
     "output_type": "display_data"
    }
   ],
   "source": [
    "plot_acc(history, filename='', save=False)"
   ]
  },
  {
   "cell_type": "markdown",
   "metadata": {
    "id": "a-IyNbMl4oh4"
   },
   "source": [
    "# Preparar  inferencia para o encoder e o decoder"
   ]
  },
  {
   "cell_type": "code",
   "execution_count": null,
   "metadata": {
    "id": "FPg17s094oh4"
   },
   "outputs": [],
   "source": [
    "# encoder inference\n",
    "encoder_model = Model(inputs=encoder_inputs,outputs=[encoder_outputs, state_h, state_c])\n",
    "\n",
    "# decoder inference\n",
    "# Below tensors will hold the states of the previous time step\n",
    "decoder_state_input_h = Input(shape=(EMBEEDING_DIM,))\n",
    "decoder_state_input_c = Input(shape=(EMBEEDING_DIM,))\n",
    "decoder_hidden_state_input = Input(shape=(TEXT_MAXLEN, EMBEEDING_DIM))\n",
    "\n",
    "# Get the embeddings of the decoder sequence\n",
    "dec_emb2= dec_emb_layer(decoder_inputs)\n",
    "\n",
    "# To predict the next word in the sequence, set the initial states to the states from the previous time step\n",
    "decoder_outputs2, state_h2, state_c2 = decoder_lstm(dec_emb2, initial_state=[decoder_state_input_h, decoder_state_input_c])\n",
    "\n",
    "#attention inference\n",
    "attn_out_inf, attn_states_inf = attn_layer([decoder_hidden_state_input, decoder_outputs2])\n",
    "decoder_inf_concat = Concatenate(axis=-1, name='concat')([decoder_outputs2, attn_out_inf])\n",
    "\n",
    "# A dense softmax layer to generate prob dist. over the target vocabulary\n",
    "decoder_outputs2 = decoder_dense(decoder_inf_concat)\n",
    "\n",
    "# Final decoder model\n",
    "decoder_model = Model(\n",
    "[decoder_inputs] + [decoder_hidden_state_input,decoder_state_input_h, decoder_state_input_c],\n",
    "[decoder_outputs2] + [state_h2, state_c2])"
   ]
  },
  {
   "cell_type": "code",
   "execution_count": null,
   "metadata": {
    "id": "lAYYumHe4oh4"
   },
   "outputs": [],
   "source": [
    "def decode_sequence(input_seq):\n",
    "    # Encode the input as state vectors.\n",
    "    e_out, e_h, e_c = encoder_model.predict(input_seq)\n",
    "\n",
    "    # Generate empty target sequence of length 1.\n",
    "    target_seq = np.zeros((1,1))\n",
    "\n",
    "    # Chose the 'start' word as the first word of the target sequence\n",
    "    target_seq[0, 0] = title_word2idx[SOS]\n",
    "\n",
    "    stop_condition = False\n",
    "    decoded_sentence = ''\n",
    "    while not stop_condition:\n",
    "        output_tokens, h, c = decoder_model.predict([target_seq] + [e_out, e_h, e_c])\n",
    "\n",
    "        # Sample a token\n",
    "        sampled_token_index = np.argmax(output_tokens[0, -1, :])\n",
    "        if sampled_token_index == 0:\n",
    "            break\n",
    "        else:\n",
    "            sampled_token = title_idx2word[sampled_token_index]\n",
    "\n",
    "        if(sampled_token!=EOS):\n",
    "            decoded_sentence += ' '+sampled_token\n",
    "\n",
    "        # Exit condition: either hit max length or find stop word.\n",
    "        if (sampled_token == EOS or len(decoded_sentence.split()) >= (TITLE_MAXLEN-1)):\n",
    "            stop_condition = True\n",
    "\n",
    "        # Update the target sequence (of length 1).\n",
    "        target_seq = np.zeros((1,1))\n",
    "        target_seq[0, 0] = sampled_token_index\n",
    "\n",
    "        # Update internal states\n",
    "        e_h, e_c = h, c\n",
    "\n",
    "    return decoded_sentence.strip()"
   ]
  },
  {
   "cell_type": "code",
   "execution_count": null,
   "metadata": {
    "id": "jdfdnmal4oh4"
   },
   "outputs": [],
   "source": [
    "def seq2title(input_seq):\n",
    "    new_string = ''\n",
    "    \n",
    "    for i in input_seq:\n",
    "        if i != 0 and i!= title_word2idx[SOS] and i != title_word2idx[EOS]:\n",
    "            new_string += title_idx2word[i] + ' '\n",
    "    return new_string\n",
    "\n",
    "def seq2text(input_seq):\n",
    "    new_string = ''\n",
    "    \n",
    "    for i in input_seq:\n",
    "        if i != 0:\n",
    "            new_string += text_idx2word[i] + ' '\n",
    "    return new_string"
   ]
  },
  {
   "cell_type": "markdown",
   "metadata": {
    "id": "zYINPLjT4oh4"
   },
   "source": [
    "# Computação das Métricas"
   ]
  },
  {
   "cell_type": "markdown",
   "metadata": {
    "id": "CjwnlVfC4oh4"
   },
   "source": [
    "<h2>Bleu</h2>"
   ]
  },
  {
   "cell_type": "code",
   "execution_count": null,
   "metadata": {
    "colab": {
     "base_uri": "https://localhost:8080/",
     "height": 647,
     "referenced_widgets": [
      "9b12f5a7d76b4b9f8e85d474d6af83fa",
      "0e3ff82ddc324ad3bfe66908d4431c65",
      "22a5aef00ffd4906af470018a8d24d19",
      "b232cca5197a4c76bdd33e87aef0cbcc",
      "9cf1f563c5b540e9b78657344b21ceae",
      "9979b1988a9a427a964eadf2d36f7c43",
      "1d32b61d07d8415cbdaa54c0829599fa",
      "668eb9f262e24e55ae9d5bfce1a247e8"
     ]
    },
    "id": "7rHJC-DE4oh4",
    "outputId": "9973d641-1745-4f1e-d71b-cf17ad7437c3"
   },
   "outputs": [
    {
     "name": "stdout",
     "output_type": "stream",
     "text": [
      "Computando o Bleu para  12918 sentenças\n",
      "\n"
     ]
    },
    {
     "data": {
      "application/vnd.jupyter.widget-view+json": {
       "model_id": "9b12f5a7d76b4b9f8e85d474d6af83fa",
       "version_major": 2,
       "version_minor": 0
      },
      "text/plain": [
       "HBox(children=(FloatProgress(value=0.0, max=12918.0), HTML(value='')))"
      ]
     },
     "metadata": {
      "tags": []
     },
     "output_type": "display_data"
    },
    {
     "name": "stderr",
     "output_type": "stream",
     "text": [
      "/usr/local/lib/python3.6/dist-packages/nltk/translate/bleu_score.py:516: UserWarning: \n",
      "The hypothesis contains 0 counts of 4-gram overlaps.\n",
      "Therefore the BLEU score evaluates to 0, independently of\n",
      "how many N-gram overlaps of lower order it contains.\n",
      "Consider using lower n-gram order or use SmoothingFunction()\n",
      "  warnings.warn(_msg)\n",
      "/usr/local/lib/python3.6/dist-packages/nltk/translate/bleu_score.py:516: UserWarning: \n",
      "The hypothesis contains 0 counts of 2-gram overlaps.\n",
      "Therefore the BLEU score evaluates to 0, independently of\n",
      "how many N-gram overlaps of lower order it contains.\n",
      "Consider using lower n-gram order or use SmoothingFunction()\n",
      "  warnings.warn(_msg)\n",
      "/usr/local/lib/python3.6/dist-packages/nltk/translate/bleu_score.py:516: UserWarning: \n",
      "The hypothesis contains 0 counts of 3-gram overlaps.\n",
      "Therefore the BLEU score evaluates to 0, independently of\n",
      "how many N-gram overlaps of lower order it contains.\n",
      "Consider using lower n-gram order or use SmoothingFunction()\n",
      "  warnings.warn(_msg)\n"
     ]
    },
    {
     "name": "stdout",
     "output_type": "stream",
     "text": [
      "\n",
      "Min: 0.0 \n",
      "\n",
      "Média: 0.1459 \n",
      "\n",
      "Max: 1.0 \n",
      "\n",
      "Desvio Padrão: 0.2578 \n",
      "\n",
      "Variância: 0.0665 \n",
      "\n",
      "Coeficiente de Variação: 176.7036 \n",
      "\n",
      "\n"
     ]
    }
   ],
   "source": [
    "print(\"Computando o Bleu para \", len(text_test), \"sentenças\")\n",
    "print()\n",
    "scores_bleu = compute_bleu(text_test, title_test, TEXT_MAXLEN, seq2title, decode_sequence)\n",
    "print(\"Min:\", round(np.min(scores_bleu), 4), '\\n')\n",
    "print(\"Média:\", round(np.mean(scores_bleu), 4), '\\n')\n",
    "print(\"Max:\", round(np.max(scores_bleu), 4), '\\n')\n",
    "print(\"Desvio Padrão:\", round(np.std(scores_bleu), 4), '\\n')\n",
    "print(\"Variância:\", round(np.var(scores_bleu), 4), '\\n')\n",
    "print(\"Coeficiente de Variação:\", round(np.std(scores_bleu)/np.mean(scores_bleu) * 100, 4), '\\n')\n",
    "print()"
   ]
  },
  {
   "cell_type": "code",
   "execution_count": null,
   "metadata": {
    "colab": {
     "base_uri": "https://localhost:8080/",
     "height": 397
    },
    "id": "-OHnu69gLX1r",
    "outputId": "997b1a41-c0b3-47d6-f4b7-faf33e2bee3f"
   },
   "outputs": [
    {
     "data": {
      "image/png": "[encoded data removed]",
      "text/plain": [
       "<Figure size 1080x360 with 1 Axes>"
      ]
     },
     "metadata": {
      "tags": []
     },
     "output_type": "display_data"
    }
   ],
   "source": [
    "fig = plt.figure(figsize = (15,5))\n",
    "ax = fig.gca()\n",
    "\n",
    "length_df = pd.DataFrame({'Bleu score':scores_bleu})\n",
    "length_df.hist(bins = 20, ax=ax)\n",
    "\n",
    "# set title and axis labels\n",
    "plt.suptitle('Distribuição dos Scores - Bleu', x=0.5, y=1.05, ha='center', fontsize='xx-large')\n",
    "fig.text(0.5, 0.04, 'Score', ha='center')\n",
    "fig.text(0.04, 0.5, 'Frequência', va='center', rotation='vertical')\n",
    "plt.show()"
   ]
  },
  {
   "cell_type": "markdown",
   "metadata": {
    "id": "GmCFPwrS4oh4"
   },
   "source": [
    "<h2>Meteor</h2>"
   ]
  },
  {
   "cell_type": "code",
   "execution_count": null,
   "metadata": {
    "colab": {
     "base_uri": "https://localhost:8080/",
     "height": 330,
     "referenced_widgets": [
      "e4dedd72b407400385e279379e613cdb",
      "b193e3a66b1b41cfa34d00336727b497",
      "93abbda760ca4b80a376a03fcd1c8d95",
      "84045fcae814400c818cd4432871978b",
      "e93e4f89dc0545f390a1ddc679d4c541",
      "9f8881bcb85045ba82923ff5b9853c6f",
      "a2920799412e413aaf1991c66a249a7f",
      "3fa851572a3c4d8fb4d63c08886b4dc7"
     ]
    },
    "id": "MhebNz3gLaKf",
    "outputId": "c0bad2a6-a2e1-46ff-d943-024da496ed7b"
   },
   "outputs": [
    {
     "name": "stdout",
     "output_type": "stream",
     "text": [
      "Computando o Meteor para  12918 sentenças\n",
      "\n"
     ]
    },
    {
     "data": {
      "application/vnd.jupyter.widget-view+json": {
       "model_id": "e4dedd72b407400385e279379e613cdb",
       "version_major": 2,
       "version_minor": 0
      },
      "text/plain": [
       "HBox(children=(FloatProgress(value=0.0, max=12918.0), HTML(value='')))"
      ]
     },
     "metadata": {
      "tags": []
     },
     "output_type": "display_data"
    },
    {
     "name": "stdout",
     "output_type": "stream",
     "text": [
      "\n",
      "Min: 0.0 \n",
      "\n",
      "Média: 0.1182 \n",
      "\n",
      "Max: 0.9922 \n",
      "\n",
      "Desvio Padrão: 0.2249 \n",
      "\n",
      "Variância: 0.0506 \n",
      "\n",
      "Coeficiente de Variação: 190.2299 \n",
      "\n",
      "\n"
     ]
    }
   ],
   "source": [
    "print(\"Computando o Meteor para \", len(text_test), \"sentenças\")\n",
    "print()\n",
    "scores_meteor = compute_meteor(text_test, title_test, TEXT_MAXLEN, seq2title, decode_sequence)\n",
    "print(\"Min:\", round(np.min(scores_meteor), 4), '\\n')\n",
    "print(\"Média:\", round(np.mean(scores_meteor),4), '\\n')\n",
    "print(\"Max:\", round(np.max(scores_meteor), 4), '\\n')\n",
    "print(\"Desvio Padrão:\", round(np.std(scores_meteor), 4), '\\n')\n",
    "print(\"Variância:\", round(np.var(scores_meteor), 4), '\\n')\n",
    "print(\"Coeficiente de Variação:\", round(np.std(scores_meteor)/np.mean(scores_meteor) * 100, 4), '\\n')\n",
    "print()"
   ]
  },
  {
   "cell_type": "code",
   "execution_count": null,
   "metadata": {
    "colab": {
     "base_uri": "https://localhost:8080/",
     "height": 397
    },
    "id": "uqxTgj6sLlZi",
    "outputId": "7ed12a86-7caf-4492-fb21-66d1a0ab98b2"
   },
   "outputs": [
    {
     "data": {
      "image/png": "[encoded data removed]",
      "text/plain": [
       "<Figure size 1080x360 with 1 Axes>"
      ]
     },
     "metadata": {
      "tags": []
     },
     "output_type": "display_data"
    }
   ],
   "source": [
    "fig = plt.figure(figsize = (15,5))\n",
    "ax = fig.gca()\n",
    "\n",
    "length_df = pd.DataFrame({'Meteor score':scores_meteor})\n",
    "length_df.hist(bins = 20, ax=ax)\n",
    "\n",
    "# set title and axis labels\n",
    "plt.suptitle('Distribuição dos Scores - Meteor', x=0.5, y=1.05, ha='center', fontsize='xx-large')\n",
    "fig.text(0.5, 0.04, 'Score', ha='center')\n",
    "fig.text(0.04, 0.5, 'Frequência', va='center', rotation='vertical')\n",
    "plt.show()"
   ]
  },
  {
   "cell_type": "markdown",
   "metadata": {
    "id": "cOoEv6AE4oh5"
   },
   "source": [
    "# Exemplo de geração de texto com o modelo treinado usando o conjunto de testes"
   ]
  },
  {
   "cell_type": "code",
   "execution_count": null,
   "metadata": {
    "colab": {
     "base_uri": "https://localhost:8080/"
    },
    "id": "udJcWkyGLpSN",
    "outputId": "b044160a-1ff7-4c29-95c8-ab5ec8f4383e"
   },
   "outputs": [
    {
     "name": "stdout",
     "output_type": "stream",
     "text": [
      "Text Review: produto em ordem e dentro do prazo de entrega . recomendo \n",
      "Original Title Review: perfeito \n",
      "Predicted Title Review: gostei do produto\n",
      "\n",
      "\n",
      "Text Review: é o melhor sistema operacional , não trava e os aplicativos são bem selecionados só top . o meu é o , já o tenho a quase quatro anos e nunca deu defeito . parabéns . \n",
      "Original Title Review: muito ótimo \n",
      "Predicted Title Review: excelente\n",
      "\n",
      "\n",
      "Text Review: xxxxxxxxxxxxxxxxxxxx xxxxxxxxxxxxxxxxxxxx \n",
      "Original Title Review: gostei \n",
      "Predicted Title Review: não gostei\n",
      "\n",
      "\n",
      "Text Review: amigos , este barbeador não funciona ligado a tomada justamente para evita choques elétricos , porque foi feito para ser usado na agua , muito bom , já tenho um a muitos anos , nunca deu problema . \n",
      "Original Title Review: segurança total \n",
      "Predicted Title Review: gostei\n",
      "\n",
      "\n",
      "Text Review: atendeu as minhas expectativas e chegou antes do prazo recomendo \n",
      "Original Title Review: gostei \n",
      "Predicted Title Review: gostei muito do produto\n",
      "\n",
      "\n",
      "Text Review: ótimo produto , designer bonito , entrega super rápida . \n",
      "Original Title Review: ótimo produto . \n",
      "Predicted Title Review: excelente\n",
      "\n",
      "\n",
      "Text Review: o celular é de uma operadora americana , porém o anuncio não avisa isto fui pego de surpresa , o que é um absurdo . não aceita chip de operadoras brasileiras , ou seja , quase inutil . comprei um já não carregava agora descubro que não avisa chip brasileiro . esses parceiros da americanas nunca mais . \n",
      "Original Title Review: lixo \n",
      "Predicted Title Review: não comprem\n",
      "\n",
      "\n",
      "Text Review: . \n",
      "Original Title Review: \n",
      "Predicted Title Review: gostei\n",
      "\n",
      "\n",
      "Text Review: recebi hoje . fui usar , que decepção , não funciona . \n",
      "Original Title Review: decepção \n",
      "Predicted Title Review: não funciona\n",
      "\n",
      "\n",
      "Text Review: é esse preço mesmo a ? \n",
      "Original Title Review: dúvida \n",
      "Predicted Title Review: gostei do produto\n",
      "\n",
      "\n",
      "Text Review: òtimo fone , original , comprei direto pelas americanas . recomendo \n",
      "Original Title Review: muito bom . recomendo \n",
      "Predicted Title Review: gostei do produto\n",
      "\n",
      "\n",
      "Text Review: exelente já preparei vários alimentos e gostei muito do resultado , as batatas ficam crocantes e sequinhas , o frango a passarinho com o mesmo sabor se tivesse no óleo recomendo \n",
      "Original Title Review: gostei muito \n",
      "Predicted Title Review: excelente\n",
      "\n",
      "\n",
      "Text Review: fácil utilização , ocupa pouco espaço . rápida e prática . \n",
      "Original Title Review: gostei muito \n",
      "Predicted Title Review: gostei do produto\n",
      "\n",
      "\n",
      "Text Review: muito bom . mais só usei um vez . espero que seja sempre bom \n",
      "Original Title Review: gostei muito \n",
      "Predicted Title Review: bom\n",
      "\n",
      "\n",
      "Text Review: gostei rapida e tem os recursos que eu gosto . \n",
      "Original Title Review: muito boa \n",
      "Predicted Title Review: gostei\n",
      "\n",
      "\n",
      "Text Review: muito bom . celular conforme o desejado , dentro das especificações técnicas e de fácil manuseio . excelente prazo de entrega da empresa . \n",
      "Original Title Review: produto em perfeito estado . \n",
      "Predicted Title Review: ótimo produto\n",
      "\n",
      "\n",
      "Text Review: tive problemas com a transportadora , porém o produto chegou ótimo e está sendo muito útil . \n",
      "Original Title Review: adorei \n",
      "Predicted Title Review: gostei muito do produto\n",
      "\n",
      "\n",
      "Text Review: cheguei a gerar o boleto e depois percebi que não informam a garantia da impressora . liguei para americanas e não sabem informar , dizem que é com o parceiro next . pesquisei muito para encontrar o telefone da next e o único que consegui não atendem -- . ou seja , deixei de comprar porque não tem uma informação tao básica . \n",
      "Original Title Review: qual a garantia do produto ? \n",
      "Predicted Title Review: não comprem\n",
      "\n",
      "\n",
      "Text Review: um saco de lixo , o pendrive veio dentro de uma lata solto , batendo e é visível que se trata de produto importado . sim , deve ser chinês . comprei no site por ser garantido , mas a americanas aderiu a terceirização também . resultado: estou devolvendo o produto e solicitando a devolução do dinheiro . nunca mais compro dessa empresa . \n",
      "Original Title Review: produto errado e falsificado . ridículo \n",
      "Predicted Title Review: não comprem\n",
      "\n",
      "\n",
      "Text Review: na verdade o anúncio está bem diferente do produto fornecido pelas lojas americanas . a câmera não filma em fps também não tem qualidade na imagem . \n",
      "Original Title Review: não corresponde com o anúnciado \n",
      "Predicted Title Review: propaganda enganosa\n",
      "\n",
      "\n",
      "Text Review: o produto é bom , fácil de mexer e a entrega foi super rápida . \n",
      "Original Title Review: celular muito bom \n",
      "Predicted Title Review: gostei do produto\n",
      "\n",
      "\n",
      "Text Review: superou expectativas em tamanho e qualidade . recomendo \n",
      "Original Title Review: adorei o conjunto \n",
      "Predicted Title Review: excelente\n",
      "\n",
      "\n",
      "Text Review: boa tarde prezados , foi muito triste quando chegou o celular com a cor ouro , pois escolhi rose . quase que vendia o celular por não me adaptar com a cor . não compro mais por aplicativo , pois o celular é uma coisa muito pessoal e quando vem de um jeito que não foi escolhido , causa frustração . \n",
      "Original Title Review: cor divergente \n",
      "Predicted Title Review: não recomendo\n",
      "\n",
      "\n",
      "Text Review: bom produto , mas pelas fotos parecia ser maior . chegou no prazo \n",
      "Original Title Review: bom produto \n",
      "Predicted Title Review: bom\n",
      "\n",
      "\n",
      "Text Review: paguei r , há pouco tempo atrás . que preço é , americanas vamos incentivar à leitura ? assim não dá :o \n",
      "Original Title Review: r , \n",
      "Predicted Title Review: ótimo custo benefício\n",
      "\n",
      "\n",
      "Text Review: produto chegou rápido e me atendeu muito bem , parabéns pela rapidez e produtos de ótima qualidade . \n",
      "Original Title Review: excelente produto . \n",
      "Predicted Title Review: produto excelente\n",
      "\n",
      "\n",
      "Text Review: do prazo , mas dessa vez , acompanho o rastreio que não é atualizado a dias , e hoje venceu o prazo e não recebi . uma vergonha , cuidado , a americanas já não é a mesma . vou buscar o estorno junto a minha operado já que não consigo fazer contato nem por telefone e nem por e-mail com esse site . \n",
      "Original Title Review: não recebi o poduto \n",
      "Predicted Title Review: produto bom\n",
      "\n",
      "\n",
      "Text Review: bom produto e discreto . para quem procura o mesmo . \n",
      "Original Title Review: bom \n",
      "Predicted Title Review: bom produto\n",
      "\n",
      "\n",
      "Text Review: material e conteúdo muito bons . tempo de entrega excelente , bem antes do tempo previsto . \n",
      "Original Title Review: excelente \n",
      "Predicted Title Review: excelente\n",
      "\n",
      "\n",
      "Text Review: uma fonte de inspiração para repensar a vida e à si mesmo . \n",
      "Original Title Review: maravilhoso \n",
      "Predicted Title Review: gostei do produto\n",
      "\n",
      "\n",
      "Text Review: muito bom o produto mas achei pequeno o tamanho do boneco achei que fosse maior \n",
      "Original Title Review: boneco super man \n",
      "Predicted Title Review: gostei do produto\n",
      "\n",
      "\n",
      "Text Review: as lentes de contato vieram com o grau errado . solicitei . e vieram com . infelizmente não tenho como avaliar por não poder utilizar o produto . \n",
      "Original Title Review: errado \n",
      "Predicted Title Review: produto errado\n",
      "\n",
      "\n",
      "Text Review: não indico e golpe . tem a m pilantra querendo levar vantagem sobre o consumidor , vamos ficar espertos . \n",
      "Original Title Review: golpe \n",
      "Predicted Title Review: não gostei\n",
      "\n",
      "\n",
      "Text Review: comprei e gostei muito bom muito resistente otima qualidade rrecomendo atodos que gostarem de um de alta qualidade obrigado \n",
      "Original Title Review: miuto otimo gostei \n",
      "Predicted Title Review: gostei muito do produto\n",
      "\n",
      "\n",
      "Text Review: descrição do produto não condiz com realidade . xxxxxxxxxxxxxxxxxxxxxxxx \n",
      "Original Title Review: decepcionado \n",
      "Predicted Title Review: não gostei\n",
      "\n",
      "\n",
      "Text Review: o soprador é bom , mas achei grande e pesado , deveria ser menor , mais leve , a potência é boa , eu tinha um de outra marca que queimou que era bem mais prático pela leveza e tamanho \n",
      "Original Title Review: bom \n",
      "Predicted Title Review: bom\n",
      "\n",
      "\n",
      "Text Review: ótimo produto . a mochila tem bolsos , o principal , que é maior , e na frente mais estreito . gostei do tamanho da mochila . não é pequena , boa para crianças que vão para a creche . \n",
      "Original Title Review: gostei do produto . \n",
      "Predicted Title Review: gostei\n",
      "\n",
      "\n",
      "Text Review: entrega rápida , recomendo para quem precisa com urgência . \n",
      "Original Title Review: me atende perfeitamente \n",
      "Predicted Title Review: ótimo produto\n",
      "\n",
      "\n",
      "Text Review: e que não fosse caro , porém apesar de ter uma boa configuração pelo valor dele não gostei por ser um aparelho ruim de se manusear , os aplicativos pedem atualização o tempo todo e os aplicativos que baixei não consigo atualizar , muito louco esse aparelho , ainda estou tentando me adaptar a ele mas não indico a ninguém , tá doido . \n",
      "Original Title Review: decepção \n",
      "Predicted Title Review: não cumpre o que promete\n",
      "\n",
      "\n",
      "Text Review: eu gostei do produto e também fiquei satisfeita com a entrega que ocorreu antes do prazo estipulado , só fiquei surpresa com o tamanho da moto , pois não tinha reparado na descrição do produto e confesso que achei que ela fosse maior . enfim . \n",
      "Original Title Review: surpresa \n",
      "Predicted Title Review: gostei do produto\n",
      "\n",
      "\n",
      "Text Review: produto de ótima qualidade e a dada aos que a marca bonanza . agradeço o carinho . \n",
      "Original Title Review: parabéns pelo produto e com o cliente \n",
      "Predicted Title Review: excelente\n",
      "\n",
      "\n",
      "Text Review: estou gostando . difícil dizer com pouco tempo de uso , mas até agora , tudo ok \n",
      "Original Title Review: tudo ok \n",
      "Predicted Title Review: gostei\n",
      "\n",
      "\n",
      "Text Review: estava marcado para chegar no dia / mas chegou dia / . show de bola \n",
      "Original Title Review: perfeito \n",
      "Predicted Title Review: muito bom\n",
      "\n",
      "\n",
      "Text Review: aparelho com recursos bem úteis para pessoas idosas e sem familiaridade com tecnologia de celulares . a configuração poderia sem mais simples . \n",
      "Original Title Review: produto atende ao que se propõe . \n",
      "Predicted Title Review: ótimo custo benefício\n",
      "\n",
      "\n",
      "Text Review: comprei a lanterna xz e mandaram a lanterna x pela loja thata esportes . muita sacanagem você comprar um produto e mandar outro . \n",
      "Original Title Review: odiei o produto \n",
      "Predicted Title Review: chegou com defeito\n",
      "\n",
      "\n",
      "Text Review: sempre comprei samsung e nunca tive problemas , mas esse aparelho veio com defeito de fábrica e não é só o meu , pois dois familiares também adquiriram o produto e é recorrente os mesmo defeitos . touch com falha , desliga repentinamente , trava muito , dentre outros problemas . decepcionada com a samsung \n",
      "Original Title Review: celular tem falhas no touch \n",
      "Predicted Title Review: tv com defeito\n",
      "\n",
      "\n",
      "Text Review: minha filha gostou muito , atendeu as expectativas . \n",
      "Original Title Review: minha filha gostou muito \n",
      "Predicted Title Review: gostei do produto\n",
      "\n",
      "\n",
      "Text Review: atendeu minhas expectativas , produto de qualidade . recomendo \n",
      "Original Title Review: ótimo produto \n",
      "Predicted Title Review: gostei muito do produto\n",
      "\n",
      "\n",
      "Text Review: o produto é ótimo , realmente esta me ajudando vou continuar comprando sdfg \n",
      "Original Title Review: ótimo \n",
      "Predicted Title Review: gostei muito do produto\n",
      "\n",
      "\n",
      "Text Review: foi o que eu estava esperando . meu pedido veio bem rápido e foi a professora quem pediu eu ainda não usei mas quanto a entrega gostei muito . \n",
      "Original Title Review: um bom produto \n",
      "Predicted Title Review: gostei do produto\n",
      "\n",
      "\n",
      "Text Review: . no que ele entrega não é um smart watch , apenas tem algumas funções de um . \n",
      "Original Title Review: muito bom . \n",
      "Predicted Title Review: gostei do produto\n",
      "\n",
      "\n",
      "Text Review: andei muito pouco com ele , mas se comportou bem na chuva . o é , vamos ver se isso se na prática . \n",
      "Original Title Review: chegou rápido \n",
      "Predicted Title Review: muito bom\n",
      "\n",
      "\n",
      "Text Review: produto ruim . não atendeu às expectativas . tive que desmontar e utilizar somente um eixo pois ficava folgado e balançando . \n",
      "Original Title Review: péssima \n",
      "Predicted Title Review: produto ruim\n",
      "\n",
      "\n",
      "Text Review: produto fácil de ser instalado e o processo de entrega foi de acordo com o prazo informado . \n",
      "Original Title Review: correspondeu a expectativa \n",
      "Predicted Title Review: produto de qualidade\n",
      "\n",
      "\n",
      "Text Review: não recomendo a loja mencionada , uma vez que , até o momento , não recebi a fantasia com o tamanho correto e , além disso , encaminharam-me um código de rastreio nos correios inexistente . exijo providências , pois o prazo , ao meu ver , já se esgotou e minha paciência tb mariana \n",
      "Original Title Review: não recomendo a loja shop \n",
      "Predicted Title Review: produto com defeito\n",
      "\n",
      "\n",
      "Text Review: como eu vou avaliar um produto que vocês ainda não entregou ? parece até brincadeira o produto já está com dias de atraso , não recomendo produto nenhum deste sait . \n",
      "Original Title Review: não recebi o produto \n",
      "Predicted Title Review: não recebi o produto\n",
      "\n",
      "\n",
      "Text Review: atendeu a todas as expectativas . excelente produto . a motorola está de parabéns . \n",
      "Original Title Review: excelente aparelho \n",
      "Predicted Title Review: excelente produto\n",
      "\n",
      "\n",
      "Text Review: acabamento muito simples muito diferente das fotos do anuncio \n",
      "Original Title Review: simples \n",
      "Predicted Title Review: gostei do produto\n",
      "\n",
      "\n",
      "Text Review: celular excelente bem melhor que a geraçao anterior . \n",
      "Original Title Review: moto g sim \n",
      "Predicted Title Review: ótimo produto\n",
      "\n",
      "\n",
      "Text Review: a philco sempre teve péssimas tvs , infelizmente um amigo comprou e se arrependeu não comprei essa bomba , é o barato que vai sair caro . recomendo a lg com seu poderoso sistema web os . tenho tvs em casa , são lg smart , a outra samsung , mas a lg é superior . \n",
      "Original Title Review: philco - tv de péssima qualidade \n",
      "Predicted Title Review: não comprem\n",
      "\n",
      "\n",
      "Text Review: comprei o monitor para pode usá-lo em hz . descobri que a conexão hdmi do meu computador não consegue enviar essa frequência para o monitor . teria sido mais feliz se tivesse essa informação antes de comprar . \n",
      "Original Title Review: hz apenas em display ou dvi \n",
      "Predicted Title Review: produto de péssima qualidade\n",
      "\n",
      "\n",
      "Text Review: celular muito bom , boa memoria , tamanho , funções . em fim recomendo o produto . \n",
      "Original Title Review: ótimo produto \n",
      "Predicted Title Review: muito bom\n",
      "\n",
      "\n",
      "Text Review: as especificações do produto estão escritas de uma forma absurdamente incorreta . o site deveria , no mínimo , fazer a correção . \n",
      "Original Title Review: especificações do produto \n",
      "Predicted Title Review: propaganda enganosa\n",
      "\n",
      "\n",
      "Text Review: acho que toda mulher tem que ter em casa pelo menos dois mop , um para por o sabão , água sanitária ou outros produtos de preferência individual e um para colocar água e um desinfetante de sua preferência para que retire o sabão e deixe a casa com frescor de limpeza \n",
      "Original Title Review: amei , não fico sem nunca mais \n",
      "Predicted Title Review: produto muito frágil\n",
      "\n",
      "\n",
      "Text Review: este tablet é muito lento para as principais aplicações conhecidas e não possui armazenamento para vários apps . não é raro ser necessário a desinstalação de um app para a instalação de outro , pois boa parte do armazenamento de gb é destinada ao sistema android . \n",
      "Original Title Review: tablet lento e sem capacidade de instalação de vários apps \n",
      "Predicted Title Review: não gostei\n",
      "\n",
      "\n",
      "Text Review: eu nao recebi o produto eu nao recebi o produto eu nao recebi o produto \n",
      "Original Title Review: eu nao recebi o produto \n",
      "Predicted Title Review: nao recebi o produto\n",
      "\n",
      "\n",
      "Text Review: chegou em dias na minha cidade custaria o dobro do preço \n",
      "Original Title Review: assento \n",
      "Predicted Title Review: bom\n",
      "\n",
      "\n",
      "Text Review: linda de ótima qualidade , só atenção ao tamanho pois a forma da é maior \n",
      "Original Title Review: do jeito que eu esperava \n",
      "Predicted Title Review: gostei muito\n",
      "\n",
      "\n",
      "Text Review: é um produto bom , de qualidade . único problema é o tempo de atualização mais de horas para atualizar as primeiras vezes . fora isso , não tenho o que reclamar . é muito bom \n",
      "Original Title Review: notebook ótimo \n",
      "Predicted Title Review: gostei do produto\n",
      "\n",
      "\n",
      "Text Review: chegou antes do prazo porém o carregador do celular não funciona nele . é decepcionante o produto não suprir a necessidade do cliente e esse realmente não supre as minhas . imagine se eu não tivesse um outro carregador em casa , eu teria perdido o meu dinheiro por um defeito de fábrica . decepcionante \n",
      "Original Title Review: insatisfeita \n",
      "Predicted Title Review: produto com defeito\n",
      "\n",
      "\n",
      "Text Review: comprei este presente para presentear o meu filho no natal . hoje é dia de janeiro e ainda não recebi \n",
      "Original Title Review: não recebi o produto \n",
      "Predicted Title Review: não recebi o produto\n",
      "\n",
      "\n",
      "Text Review: história show de , o gráfico pode melhorar , mas no geral vale a pena . \n",
      "Original Title Review: muito bom jogo \n",
      "Predicted Title Review: muito bom\n",
      "\n",
      "\n",
      "Text Review: gostei sim muito bom . comprei chegou rapido e sem problemas . parabens \n",
      "Original Title Review: muito bom usei e é eficiente mesmo \n",
      "Predicted Title Review: muito bom\n",
      "\n",
      "\n",
      "Text Review: panela perfeita , linda e prática , e parabéns americanas a entrega foi super rápida como sempre . \n",
      "Original Title Review: \n",
      "Predicted Title Review: amei\n",
      "\n",
      "\n",
      "Text Review: eu recomendo o produto , muito bom e cumpriu com os requisitos . \n",
      "Original Title Review: produto ótimo . \n",
      "Predicted Title Review: gostei muito do produto\n",
      "\n",
      "\n",
      "Text Review: gostei muito do produto , superou as minhas expectativas . \n",
      "Original Title Review: gostei \n",
      "Predicted Title Review: gostei muito do produto\n",
      "\n",
      "\n",
      "Text Review: a entrega foi excelente to com portas a serem montadas pois vieram faltando parafusos e pecas que se encaixam para a colocação das postas madeira do balcão um estufado o que era uma grande espectativa virou um pesadelo terei que comprar as pecas ou achar algum movel desmontado na rua para montar . \n",
      "Original Title Review: não gostei \n",
      "Predicted Title Review: produto com defeito\n",
      "\n",
      "\n",
      "Text Review: dia e de noite . tem alarme que toca quando detecta movimento . o aplicativo é muito bom . porém , é grande para uma câmera externa , chama atenção e é fácil de ser levada pois é presa apenas por um parafuso que encaixa ela no suporte . o ideal é deixar ela dentro de casa ou em um local bem alto . \n",
      "Original Title Review: é muito boa , cheia de funcionalidade . mas é bem grande . \n",
      "Predicted Title Review: bom custo benefício\n",
      "\n",
      "\n",
      "Text Review: rende mais que o original , entrega perfeita , gostaria que a fazer , ml multilaser \n",
      "Original Title Review: gostei muito pois veio com quantidade ml \n",
      "Predicted Title Review: excelente\n",
      "\n",
      "\n",
      "Text Review: demorei dias pra receber o produto e me decepcionei qdo abri pois meu filho nao coube nela . ele tem anos e o produto nao condiz com o anuncio que seria para crianças de a anos \n",
      "Original Title Review: moto minuscula \n",
      "Predicted Title Review: produto muito bom\n",
      "\n",
      "\n",
      "Text Review: meu produto chegou com as peças todas erradas , não se encaixam . e antes de efetuar a compra o prazo de entrega era um , depois de efetuar a compra este prazo mudou \n",
      "Original Title Review: as peças vieram erradas \n",
      "Predicted Title Review: produto não é original\n",
      "\n",
      "\n",
      "Text Review: celular bonito , grande . rápido , ótima bateria . recomendo muito \n",
      "Original Title Review: muito bom \n",
      "Predicted Title Review: ótimo\n",
      "\n",
      "\n",
      "Text Review: meu esposo precisa de um telefone que tenha muitos recursos pois usa no trabalho , ele feliz \n",
      "Original Title Review: super recomendo \n",
      "Predicted Title Review: gostei do produto\n",
      "\n",
      "\n",
      "Text Review: chegou antes do prazo americanas estão de parabéns , produto perfeito , recomendadissimo \n",
      "Original Title Review: nota \n",
      "Predicted Title Review: gostei muito do produto\n",
      "\n",
      "\n",
      "Text Review: correspondeu as minhas expectativas , funcionou direitinho . \n",
      "Original Title Review: gostei muito \n",
      "Predicted Title Review: gostei\n",
      "\n",
      "\n",
      "Text Review: produto excelente em perfeitas condições , e entregue antes da data prevista . \n",
      "Original Title Review: excelente \n",
      "Predicted Title Review: produto excelente\n",
      "\n",
      "\n",
      "Text Review: produto bom mais veio com um adesivo pegando uma parte da tela muito dificil de remover sem danificar a tela . \n",
      "Original Title Review: bom \n",
      "Predicted Title Review: bom custo benefício\n",
      "\n",
      "\n",
      "Text Review: comprei o jogo dia / achando que era pré-venda , mas era engana cliente . até hoje / o jogo nunca saiu nem para a transportadora , enquanto isso ele já chegou na loja física próximo de casa . vergonha dessa loja que um dia já fui cliente , vergonha de enganar as pessoas com pré-venda falsa . vergonha nunca comprem nada na americanas \n",
      "Original Title Review: nunca mais \n",
      "Predicted Title Review: não recebi o produto\n",
      "\n",
      "\n",
      "Text Review: quero devolução do meu dinheiro não recebi me devolvam meu dinheiro passou do prazo \n",
      "Original Title Review: não foi entregue \n",
      "Predicted Title Review: não recebi o produto\n",
      "\n",
      "\n",
      "Text Review: produto chegou rapido . produto muito útil recomendo este produto e este site . \n",
      "Original Title Review: gostei , muito útil \n",
      "Predicted Title Review: produto muito bom\n",
      "\n",
      "\n",
      "Text Review: comprei dois jogos no mesmo dia , porém só recebi um . o outro já passou do prazo estabelecido e não recebi e nem respondem minhas notificações . gostaria de alguma informação sobre o produto que não recebi \n",
      "Original Title Review: um produto \n",
      "Predicted Title Review: não recebi o produto\n",
      "\n",
      "\n",
      "Text Review: pelo preço e frete gratuito vale a pena , mas não tenha expectativa de recursos dificil conexão , não consegui usar . recursos limitados e controle pobre . mas cumpre o que promete com boa imagem e simplicidade . boa relação custo x benefício . \n",
      "Original Title Review: simples \n",
      "Predicted Title Review: bom custo benefício\n",
      "\n",
      "\n",
      "Text Review: muito bom o produto vou comprar mais as cores são muito bonitas \n",
      "Original Title Review: excelente \n",
      "Predicted Title Review: muito bom\n",
      "\n",
      "\n",
      "Text Review: gostei muito do produto , de excelente qualidade . a americanas . com também realizou entrega dentro do prazo e com segurança . recomendo . \n",
      "Original Title Review: entrega rápida \n",
      "Predicted Title Review: excelente produto\n",
      "\n",
      "\n",
      "Text Review: o produto realmente entregar o que ele porque americana não me disponibiliza o cartão americana ? \n",
      "Original Title Review: excelente \n",
      "Predicted Title Review: não recebi o produto\n",
      "\n",
      "\n",
      "Text Review: mochila feita de um tipo de napa , parece que irá rasgar fácil \n",
      "Original Title Review: material ruim \n",
      "Predicted Title Review: gostei muito do produto\n",
      "\n",
      "\n",
      "Text Review: chegou com a pulseira quebrada e o não funciona muita falta de consideração até agora não entraram em contato comigo para fazer a devolução \n",
      "Original Title Review: pessimo \n",
      "Predicted Title Review: produto com defeito\n",
      "\n",
      "\n",
      "Text Review: prezados . bom dia compro com vcs desde quando as operações on-line e conheço vários dos senhores que trabalham tanto no marketing da lasa quanto nas lojas . este produto é de segunda linha não ficou claro para o consumidor deste detalhe e comprei um produto o qual as baterias não funcionam . não carregam só funcionam com o cabo conectado . péssima compra \n",
      "Original Title Review: produto não é original \n",
      "Predicted Title Review: produto entregue com defeito\n",
      "\n",
      "\n",
      "Text Review: o produto chegou dentro do prazo esperado , porém chegou cheio de imperfeições na superfície . \n",
      "Original Title Review: produto com defeito \n",
      "Predicted Title Review: gostei do produto\n",
      "\n",
      "\n",
      "Text Review: chegou dentro do prazo previsto . em perfeito estado . \n",
      "Original Title Review: gostei bastante do produto \n",
      "Predicted Title Review: gostei\n",
      "\n",
      "\n"
     ]
    }
   ],
   "source": [
    "for i in range(1000, 1100):\n",
    "    print(\"Text Review:\",seq2text(text_test[i]))\n",
    "    print(\"Original Title Review:\", seq2title(title_test[i]))\n",
    "    print(\"Predicted Title Review:\", decode_sequence(text_test[i].reshape(1, TEXT_MAXLEN)))\n",
    "    print(\"\\n\")"
   ]
  },
  {
   "cell_type": "markdown",
   "metadata": {
    "id": "8a1n8Jxm4oh5"
   },
   "source": [
    "# Para gerar um Title review use a função <i>translate</i>"
   ]
  },
  {
   "cell_type": "code",
   "execution_count": null,
   "metadata": {
    "colab": {
     "base_uri": "https://localhost:8080/"
    },
    "id": "e2dzHS7uLt6X",
    "outputId": "f98b57fd-204e-420a-b19f-87d4c219ab71"
   },
   "outputs": [
    {
     "name": "stdout",
     "output_type": "stream",
     "text": [
      "produto de qualidade\n",
      "\n",
      "não gostei\n",
      "\n",
      "não chegou\n",
      "\n"
     ]
    }
   ],
   "source": [
    "sentences = ['Coloque suas frases aqui', 'é ruim', 'não chegou']\n",
    "result = translate(sentences, decode_sequence, text_tokenizer, TEXT_MAXLEN)\n",
    "\n",
    "for title_review in result:\n",
    "    print(title_review + '\\n')"
   ]
  },
  {
   "cell_type": "markdown",
   "metadata": {
    "id": "NvTcxsIuWQGg"
   },
   "source": [
    "# Vamos salvar 200 previsões de sentenças aleatórias para avaliação"
   ]
  },
  {
   "cell_type": "code",
   "execution_count": null,
   "metadata": {
    "colab": {
     "base_uri": "https://localhost:8080/",
     "height": 66,
     "referenced_widgets": [
      "f5a9b2b24c39431bb6886c408b16e732",
      "a777f3687b3d4eec8dc8b894297ae82f",
      "f4bbcece91d34266befc18c85ab94ea0",
      "d7ac90975da74893a736eb6220936760",
      "bfb44bdaf61c4290b27de48a22e52bf5",
      "d8d07685c6d64214ac8a4d1ce7733984",
      "cf85f33218ad4da8a53f506b8fba5472",
      "fe3f1bbdb2664e61ae379b289b4f691c"
     ]
    },
    "id": "YZDOd7QTawrC",
    "outputId": "1c1e0ddf-1a3a-4bde-85d7-f8896e4c2838"
   },
   "outputs": [
    {
     "data": {
      "application/vnd.jupyter.widget-view+json": {
       "model_id": "f5a9b2b24c39431bb6886c408b16e732",
       "version_major": 2,
       "version_minor": 0
      },
      "text/plain": [
       "HBox(children=(FloatProgress(value=0.0, max=200.0), HTML(value='')))"
      ]
     },
     "metadata": {
      "tags": []
     },
     "output_type": "display_data"
    },
    {
     "name": "stdout",
     "output_type": "stream",
     "text": [
      "\n"
     ]
    }
   ],
   "source": [
    "text_test_inf = []\n",
    "titles_pred = []\n",
    "\n",
    "N = 200\n",
    "\n",
    "indexes = [i for i in range(len(title_test))]\n",
    "random_indexes = random.sample(indexes, N)\n",
    "\n",
    "with tqdm(total=len(random_indexes)) as pbar:\n",
    "  for i in random_indexes:\n",
    "    text_test_inf.append(seq2text(text_test[i]))\n",
    "    titles_pred.append(decode_sequence(text_test[i].reshape(1, TEXT_MAXLEN)))\n",
    "    pbar.update(1)\n",
    "\n",
    "text_review = np.array(text_test_inf)\n",
    "pred_title_review = np.array(titles_pred)\n",
    "human_score = [0] * N\n",
    "\n",
    "df = pd.DataFrame({'Text Review' : text_review, \n",
    "                   'Predicted Title Review' : pred_title_review,\n",
    "                   'Human Score': human_score})\n",
    "                  \n",
    "df.to_csv('bilstm_human_review.csv', index=False)"
   ]
  },
  {
   "cell_type": "code",
   "execution_count": null,
   "metadata": {
    "id": "EAUTMVZ4Xaxz"
   },
   "outputs": [],
   "source": []
  }
 ],
 "metadata": {
  "accelerator": "GPU",
  "colab": {
   "collapsed_sections": [],
   "name": "nn_bilstm.ipynb",
   "provenance": []
  },
  "kernelspec": {
   "display_name": "Python 3",
   "language": "python",
   "name": "python3"
  },
  "language_info": {
   "codemirror_mode": {
    "name": "ipython",
    "version": 3
   },
   "file_extension": ".py",
   "mimetype": "text/x-python",
   "name": "python",
   "nbconvert_exporter": "python",
   "pygments_lexer": "ipython3",
   "version": "3.6.9"
  },
  "widgets": {
   "application/vnd.jupyter.widget-state+json": {
    "0e3ff82ddc324ad3bfe66908d4431c65": {
     "model_module": "@jupyter-widgets/base",
     "model_name": "LayoutModel",
     "state": {
      "_model_module": "@jupyter-widgets/base",
      "_model_module_version": "1.2.0",
      "_model_name": "LayoutModel",
      "_view_count": null,
      "_view_module": "@jupyter-widgets/base",
      "_view_module_version": "1.2.0",
      "_view_name": "LayoutView",
      "align_content": null,
      "align_items": null,
      "align_self": null,
      "border": null,
      "bottom": null,
      "display": null,
      "flex": null,
      "flex_flow": null,
      "grid_area": null,
      "grid_auto_columns": null,
      "grid_auto_flow": null,
      "grid_auto_rows": null,
      "grid_column": null,
      "grid_gap": null,
      "grid_row": null,
      "grid_template_areas": null,
      "grid_template_columns": null,
      "grid_template_rows": null,
      "height": null,
      "justify_content": null,
      "justify_items": null,
      "left": null,
      "margin": null,
      "max_height": null,
      "max_width": null,
      "min_height": null,
      "min_width": null,
      "object_fit": null,
      "object_position": null,
      "order": null,
      "overflow": null,
      "overflow_x": null,
      "overflow_y": null,
      "padding": null,
      "right": null,
      "top": null,
      "visibility": null,
      "width": null
     }
    },
    "1d32b61d07d8415cbdaa54c0829599fa": {
     "model_module": "@jupyter-widgets/controls",
     "model_name": "DescriptionStyleModel",
     "state": {
      "_model_module": "@jupyter-widgets/controls",
      "_model_module_version": "1.5.0",
      "_model_name": "DescriptionStyleModel",
      "_view_count": null,
      "_view_module": "@jupyter-widgets/base",
      "_view_module_version": "1.2.0",
      "_view_name": "StyleView",
      "description_width": ""
     }
    },
    "22a5aef00ffd4906af470018a8d24d19": {
     "model_module": "@jupyter-widgets/controls",
     "model_name": "FloatProgressModel",
     "state": {
      "_dom_classes": [],
      "_model_module": "@jupyter-widgets/controls",
      "_model_module_version": "1.5.0",
      "_model_name": "FloatProgressModel",
      "_view_count": null,
      "_view_module": "@jupyter-widgets/controls",
      "_view_module_version": "1.5.0",
      "_view_name": "ProgressView",
      "bar_style": "success",
      "description": "100%",
      "description_tooltip": null,
      "layout": "IPY_MODEL_9979b1988a9a427a964eadf2d36f7c43",
      "max": 12918,
      "min": 0,
      "orientation": "horizontal",
      "style": "IPY_MODEL_9cf1f563c5b540e9b78657344b21ceae",
      "value": 12918
     }
    },
    "3fa851572a3c4d8fb4d63c08886b4dc7": {
     "model_module": "@jupyter-widgets/base",
     "model_name": "LayoutModel",
     "state": {
      "_model_module": "@jupyter-widgets/base",
      "_model_module_version": "1.2.0",
      "_model_name": "LayoutModel",
      "_view_count": null,
      "_view_module": "@jupyter-widgets/base",
      "_view_module_version": "1.2.0",
      "_view_name": "LayoutView",
      "align_content": null,
      "align_items": null,
      "align_self": null,
      "border": null,
      "bottom": null,
      "display": null,
      "flex": null,
      "flex_flow": null,
      "grid_area": null,
      "grid_auto_columns": null,
      "grid_auto_flow": null,
      "grid_auto_rows": null,
      "grid_column": null,
      "grid_gap": null,
      "grid_row": null,
      "grid_template_areas": null,
      "grid_template_columns": null,
      "grid_template_rows": null,
      "height": null,
      "justify_content": null,
      "justify_items": null,
      "left": null,
      "margin": null,
      "max_height": null,
      "max_width": null,
      "min_height": null,
      "min_width": null,
      "object_fit": null,
      "object_position": null,
      "order": null,
      "overflow": null,
      "overflow_x": null,
      "overflow_y": null,
      "padding": null,
      "right": null,
      "top": null,
      "visibility": null,
      "width": null
     }
    },
    "668eb9f262e24e55ae9d5bfce1a247e8": {
     "model_module": "@jupyter-widgets/base",
     "model_name": "LayoutModel",
     "state": {
      "_model_module": "@jupyter-widgets/base",
      "_model_module_version": "1.2.0",
      "_model_name": "LayoutModel",
      "_view_count": null,
      "_view_module": "@jupyter-widgets/base",
      "_view_module_version": "1.2.0",
      "_view_name": "LayoutView",
      "align_content": null,
      "align_items": null,
      "align_self": null,
      "border": null,
      "bottom": null,
      "display": null,
      "flex": null,
      "flex_flow": null,
      "grid_area": null,
      "grid_auto_columns": null,
      "grid_auto_flow": null,
      "grid_auto_rows": null,
      "grid_column": null,
      "grid_gap": null,
      "grid_row": null,
      "grid_template_areas": null,
      "grid_template_columns": null,
      "grid_template_rows": null,
      "height": null,
      "justify_content": null,
      "justify_items": null,
      "left": null,
      "margin": null,
      "max_height": null,
      "max_width": null,
      "min_height": null,
      "min_width": null,
      "object_fit": null,
      "object_position": null,
      "order": null,
      "overflow": null,
      "overflow_x": null,
      "overflow_y": null,
      "padding": null,
      "right": null,
      "top": null,
      "visibility": null,
      "width": null
     }
    },
    "84045fcae814400c818cd4432871978b": {
     "model_module": "@jupyter-widgets/controls",
     "model_name": "HTMLModel",
     "state": {
      "_dom_classes": [],
      "_model_module": "@jupyter-widgets/controls",
      "_model_module_version": "1.5.0",
      "_model_name": "HTMLModel",
      "_view_count": null,
      "_view_module": "@jupyter-widgets/controls",
      "_view_module_version": "1.5.0",
      "_view_name": "HTMLView",
      "description": "",
      "description_tooltip": null,
      "layout": "IPY_MODEL_3fa851572a3c4d8fb4d63c08886b4dc7",
      "placeholder": "​",
      "style": "IPY_MODEL_a2920799412e413aaf1991c66a249a7f",
      "value": " 12918/12918 [36:32&lt;00:00,  5.89it/s]"
     }
    },
    "93abbda760ca4b80a376a03fcd1c8d95": {
     "model_module": "@jupyter-widgets/controls",
     "model_name": "FloatProgressModel",
     "state": {
      "_dom_classes": [],
      "_model_module": "@jupyter-widgets/controls",
      "_model_module_version": "1.5.0",
      "_model_name": "FloatProgressModel",
      "_view_count": null,
      "_view_module": "@jupyter-widgets/controls",
      "_view_module_version": "1.5.0",
      "_view_name": "ProgressView",
      "bar_style": "success",
      "description": "100%",
      "description_tooltip": null,
      "layout": "IPY_MODEL_9f8881bcb85045ba82923ff5b9853c6f",
      "max": 12918,
      "min": 0,
      "orientation": "horizontal",
      "style": "IPY_MODEL_e93e4f89dc0545f390a1ddc679d4c541",
      "value": 12918
     }
    },
    "9979b1988a9a427a964eadf2d36f7c43": {
     "model_module": "@jupyter-widgets/base",
     "model_name": "LayoutModel",
     "state": {
      "_model_module": "@jupyter-widgets/base",
      "_model_module_version": "1.2.0",
      "_model_name": "LayoutModel",
      "_view_count": null,
      "_view_module": "@jupyter-widgets/base",
      "_view_module_version": "1.2.0",
      "_view_name": "LayoutView",
      "align_content": null,
      "align_items": null,
      "align_self": null,
      "border": null,
      "bottom": null,
      "display": null,
      "flex": null,
      "flex_flow": null,
      "grid_area": null,
      "grid_auto_columns": null,
      "grid_auto_flow": null,
      "grid_auto_rows": null,
      "grid_column": null,
      "grid_gap": null,
      "grid_row": null,
      "grid_template_areas": null,
      "grid_template_columns": null,
      "grid_template_rows": null,
      "height": null,
      "justify_content": null,
      "justify_items": null,
      "left": null,
      "margin": null,
      "max_height": null,
      "max_width": null,
      "min_height": null,
      "min_width": null,
      "object_fit": null,
      "object_position": null,
      "order": null,
      "overflow": null,
      "overflow_x": null,
      "overflow_y": null,
      "padding": null,
      "right": null,
      "top": null,
      "visibility": null,
      "width": null
     }
    },
    "9b12f5a7d76b4b9f8e85d474d6af83fa": {
     "model_module": "@jupyter-widgets/controls",
     "model_name": "HBoxModel",
     "state": {
      "_dom_classes": [],
      "_model_module": "@jupyter-widgets/controls",
      "_model_module_version": "1.5.0",
      "_model_name": "HBoxModel",
      "_view_count": null,
      "_view_module": "@jupyter-widgets/controls",
      "_view_module_version": "1.5.0",
      "_view_name": "HBoxView",
      "box_style": "",
      "children": [
       "IPY_MODEL_22a5aef00ffd4906af470018a8d24d19",
       "IPY_MODEL_b232cca5197a4c76bdd33e87aef0cbcc"
      ],
      "layout": "IPY_MODEL_0e3ff82ddc324ad3bfe66908d4431c65"
     }
    },
    "9cf1f563c5b540e9b78657344b21ceae": {
     "model_module": "@jupyter-widgets/controls",
     "model_name": "ProgressStyleModel",
     "state": {
      "_model_module": "@jupyter-widgets/controls",
      "_model_module_version": "1.5.0",
      "_model_name": "ProgressStyleModel",
      "_view_count": null,
      "_view_module": "@jupyter-widgets/base",
      "_view_module_version": "1.2.0",
      "_view_name": "StyleView",
      "bar_color": null,
      "description_width": "initial"
     }
    },
    "9f8881bcb85045ba82923ff5b9853c6f": {
     "model_module": "@jupyter-widgets/base",
     "model_name": "LayoutModel",
     "state": {
      "_model_module": "@jupyter-widgets/base",
      "_model_module_version": "1.2.0",
      "_model_name": "LayoutModel",
      "_view_count": null,
      "_view_module": "@jupyter-widgets/base",
      "_view_module_version": "1.2.0",
      "_view_name": "LayoutView",
      "align_content": null,
      "align_items": null,
      "align_self": null,
      "border": null,
      "bottom": null,
      "display": null,
      "flex": null,
      "flex_flow": null,
      "grid_area": null,
      "grid_auto_columns": null,
      "grid_auto_flow": null,
      "grid_auto_rows": null,
      "grid_column": null,
      "grid_gap": null,
      "grid_row": null,
      "grid_template_areas": null,
      "grid_template_columns": null,
      "grid_template_rows": null,
      "height": null,
      "justify_content": null,
      "justify_items": null,
      "left": null,
      "margin": null,
      "max_height": null,
      "max_width": null,
      "min_height": null,
      "min_width": null,
      "object_fit": null,
      "object_position": null,
      "order": null,
      "overflow": null,
      "overflow_x": null,
      "overflow_y": null,
      "padding": null,
      "right": null,
      "top": null,
      "visibility": null,
      "width": null
     }
    },
    "a2920799412e413aaf1991c66a249a7f": {
     "model_module": "@jupyter-widgets/controls",
     "model_name": "DescriptionStyleModel",
     "state": {
      "_model_module": "@jupyter-widgets/controls",
      "_model_module_version": "1.5.0",
      "_model_name": "DescriptionStyleModel",
      "_view_count": null,
      "_view_module": "@jupyter-widgets/base",
      "_view_module_version": "1.2.0",
      "_view_name": "StyleView",
      "description_width": ""
     }
    },
    "a777f3687b3d4eec8dc8b894297ae82f": {
     "model_module": "@jupyter-widgets/base",
     "model_name": "LayoutModel",
     "state": {
      "_model_module": "@jupyter-widgets/base",
      "_model_module_version": "1.2.0",
      "_model_name": "LayoutModel",
      "_view_count": null,
      "_view_module": "@jupyter-widgets/base",
      "_view_module_version": "1.2.0",
      "_view_name": "LayoutView",
      "align_content": null,
      "align_items": null,
      "align_self": null,
      "border": null,
      "bottom": null,
      "display": null,
      "flex": null,
      "flex_flow": null,
      "grid_area": null,
      "grid_auto_columns": null,
      "grid_auto_flow": null,
      "grid_auto_rows": null,
      "grid_column": null,
      "grid_gap": null,
      "grid_row": null,
      "grid_template_areas": null,
      "grid_template_columns": null,
      "grid_template_rows": null,
      "height": null,
      "justify_content": null,
      "justify_items": null,
      "left": null,
      "margin": null,
      "max_height": null,
      "max_width": null,
      "min_height": null,
      "min_width": null,
      "object_fit": null,
      "object_position": null,
      "order": null,
      "overflow": null,
      "overflow_x": null,
      "overflow_y": null,
      "padding": null,
      "right": null,
      "top": null,
      "visibility": null,
      "width": null
     }
    },
    "b193e3a66b1b41cfa34d00336727b497": {
     "model_module": "@jupyter-widgets/base",
     "model_name": "LayoutModel",
     "state": {
      "_model_module": "@jupyter-widgets/base",
      "_model_module_version": "1.2.0",
      "_model_name": "LayoutModel",
      "_view_count": null,
      "_view_module": "@jupyter-widgets/base",
      "_view_module_version": "1.2.0",
      "_view_name": "LayoutView",
      "align_content": null,
      "align_items": null,
      "align_self": null,
      "border": null,
      "bottom": null,
      "display": null,
      "flex": null,
      "flex_flow": null,
      "grid_area": null,
      "grid_auto_columns": null,
      "grid_auto_flow": null,
      "grid_auto_rows": null,
      "grid_column": null,
      "grid_gap": null,
      "grid_row": null,
      "grid_template_areas": null,
      "grid_template_columns": null,
      "grid_template_rows": null,
      "height": null,
      "justify_content": null,
      "justify_items": null,
      "left": null,
      "margin": null,
      "max_height": null,
      "max_width": null,
      "min_height": null,
      "min_width": null,
      "object_fit": null,
      "object_position": null,
      "order": null,
      "overflow": null,
      "overflow_x": null,
      "overflow_y": null,
      "padding": null,
      "right": null,
      "top": null,
      "visibility": null,
      "width": null
     }
    },
    "b232cca5197a4c76bdd33e87aef0cbcc": {
     "model_module": "@jupyter-widgets/controls",
     "model_name": "HTMLModel",
     "state": {
      "_dom_classes": [],
      "_model_module": "@jupyter-widgets/controls",
      "_model_module_version": "1.5.0",
      "_model_name": "HTMLModel",
      "_view_count": null,
      "_view_module": "@jupyter-widgets/controls",
      "_view_module_version": "1.5.0",
      "_view_name": "HTMLView",
      "description": "",
      "description_tooltip": null,
      "layout": "IPY_MODEL_668eb9f262e24e55ae9d5bfce1a247e8",
      "placeholder": "​",
      "style": "IPY_MODEL_1d32b61d07d8415cbdaa54c0829599fa",
      "value": " 12918/12918 [36:24&lt;00:00,  5.91it/s]"
     }
    },
    "bfb44bdaf61c4290b27de48a22e52bf5": {
     "model_module": "@jupyter-widgets/controls",
     "model_name": "ProgressStyleModel",
     "state": {
      "_model_module": "@jupyter-widgets/controls",
      "_model_module_version": "1.5.0",
      "_model_name": "ProgressStyleModel",
      "_view_count": null,
      "_view_module": "@jupyter-widgets/base",
      "_view_module_version": "1.2.0",
      "_view_name": "StyleView",
      "bar_color": null,
      "description_width": "initial"
     }
    },
    "cf85f33218ad4da8a53f506b8fba5472": {
     "model_module": "@jupyter-widgets/controls",
     "model_name": "DescriptionStyleModel",
     "state": {
      "_model_module": "@jupyter-widgets/controls",
      "_model_module_version": "1.5.0",
      "_model_name": "DescriptionStyleModel",
      "_view_count": null,
      "_view_module": "@jupyter-widgets/base",
      "_view_module_version": "1.2.0",
      "_view_name": "StyleView",
      "description_width": ""
     }
    },
    "d7ac90975da74893a736eb6220936760": {
     "model_module": "@jupyter-widgets/controls",
     "model_name": "HTMLModel",
     "state": {
      "_dom_classes": [],
      "_model_module": "@jupyter-widgets/controls",
      "_model_module_version": "1.5.0",
      "_model_name": "HTMLModel",
      "_view_count": null,
      "_view_module": "@jupyter-widgets/controls",
      "_view_module_version": "1.5.0",
      "_view_name": "HTMLView",
      "description": "",
      "description_tooltip": null,
      "layout": "IPY_MODEL_fe3f1bbdb2664e61ae379b289b4f691c",
      "placeholder": "​",
      "style": "IPY_MODEL_cf85f33218ad4da8a53f506b8fba5472",
      "value": " 200/200 [00:34&lt;00:00,  5.86it/s]"
     }
    },
    "d8d07685c6d64214ac8a4d1ce7733984": {
     "model_module": "@jupyter-widgets/base",
     "model_name": "LayoutModel",
     "state": {
      "_model_module": "@jupyter-widgets/base",
      "_model_module_version": "1.2.0",
      "_model_name": "LayoutModel",
      "_view_count": null,
      "_view_module": "@jupyter-widgets/base",
      "_view_module_version": "1.2.0",
      "_view_name": "LayoutView",
      "align_content": null,
      "align_items": null,
      "align_self": null,
      "border": null,
      "bottom": null,
      "display": null,
      "flex": null,
      "flex_flow": null,
      "grid_area": null,
      "grid_auto_columns": null,
      "grid_auto_flow": null,
      "grid_auto_rows": null,
      "grid_column": null,
      "grid_gap": null,
      "grid_row": null,
      "grid_template_areas": null,
      "grid_template_columns": null,
      "grid_template_rows": null,
      "height": null,
      "justify_content": null,
      "justify_items": null,
      "left": null,
      "margin": null,
      "max_height": null,
      "max_width": null,
      "min_height": null,
      "min_width": null,
      "object_fit": null,
      "object_position": null,
      "order": null,
      "overflow": null,
      "overflow_x": null,
      "overflow_y": null,
      "padding": null,
      "right": null,
      "top": null,
      "visibility": null,
      "width": null
     }
    },
    "e4dedd72b407400385e279379e613cdb": {
     "model_module": "@jupyter-widgets/controls",
     "model_name": "HBoxModel",
     "state": {
      "_dom_classes": [],
      "_model_module": "@jupyter-widgets/controls",
      "_model_module_version": "1.5.0",
      "_model_name": "HBoxModel",
      "_view_count": null,
      "_view_module": "@jupyter-widgets/controls",
      "_view_module_version": "1.5.0",
      "_view_name": "HBoxView",
      "box_style": "",
      "children": [
       "IPY_MODEL_93abbda760ca4b80a376a03fcd1c8d95",
       "IPY_MODEL_84045fcae814400c818cd4432871978b"
      ],
      "layout": "IPY_MODEL_b193e3a66b1b41cfa34d00336727b497"
     }
    },
    "e93e4f89dc0545f390a1ddc679d4c541": {
     "model_module": "@jupyter-widgets/controls",
     "model_name": "ProgressStyleModel",
     "state": {
      "_model_module": "@jupyter-widgets/controls",
      "_model_module_version": "1.5.0",
      "_model_name": "ProgressStyleModel",
      "_view_count": null,
      "_view_module": "@jupyter-widgets/base",
      "_view_module_version": "1.2.0",
      "_view_name": "StyleView",
      "bar_color": null,
      "description_width": "initial"
     }
    },
    "f4bbcece91d34266befc18c85ab94ea0": {
     "model_module": "@jupyter-widgets/controls",
     "model_name": "FloatProgressModel",
     "state": {
      "_dom_classes": [],
      "_model_module": "@jupyter-widgets/controls",
      "_model_module_version": "1.5.0",
      "_model_name": "FloatProgressModel",
      "_view_count": null,
      "_view_module": "@jupyter-widgets/controls",
      "_view_module_version": "1.5.0",
      "_view_name": "ProgressView",
      "bar_style": "success",
      "description": "100%",
      "description_tooltip": null,
      "layout": "IPY_MODEL_d8d07685c6d64214ac8a4d1ce7733984",
      "max": 200,
      "min": 0,
      "orientation": "horizontal",
      "style": "IPY_MODEL_bfb44bdaf61c4290b27de48a22e52bf5",
      "value": 200
     }
    },
    "f5a9b2b24c39431bb6886c408b16e732": {
     "model_module": "@jupyter-widgets/controls",
     "model_name": "HBoxModel",
     "state": {
      "_dom_classes": [],
      "_model_module": "@jupyter-widgets/controls",
      "_model_module_version": "1.5.0",
      "_model_name": "HBoxModel",
      "_view_count": null,
      "_view_module": "@jupyter-widgets/controls",
      "_view_module_version": "1.5.0",
      "_view_name": "HBoxView",
      "box_style": "",
      "children": [
       "IPY_MODEL_f4bbcece91d34266befc18c85ab94ea0",
       "IPY_MODEL_d7ac90975da74893a736eb6220936760"
      ],
      "layout": "IPY_MODEL_a777f3687b3d4eec8dc8b894297ae82f"
     }
    },
    "fe3f1bbdb2664e61ae379b289b4f691c": {
     "model_module": "@jupyter-widgets/base",
     "model_name": "LayoutModel",
     "state": {
      "_model_module": "@jupyter-widgets/base",
      "_model_module_version": "1.2.0",
      "_model_name": "LayoutModel",
      "_view_count": null,
      "_view_module": "@jupyter-widgets/base",
      "_view_module_version": "1.2.0",
      "_view_name": "LayoutView",
      "align_content": null,
      "align_items": null,
      "align_self": null,
      "border": null,
      "bottom": null,
      "display": null,
      "flex": null,
      "flex_flow": null,
      "grid_area": null,
      "grid_auto_columns": null,
      "grid_auto_flow": null,
      "grid_auto_rows": null,
      "grid_column": null,
      "grid_gap": null,
      "grid_row": null,
      "grid_template_areas": null,
      "grid_template_columns": null,
      "grid_template_rows": null,
      "height": null,
      "justify_content": null,
      "justify_items": null,
      "left": null,
      "margin": null,
      "max_height": null,
      "max_width": null,
      "min_height": null,
      "min_width": null,
      "object_fit": null,
      "object_position": null,
      "order": null,
      "overflow": null,
      "overflow_x": null,
      "overflow_y": null,
      "padding": null,
      "right": null,
      "top": null,
      "visibility": null,
      "width": null
     }
    }
   }
  }
 },
 "nbformat": 4,
 "nbformat_minor": 1
}
