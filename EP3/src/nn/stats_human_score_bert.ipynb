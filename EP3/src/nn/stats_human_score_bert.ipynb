{
 "cells": [
  {
   "cell_type": "code",
   "execution_count": 1,
   "metadata": {},
   "outputs": [],
   "source": [
    "import pandas as pd\n",
    "import numpy as np\n",
    "import matplotlib.pyplot as plt\n",
    "import seaborn as sns"
   ]
  },
  {
   "cell_type": "code",
   "execution_count": 2,
   "metadata": {},
   "outputs": [],
   "source": [
    "sns.set_theme()\n",
    "path = '/home/felipe/Dropbox/USP/MAC5725/EP3/src/data/bert_human_review_2 - bert_human_review_2.csv'\n",
    "data = pd.read_csv(path)"
   ]
  },
  {
   "cell_type": "code",
   "execution_count": 3,
   "metadata": {},
   "outputs": [
    {
     "data": {
      "text/html": [
       "<div>\n",
       "<style scoped>\n",
       "    .dataframe tbody tr th:only-of-type {\n",
       "        vertical-align: middle;\n",
       "    }\n",
       "\n",
       "    .dataframe tbody tr th {\n",
       "        vertical-align: top;\n",
       "    }\n",
       "\n",
       "    .dataframe thead th {\n",
       "        text-align: right;\n",
       "    }\n",
       "</style>\n",
       "<table border=\"1\" class=\"dataframe\">\n",
       "  <thead>\n",
       "    <tr style=\"text-align: right;\">\n",
       "      <th></th>\n",
       "      <th>Text Review</th>\n",
       "      <th>Predicted Title Review</th>\n",
       "      <th>Human Score</th>\n",
       "    </tr>\n",
       "  </thead>\n",
       "  <tbody>\n",
       "    <tr>\n",
       "      <th>0</th>\n",
       "      <td>produto de má qualidade na hora de ralar solta...</td>\n",
       "      <td>produto de má qualidade</td>\n",
       "      <td>1.0</td>\n",
       "    </tr>\n",
       "    <tr>\n",
       "      <th>1</th>\n",
       "      <td>meu produto veio com uma peça quebrada e no si...</td>\n",
       "      <td>produto veio quebrado</td>\n",
       "      <td>1.0</td>\n",
       "    </tr>\n",
       "    <tr>\n",
       "      <th>2</th>\n",
       "      <td>produto bem acabado baita de camera fontal e t...</td>\n",
       "      <td>produto bom</td>\n",
       "      <td>1.0</td>\n",
       "    </tr>\n",
       "    <tr>\n",
       "      <th>3</th>\n",
       "      <td>recomendo a todos termômetro muito bom , esse ...</td>\n",
       "      <td>excelente</td>\n",
       "      <td>1.0</td>\n",
       "    </tr>\n",
       "    <tr>\n",
       "      <th>4</th>\n",
       "      <td>gostei do produto muito bom recomendo o produt...</td>\n",
       "      <td>gos ##te muito do</td>\n",
       "      <td>1.0</td>\n",
       "    </tr>\n",
       "  </tbody>\n",
       "</table>\n",
       "</div>"
      ],
      "text/plain": [
       "                                         Text Review   Predicted Title Review  \\\n",
       "0  produto de má qualidade na hora de ralar solta...  produto de má qualidade   \n",
       "1  meu produto veio com uma peça quebrada e no si...    produto veio quebrado   \n",
       "2  produto bem acabado baita de camera fontal e t...              produto bom   \n",
       "3  recomendo a todos termômetro muito bom , esse ...                excelente   \n",
       "4  gostei do produto muito bom recomendo o produt...        gos ##te muito do   \n",
       "\n",
       "   Human Score  \n",
       "0          1.0  \n",
       "1          1.0  \n",
       "2          1.0  \n",
       "3          1.0  \n",
       "4          1.0  "
      ]
     },
     "execution_count": 3,
     "metadata": {},
     "output_type": "execute_result"
    }
   ],
   "source": [
    "data.head()"
   ]
  },
  {
   "cell_type": "code",
   "execution_count": 4,
   "metadata": {},
   "outputs": [],
   "source": [
    "scores = data['Human Score'].values"
   ]
  },
  {
   "cell_type": "markdown",
   "metadata": {},
   "source": [
    "# Tendência central e dispersão"
   ]
  },
  {
   "cell_type": "code",
   "execution_count": 5,
   "metadata": {
    "scrolled": true
   },
   "outputs": [
    {
     "name": "stdout",
     "output_type": "stream",
     "text": [
      "Estatísticas Avaliação Humana Títulos gerados  200 sentenças\n",
      "\n",
      "Min: 0.0 \n",
      "\n",
      "Média: 0.8475 \n",
      "\n",
      "Max: 1.0 \n",
      "\n",
      "Desvio Padrão: 0.3248 \n",
      "\n",
      "Variância: 0.1055 \n",
      "\n",
      "Coeficiente de Variação: 38.3242 \n",
      "\n",
      "\n"
     ]
    }
   ],
   "source": [
    "print(\"Estatísticas Avaliação Humana Títulos gerados \", len(scores), \"sentenças\")\n",
    "print()\n",
    "print(\"Min:\", round(np.min(scores), 4), '\\n')\n",
    "print(\"Média:\", round(np.mean(scores),4), '\\n')\n",
    "print(\"Max:\", round(np.max(scores), 4), '\\n')\n",
    "print(\"Desvio Padrão:\", round(np.std(scores), 4), '\\n')\n",
    "print(\"Variância:\", round(np.var(scores), 4), '\\n')\n",
    "print(\"Coeficiente de Variação:\", round(np.std(scores)/np.mean(scores) * 100, 4), '\\n')\n",
    "print()"
   ]
  },
  {
   "cell_type": "markdown",
   "metadata": {},
   "source": [
    "# Contagem e porcentagem"
   ]
  },
  {
   "cell_type": "code",
   "execution_count": 6,
   "metadata": {},
   "outputs": [
    {
     "data": {
      "text/plain": [
       "Counter({1.0: 160, 0.5: 19, 0.0: 21})"
      ]
     },
     "execution_count": 6,
     "metadata": {},
     "output_type": "execute_result"
    }
   ],
   "source": [
    "from collections import Counter\n",
    "\n",
    "count = Counter(data['Human Score'].values)\n",
    "count"
   ]
  },
  {
   "cell_type": "markdown",
   "metadata": {},
   "source": [
    "# Gráfico da distribuição"
   ]
  },
  {
   "cell_type": "code",
   "execution_count": 7,
   "metadata": {},
   "outputs": [
    {
     "data": {
      "image/png": "[encoded data removed]",
      "text/plain": [
       "<Figure size 1080x360 with 1 Axes>"
      ]
     },
     "metadata": {},
     "output_type": "display_data"
    }
   ],
   "source": [
    "fig = plt.figure(figsize = (15,5))\n",
    "ax = fig.gca()\n",
    "a = sns.countplot(x='Human Score', data=data, ax=ax)\n",
    "\n",
    "a.set(xlabel='', ylabel='')\n",
    "\n",
    "plt.suptitle('Distribuição dos Scores - Avaliação humana', x=0.5, y=1.05, ha='center', fontsize='xx-large')\n",
    "fig.text(0.5, 0.04, 'Score', ha='center')\n",
    "fig.text(0.04, 0.5, 'Frequência', va='center', rotation='vertical')\n",
    "plt.show()"
   ]
  },
  {
   "cell_type": "code",
   "execution_count": 8,
   "metadata": {},
   "outputs": [],
   "source": [
    "texto = ['ótimo produto e a entrega muito antes do prazo estipulado.',\n",
    "         'excelente produto, chegando antes do prazo previsto. superindico',\n",
    "         'não posso avaliar um produto que comprei a mais de trinta dias e ainda não foi entregue',\n",
    "         'algumas peças vieram riscadas, e vieram faltando porcas. fora o atraso.',\n",
    "         'acabou as chamadas indesejaveis, com pertubação de a ligações por dia.',\n",
    "         'não recebi ainda não recebi ainda não recebi ainda',\n",
    "         'o produto é de boa qualidade. fui muito bem atendido.']\n",
    "\n",
    "titulo = ['ótimo produto',\n",
    "          'entrega antes do prazo previsto',\n",
    "          'onde está o produto?',\n",
    "          'peças vieram riscadas e faltando peças',\n",
    "          'gostei do produto',\n",
    "          'não recebi ainda',\n",
    "          'gostei do produto']\n",
    "\n",
    "previsto = ['ótimo produto',\n",
    "            'excelente',\n",
    "            'não posso avaliar',\n",
    "            'produto com defeito',\n",
    "            'péssimo',\n",
    "            'não recebi ainda',\n",
    "            'gos gos muito bom']"
   ]
  },
  {
   "cell_type": "code",
   "execution_count": 9,
   "metadata": {},
   "outputs": [
    {
     "name": "stdout",
     "output_type": "stream",
     "text": [
      "[ 1 ] Text Review: ótimo produto e a entrega muito antes do prazo estipulado.\n",
      "Title Review: ótimo produto\n",
      "Previsto: ótimo produto\n",
      "\n",
      "[ 2 ] Text Review: excelente produto, chegando antes do prazo previsto. superindico\n",
      "Title Review: entrega antes do prazo previsto\n",
      "Previsto: excelente\n",
      "\n",
      "[ 3 ] Text Review: não posso avaliar um produto que comprei a mais de trinta dias e ainda não foi entregue\n",
      "Title Review: onde está o produto?\n",
      "Previsto: não posso avaliar\n",
      "\n",
      "[ 4 ] Text Review: algumas peças vieram riscadas, e vieram faltando porcas. fora o atraso.\n",
      "Title Review: peças vieram riscadas e faltando peças\n",
      "Previsto: produto com defeito\n",
      "\n",
      "[ 5 ] Text Review: acabou as chamadas indesejaveis, com pertubação de a ligações por dia.\n",
      "Title Review: gostei do produto\n",
      "Previsto: péssimo\n",
      "\n",
      "[ 6 ] Text Review: não recebi ainda não recebi ainda não recebi ainda\n",
      "Title Review: não recebi ainda\n",
      "Previsto: não recebi ainda\n",
      "\n",
      "[ 7 ] Text Review: o produto é de boa qualidade. fui muito bem atendido.\n",
      "Title Review: gostei do produto\n",
      "Previsto: gos gos muito bom\n",
      "\n"
     ]
    }
   ],
   "source": [
    "for i in range(len(texto)):\n",
    "    print('[', i+1,']', 'Text Review:',  texto[i])\n",
    "    print('Title Review:',  titulo[i])\n",
    "    print('Previsto:', previsto[i])\n",
    "    print()"
   ]
  },
  {
   "cell_type": "code",
   "execution_count": null,
   "metadata": {},
   "outputs": [],
   "source": []
  }
 ],
 "metadata": {
  "kernelspec": {
   "display_name": "Python 3",
   "language": "python",
   "name": "python3"
  },
  "language_info": {
   "codemirror_mode": {
    "name": "ipython",
    "version": 3
   },
   "file_extension": ".py",
   "mimetype": "text/x-python",
   "name": "python",
   "nbconvert_exporter": "python",
   "pygments_lexer": "ipython3",
   "version": "3.6.9"
  }
 },
 "nbformat": 4,
 "nbformat_minor": 2
}
