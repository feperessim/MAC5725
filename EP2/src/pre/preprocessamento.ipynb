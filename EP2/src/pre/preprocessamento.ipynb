{
 "cells": [
  {
   "cell_type": "code",
   "execution_count": 1,
   "metadata": {},
   "outputs": [],
   "source": [
    "import pandas as pd\n",
    "import numpy as np\n",
    "import spacy\n",
    "import string\n",
    "import re\n",
    "\n",
    "from sklearn.model_selection import train_test_split"
   ]
  },
  {
   "cell_type": "code",
   "execution_count": 2,
   "metadata": {},
   "outputs": [],
   "source": [
    "# Carrega a língua portuguesa no Spacy\n",
    "# python -m spacy download pt\n",
    "spacyPT = spacy.load('pt', disable = [\"tagger\", \"parser\", \"ner\"])\n",
    "# stopwords = spacyPT.Defaults.stop_words\n",
    "SEQUENCE_MAXLEN = 50"
   ]
  },
  {
   "cell_type": "code",
   "execution_count": 3,
   "metadata": {},
   "outputs": [],
   "source": [
    "# Reading the Dataset\n",
    "b2wCorpus = pd.read_csv(\"../data/B2W-Reviews01.csv\", sep=';', usecols=[\"review_text\", \"overall_rating\"])"
   ]
  },
  {
   "cell_type": "code",
   "execution_count": 4,
   "metadata": {},
   "outputs": [],
   "source": [
    "def filtro(data, column, keep):\n",
    "    '''\n",
    "    Input:\n",
    "        data - A pandas dataframe\n",
    "        keep - A list with values to keep\n",
    "        column - A string with the name of column to filter\n",
    "    Output:\n",
    "        clean - Dataset with only keep values in the column\n",
    "    '''\n",
    "    return data[data[column].isin(keep)]"
   ]
  },
  {
   "cell_type": "code",
   "execution_count": 5,
   "metadata": {},
   "outputs": [],
   "source": [
    "def preprocess_sentence(sentence):\n",
    "    '''\n",
    "    Normalize preprocess a sequence of words\n",
    "    in a sentence. \n",
    "    This function removes trailing and\n",
    "    leading spaces; it lowercase each word;\n",
    "    removes stop words; punctuations; and symbols;\n",
    "    In the final step we lemmatize each word.\n",
    "    Input:\n",
    "        sentence - a string\n",
    "        lowercase - boolean\n",
    "    Output:\n",
    "        a string of preprocessed text\n",
    "    '''\n",
    "    sentence = sentence.lower().strip()\n",
    "    sentence = sentence.translate(str.maketrans(string.punctuation, ' ' * len(string.punctuation)))\n",
    "    sentence = sentence.translate(str.maketrans('', '', string.digits))\n",
    "    sentence = ' '.join([re.sub(r'(.)\\1+', r'\\1', word) for word in sentence.split() if len(word) < 15])\n",
    "    sentence = spacyPT(sentence)\n",
    "    lemmatized = list()\n",
    "    for word in sentence:\n",
    "        lemma = word.lemma_\n",
    "        if lemma:\n",
    "            lemmatized.append(lemma)\n",
    "    return \" \".join(lemmatized)"
   ]
  },
  {
   "cell_type": "code",
   "execution_count": 6,
   "metadata": {},
   "outputs": [],
   "source": [
    "def partilha(data_in, data_out, val_size, test_size, seed=29):\n",
    "    '''\n",
    "    Input:\n",
    "        data_in - Path of input csv - filename included\n",
    "        data_out - Path of output csv\n",
    "        val_size - proportion of validation set to splitting\n",
    "        test_size - proportion of test set to splitting\n",
    "        seed - int for reproducibility\n",
    "    Output:\n",
    "        train, test, val -  pandas dataframes - result of splitting the data\n",
    "    '''\n",
    "    assert test_size >= val_size\n",
    "    # reading the dataset and suffling it\n",
    "    usecols = [\"review_text\", \"overall_rating\"]\n",
    "    dataset = pd.read_csv(data_in, sep=';', usecols=usecols)\n",
    "    dataset = dataset[dataset.review_text.map(lambda sentence : len(sentence.split())) <= SEQUENCE_MAXLEN]\n",
    "    dataset = filtro(dataset, 'overall_rating', [1,2,3,4,5])\n",
    "    dataset = dataset.sample(frac=1, random_state=seed).reset_index(drop=True)\n",
    "    dataset['review_text'] = dataset['review_text'].map(lambda sentence : preprocess_sentence(sentence))\n",
    "    dataset['overall_rating'] = dataset['overall_rating'].map(lambda rate : rate - 1)\n",
    "    \n",
    "    # splitting the dataset - stratified splitting\n",
    "    overall_size = (val_size + test_size)\n",
    "    train, val = train_test_split(dataset, test_size=overall_size, stratify=dataset['overall_rating'], random_state=seed)\n",
    "    test, val = train_test_split(val, test_size=val_size/overall_size, stratify=val['overall_rating'], random_state=seed)\n",
    "    \n",
    "    # reseting the index and saving the csv files on disk\n",
    "    train.reset_index(drop=True, inplace=True)\n",
    "    val.reset_index(drop=True, inplace=True)\n",
    "    test.reset_index(drop=True, inplace=True)\n",
    "    \n",
    "    train.to_csv(data_out + \"/\" + \"train.csv\", sep=';', index=False)\n",
    "    val.to_csv(data_out + \"/\" + \"val.csv\", sep=';', index=False)\n",
    "    test.to_csv(data_out + \"/\" + \"test.csv\", sep=';', index=False)\n",
    "    \n",
    "    # printing the proportions of each set\n",
    "    print('Train samples size: ', len(train))\n",
    "    print('Val samples size: ', len(val))\n",
    "    print('Test samples size: ', len(test))\n",
    "    print()\n",
    "    print('Train samples %: ', len(train)/(len(train)+len(val) + len(test)))\n",
    "    print('Val samples %: ', len(val)/(len(train)+len(val) + len(test)))\n",
    "    print('Test samples %: ', len(test)/(len(train)+len(val) + len(test)))\n",
    "    print()\n",
    "    print('Preprocessamento realizado com sucesso!')\n",
    "    print('Arquivos csv  persistidos no diretório ' + data_out)\n",
    "    \n",
    "    return train, val, test"
   ]
  },
  {
   "cell_type": "code",
   "execution_count": 7,
   "metadata": {},
   "outputs": [],
   "source": [
    "def create_subset_cbow():\n",
    "    '''\n",
    "    Cria um subconjunto do cbow de 50 dimensões do NILC\n",
    "    200.000 palavras mais frequentes\n",
    "    '''\n",
    "    N = 200001\n",
    "    with open(\"../data/cbow_s50.txt\", \"r\") as file:\n",
    "        head = [next(file) for x in range(N)]\n",
    "\n",
    "    head[0] = str(N-1)+ \" \" + \"50\" + \"\\n\"  # Conserta contagem de palavras\n",
    "    with open(\"../data/word2vec_200k.txt\", \"w\") as file:\n",
    "        for line in head:\n",
    "            file.write(line)\n",
    "\n",
    "    print('Preprocessamento cbow 50 dim do Nilc realizado com sucesso')"
   ]
  },
  {
   "cell_type": "code",
   "execution_count": 8,
   "metadata": {},
   "outputs": [
    {
     "name": "stdout",
     "output_type": "stream",
     "text": [
      "Train samples size:  78501\n",
      "Val samples size:  12078\n",
      "Test samples size:  30193\n",
      "\n",
      "Train samples %:  0.6499933759480674\n",
      "Val samples %:  0.10000662405193257\n",
      "Test samples %:  0.25\n",
      "\n",
      "Preprocessamento realizado com sucesso!\n",
      "Arquivos csv  persistidos no diretório ../data\n",
      "Preprocessamento cbow 50 dim do Nilc realizado com sucesso\n"
     ]
    }
   ],
   "source": [
    "# cria conjuntos de treino, validação e teste.\n",
    "_, _, _ = partilha(\"../data/B2W-Reviews01.csv\", \"../data\", .10, .25)\n",
    "\n",
    "# Cria subconjunto do cbow de 50 dimensões do nilc\n",
    "create_subset_cbow()"
   ]
  },
  {
   "cell_type": "code",
   "execution_count": 9,
   "metadata": {},
   "outputs": [
    {
     "data": {
      "text/plain": [
       "<AxesSubplot:xlabel='overall_rating', ylabel='count'>"
      ]
     },
     "execution_count": 9,
     "metadata": {},
     "output_type": "execute_result"
    },
    {
     "data": {
      "image/png": "[encoded data removed]",
      "text/plain": [
       "<Figure size 432x288 with 1 Axes>"
      ]
     },
     "metadata": {
      "needs_background": "light"
     },
     "output_type": "display_data"
    }
   ],
   "source": [
    "import seaborn as sns\n",
    "\n",
    "sns.countplot(x='overall_rating', data=b2wCorpus)"
   ]
  },
  {
   "cell_type": "code",
   "execution_count": 10,
   "metadata": {},
   "outputs": [
    {
     "ename": "NameError",
     "evalue": "name 'train' is not defined",
     "output_type": "error",
     "traceback": [
      "\u001b[0;31m---------------------------------------------------------------------------\u001b[0m",
      "\u001b[0;31mNameError\u001b[0m                                 Traceback (most recent call last)",
      "\u001b[0;32m<ipython-input-10-2fc38a49c9a4>\u001b[0m in \u001b[0;36m<module>\u001b[0;34m\u001b[0m\n\u001b[0;32m----> 1\u001b[0;31m \u001b[0msns\u001b[0m\u001b[0;34m.\u001b[0m\u001b[0mcountplot\u001b[0m\u001b[0;34m(\u001b[0m\u001b[0mx\u001b[0m\u001b[0;34m=\u001b[0m\u001b[0;34m'overall_rating'\u001b[0m\u001b[0;34m,\u001b[0m \u001b[0mdata\u001b[0m\u001b[0;34m=\u001b[0m\u001b[0mtrain\u001b[0m\u001b[0;34m)\u001b[0m\u001b[0;34m\u001b[0m\u001b[0;34m\u001b[0m\u001b[0m\n\u001b[0m",
      "\u001b[0;31mNameError\u001b[0m: name 'train' is not defined"
     ]
    }
   ],
   "source": [
    "sns.countplot(x='overall_rating', data=train)"
   ]
  },
  {
   "cell_type": "code",
   "execution_count": null,
   "metadata": {
    "scrolled": true
   },
   "outputs": [],
   "source": [
    "sns.countplot(x='overall_rating', data=val)"
   ]
  },
  {
   "cell_type": "code",
   "execution_count": null,
   "metadata": {},
   "outputs": [],
   "source": [
    "sns.countplot(x='overall_rating', data=test)"
   ]
  },
  {
   "cell_type": "code",
   "execution_count": 8,
   "metadata": {},
   "outputs": [
    {
     "data": {
      "image/png": "[encoded data removed]",
      "text/plain": [
       "<Figure size 432x288 with 1 Axes>"
      ]
     },
     "metadata": {
      "needs_background": "light"
     },
     "output_type": "display_data"
    },
    {
     "data": {
      "text/plain": [
       "count    132373.000000\n",
       "mean        141.778505\n",
       "std         137.057280\n",
       "min          50.000000\n",
       "25%          68.000000\n",
       "50%          97.000000\n",
       "75%         160.000000\n",
       "max        4548.000000\n",
       "dtype: float64"
      ]
     },
     "execution_count": 8,
     "metadata": {},
     "output_type": "execute_result"
    }
   ],
   "source": [
    "import pandas as pd\n",
    "import matplotlib.pyplot as plt\n",
    "%matplotlib inline\n",
    "\n",
    "reviews_len = [x for x in b2wCorpus.review_text.map(lambda x : len(x))]\n",
    "pd.Series(reviews_len).hist()\n",
    "plt.show()\n",
    "pd.Series(reviews_len).describe()"
   ]
  },
  {
   "cell_type": "code",
   "execution_count": 65,
   "metadata": {},
   "outputs": [
    {
     "data": {
      "image/png": "[encoded data removed]",
      "text/plain": [
       "<Figure size 432x288 with 1 Axes>"
      ]
     },
     "metadata": {
      "needs_background": "light"
     },
     "output_type": "display_data"
    },
    {
     "data": {
      "text/plain": [
       "count    132373.000000\n",
       "mean         23.877838\n",
       "std          23.870872\n",
       "min           1.000000\n",
       "25%          11.000000\n",
       "50%          16.000000\n",
       "75%          27.000000\n",
       "max         795.000000\n",
       "dtype: float64"
      ]
     },
     "execution_count": 65,
     "metadata": {},
     "output_type": "execute_result"
    }
   ],
   "source": [
    "import pandas as pd\n",
    "import matplotlib.pyplot as plt\n",
    "%matplotlib inline\n",
    "\n",
    "reviews_len = [x for x in b2wCorpus.review_text.map(lambda x : len(x.split()))]\n",
    "pd.Series(reviews_len).hist()\n",
    "plt.show()\n",
    "pd.Series(reviews_len).describe()"
   ]
  },
  {
   "cell_type": "code",
   "execution_count": 60,
   "metadata": {},
   "outputs": [
    {
     "data": {
      "text/plain": [
       "109163"
      ]
     },
     "execution_count": 60,
     "metadata": {},
     "output_type": "execute_result"
    }
   ],
   "source": [
    "len(b2wCorpus[b2wCorpus.review_text.map(lambda x : len(x)) <= 200])"
   ]
  },
  {
   "cell_type": "code",
   "execution_count": 70,
   "metadata": {},
   "outputs": [
    {
     "data": {
      "text/plain": [
       "121507"
      ]
     },
     "execution_count": 70,
     "metadata": {},
     "output_type": "execute_result"
    }
   ],
   "source": [
    "len(b2wCorpus[b2wCorpus.review_text.map(lambda x : len(x)) <= 300])"
   ]
  },
  {
   "cell_type": "code",
   "execution_count": 61,
   "metadata": {},
   "outputs": [],
   "source": [
    "b2wCorpus = b2wCorpus[b2wCorpus.review_text.map(lambda x : len(x.split())) <= 200]"
   ]
  },
  {
   "cell_type": "code",
   "execution_count": 62,
   "metadata": {},
   "outputs": [
    {
     "data": {
      "image/png": "[encoded data removed]",
      "text/plain": [
       "<Figure size 432x288 with 1 Axes>"
      ]
     },
     "metadata": {
      "needs_background": "light"
     },
     "output_type": "display_data"
    },
    {
     "data": {
      "text/plain": [
       "count    109163.000000\n",
       "mean         95.885740\n",
       "std          38.329537\n",
       "min          50.000000\n",
       "25%          65.000000\n",
       "50%          85.000000\n",
       "75%         119.000000\n",
       "max         200.000000\n",
       "dtype: float64"
      ]
     },
     "execution_count": 62,
     "metadata": {},
     "output_type": "execute_result"
    }
   ],
   "source": [
    "import pandas as pd\n",
    "import matplotlib.pyplot as plt\n",
    "%matplotlib inline\n",
    "\n",
    "reviews_len = [x for x in b2wCorpus.review_text.map(lambda x : len(x))]\n",
    "pd.Series(reviews_len).hist()\n",
    "plt.show()\n",
    "pd.Series(reviews_len).describe()"
   ]
  },
  {
   "cell_type": "code",
   "execution_count": 63,
   "metadata": {},
   "outputs": [
    {
     "data": {
      "image/png": "[encoded data removed]",
      "text/plain": [
       "<Figure size 432x288 with 1 Axes>"
      ]
     },
     "metadata": {
      "needs_background": "light"
     },
     "output_type": "display_data"
    },
    {
     "data": {
      "text/plain": [
       "count    109163.000000\n",
       "mean         15.949992\n",
       "std           7.201497\n",
       "min           1.000000\n",
       "25%          10.000000\n",
       "50%          14.000000\n",
       "75%          20.000000\n",
       "max          56.000000\n",
       "dtype: float64"
      ]
     },
     "execution_count": 63,
     "metadata": {},
     "output_type": "execute_result"
    }
   ],
   "source": [
    "import pandas as pd\n",
    "import matplotlib.pyplot as plt\n",
    "%matplotlib inline\n",
    "\n",
    "reviews_len = [x for x in b2wCorpus.review_text.map(lambda x : len(x.split()))]\n",
    "pd.Series(reviews_len).hist()\n",
    "plt.show()\n",
    "pd.Series(reviews_len).describe()"
   ]
  },
  {
   "cell_type": "code",
   "execution_count": 82,
   "metadata": {},
   "outputs": [],
   "source": [
    "s = b2wCorpus[b2wCorpus.review_text.map(lambda x : len(x.split())) <= 50]"
   ]
  },
  {
   "cell_type": "code",
   "execution_count": 83,
   "metadata": {},
   "outputs": [
    {
     "data": {
      "image/png": "[encoded data removed]",
      "text/plain": [
       "<Figure size 432x288 with 1 Axes>"
      ]
     },
     "metadata": {
      "needs_background": "light"
     },
     "output_type": "display_data"
    },
    {
     "data": {
      "text/plain": [
       "count    120772.000000\n",
       "mean         18.283667\n",
       "std          10.178751\n",
       "min           1.000000\n",
       "25%          11.000000\n",
       "50%          15.000000\n",
       "75%          23.000000\n",
       "max          50.000000\n",
       "dtype: float64"
      ]
     },
     "execution_count": 83,
     "metadata": {},
     "output_type": "execute_result"
    }
   ],
   "source": [
    "import pandas as pd\n",
    "import matplotlib.pyplot as plt\n",
    "%matplotlib inline\n",
    "\n",
    "reviews_len = [x for x in s.review_text.map(lambda x : len(x.split()))]\n",
    "pd.Series(reviews_len).hist()\n",
    "plt.show()\n",
    "pd.Series(reviews_len).describe()"
   ]
  },
  {
   "cell_type": "code",
   "execution_count": 85,
   "metadata": {},
   "outputs": [
    {
     "data": {
      "text/plain": [
       "120772"
      ]
     },
     "execution_count": 85,
     "metadata": {},
     "output_type": "execute_result"
    }
   ],
   "source": [
    "len(s)"
   ]
  },
  {
   "cell_type": "code",
   "execution_count": 5,
   "metadata": {},
   "outputs": [
    {
     "data": {
      "text/plain": [
       "(132373, 2)"
      ]
     },
     "execution_count": 5,
     "metadata": {},
     "output_type": "execute_result"
    }
   ],
   "source": [
    "b2wCorpus.shape"
   ]
  },
  {
   "cell_type": "code",
   "execution_count": null,
   "metadata": {},
   "outputs": [],
   "source": []
  }
 ],
 "metadata": {
  "kernelspec": {
   "display_name": "nlp_venv",
   "language": "python",
   "name": "nlp_venv"
  },
  "language_info": {
   "codemirror_mode": {
    "name": "ipython",
    "version": 3
   },
   "file_extension": ".py",
   "mimetype": "text/x-python",
   "name": "python",
   "nbconvert_exporter": "python",
   "pygments_lexer": "ipython3",
   "version": "3.6.9"
  }
 },
 "nbformat": 4,
 "nbformat_minor": 2
}
